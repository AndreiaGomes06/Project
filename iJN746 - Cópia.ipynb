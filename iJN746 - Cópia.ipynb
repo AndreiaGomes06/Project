{
 "cells": [
  {
   "cell_type": "code",
   "execution_count": 1,
   "id": "a376ab8a",
   "metadata": {},
   "outputs": [],
   "source": [
    "import cobra"
   ]
  },
  {
   "cell_type": "code",
   "execution_count": 2,
   "id": "1748b4e1",
   "metadata": {},
   "outputs": [],
   "source": [
    "from cobra import Model, Reaction, Metabolite"
   ]
  },
  {
   "cell_type": "code",
   "execution_count": 3,
   "id": "fb85d91b",
   "metadata": {},
   "outputs": [],
   "source": [
    "import mewpy"
   ]
  },
  {
   "cell_type": "code",
   "execution_count": 4,
   "id": "ff04295b",
   "metadata": {},
   "outputs": [],
   "source": [
    "from mewpy.simulation import SimulationMethod"
   ]
  },
  {
   "cell_type": "code",
   "execution_count": 5,
   "id": "cb9fbee4",
   "metadata": {},
   "outputs": [],
   "source": [
    "from mewpy.optimization.evaluation import BPCY,WYIELD"
   ]
  },
  {
   "cell_type": "code",
   "execution_count": 6,
   "id": "048c5d6a",
   "metadata": {},
   "outputs": [],
   "source": [
    "from mewpy.problems import GOUProblem"
   ]
  },
  {
   "cell_type": "code",
   "execution_count": 7,
   "id": "c8879a6e",
   "metadata": {},
   "outputs": [
    {
     "name": "stdout",
     "output_type": "stream",
     "text": [
      "C:\\Users\\Asus\\Desktop\\Bioinformática\\2º Semestre\\Projeto de Bioinformática e Biologia de Sistemas\n"
     ]
    }
   ],
   "source": [
    "cd \"C:\\Users\\Asus\\Desktop\\Bioinformática\\2º Semestre\\Projeto de Bioinformática e Biologia de Sistemas\""
   ]
  },
  {
   "cell_type": "code",
   "execution_count": 8,
   "id": "0456f956",
   "metadata": {},
   "outputs": [],
   "source": [
    "M_1_1 = cobra.io.read_sbml_model('iJN746.xml')"
   ]
  },
  {
   "cell_type": "code",
   "execution_count": 9,
   "id": "28e9a33a",
   "metadata": {},
   "outputs": [
    {
     "name": "stdout",
     "output_type": "stream",
     "text": [
      "Number of reactions:  1054\n",
      "Number of metabolites:  907\n",
      "Number of genes:  746\n"
     ]
    }
   ],
   "source": [
    "print('Number of reactions: ',len(M_1_1.reactions))\n",
    "print('Number of metabolites: ',len(M_1_1.metabolites))\n",
    "print('Number of genes: ',len(M_1_1.genes))"
   ]
  },
  {
   "cell_type": "markdown",
   "id": "8f9b0c23",
   "metadata": {},
   "source": [
    "### Função objetivo e fluxo da biomassa no wild type"
   ]
  },
  {
   "cell_type": "code",
   "execution_count": 10,
   "id": "190d71ec",
   "metadata": {},
   "outputs": [],
   "source": [
    "objective2 = M_1_1.problem.Objective(\n",
    "    M_1_1.reactions.BIOMASS_KT_TEMP.flux_expression,\n",
    "    direction = 'max')"
   ]
  },
  {
   "cell_type": "code",
   "execution_count": 11,
   "id": "b91ef48c",
   "metadata": {},
   "outputs": [],
   "source": [
    "M_1_1.objective = objective2"
   ]
  },
  {
   "cell_type": "code",
   "execution_count": 12,
   "id": "e485a8c9",
   "metadata": {},
   "outputs": [
    {
     "data": {
      "text/latex": [
       "$\\displaystyle 1.0 BIOMASS_{KT TEMP} - 1.0 BIOMASS_{KT TEMP reverse d18f7}$"
      ],
      "text/plain": [
       "1.0*BIOMASS_KT_TEMP - 1.0*BIOMASS_KT_TEMP_reverse_d18f7"
      ]
     },
     "execution_count": 12,
     "metadata": {},
     "output_type": "execute_result"
    }
   ],
   "source": [
    "M_1_1.objective.expression"
   ]
  },
  {
   "cell_type": "code",
   "execution_count": 13,
   "id": "e16bd303",
   "metadata": {},
   "outputs": [
    {
     "data": {
      "text/html": [
       "<h3>Objective</h3><p>1.0 BIOMASS_KT_TEMP = 1.4</p><h4>Uptake</h4><table border=\"1\" class=\"dataframe\">\n",
       "  <thead>\n",
       "    <tr style=\"text-align: right;\">\n",
       "      <th>Metabolite</th>\n",
       "      <th>Reaction</th>\n",
       "      <th>Flux</th>\n",
       "      <th>C-Number</th>\n",
       "      <th>C-Flux</th>\n",
       "    </tr>\n",
       "  </thead>\n",
       "  <tbody>\n",
       "    <tr>\n",
       "      <td>fe2_e</td>\n",
       "      <td>EX_fe2_e</td>\n",
       "      <td>0.0014</td>\n",
       "      <td>0</td>\n",
       "      <td>0.00%</td>\n",
       "    </tr>\n",
       "    <tr>\n",
       "      <td>glc__D_e</td>\n",
       "      <td>EX_glc__D_e</td>\n",
       "      <td>8.262</td>\n",
       "      <td>6</td>\n",
       "      <td>87.72%</td>\n",
       "    </tr>\n",
       "    <tr>\n",
       "      <td>nh4_e</td>\n",
       "      <td>EX_nh4_e</td>\n",
       "      <td>14.44</td>\n",
       "      <td>0</td>\n",
       "      <td>0.00%</td>\n",
       "    </tr>\n",
       "    <tr>\n",
       "      <td>o2_e</td>\n",
       "      <td>EX_o2_e</td>\n",
       "      <td>4.065</td>\n",
       "      <td>0</td>\n",
       "      <td>0.00%</td>\n",
       "    </tr>\n",
       "    <tr>\n",
       "      <td>pi_e</td>\n",
       "      <td>EX_pi_e</td>\n",
       "      <td>1.072</td>\n",
       "      <td>0</td>\n",
       "      <td>0.00%</td>\n",
       "    </tr>\n",
       "    <tr>\n",
       "      <td>so4_e</td>\n",
       "      <td>EX_so4_e</td>\n",
       "      <td>0.3263</td>\n",
       "      <td>0</td>\n",
       "      <td>0.00%</td>\n",
       "    </tr>\n",
       "    <tr>\n",
       "      <td>mhpglu_c</td>\n",
       "      <td>SK_5mthglu_c</td>\n",
       "      <td>0.2744</td>\n",
       "      <td>25</td>\n",
       "      <td>12.14%</td>\n",
       "    </tr>\n",
       "    <tr>\n",
       "      <td>dna5mtc_c</td>\n",
       "      <td>SK_dna5mtc_c</td>\n",
       "      <td>0.007</td>\n",
       "      <td>11</td>\n",
       "      <td>0.14%</td>\n",
       "    </tr>\n",
       "  </tbody>\n",
       "</table><h4>Secretion</h4><table border=\"1\" class=\"dataframe\">\n",
       "  <thead>\n",
       "    <tr style=\"text-align: right;\">\n",
       "      <th>Metabolite</th>\n",
       "      <th>Reaction</th>\n",
       "      <th>Flux</th>\n",
       "      <th>C-Number</th>\n",
       "      <th>C-Flux</th>\n",
       "    </tr>\n",
       "  </thead>\n",
       "  <tbody>\n",
       "    <tr>\n",
       "      <td>co2_e</td>\n",
       "      <td>EX_co2_e</td>\n",
       "      <td>-2.919</td>\n",
       "      <td>1</td>\n",
       "      <td>28.15%</td>\n",
       "    </tr>\n",
       "    <tr>\n",
       "      <td>glyclt_e</td>\n",
       "      <td>EX_glyclt_e</td>\n",
       "      <td>-0.07</td>\n",
       "      <td>2</td>\n",
       "      <td>1.35%</td>\n",
       "    </tr>\n",
       "    <tr>\n",
       "      <td>h2o_e</td>\n",
       "      <td>EX_h2o_e</td>\n",
       "      <td>-30.52</td>\n",
       "      <td>0</td>\n",
       "      <td>0.00%</td>\n",
       "    </tr>\n",
       "    <tr>\n",
       "      <td>h_e</td>\n",
       "      <td>EX_h_e</td>\n",
       "      <td>-13.31</td>\n",
       "      <td>0</td>\n",
       "      <td>0.00%</td>\n",
       "    </tr>\n",
       "    <tr>\n",
       "      <td>hco3_e</td>\n",
       "      <td>EX_hco3_e</td>\n",
       "      <td>-0.6526</td>\n",
       "      <td>1</td>\n",
       "      <td>6.29%</td>\n",
       "    </tr>\n",
       "    <tr>\n",
       "      <td>dna_c</td>\n",
       "      <td>SK_dna_c</td>\n",
       "      <td>-0.007</td>\n",
       "      <td>10</td>\n",
       "      <td>0.68%</td>\n",
       "    </tr>\n",
       "    <tr>\n",
       "      <td>hpglu_c</td>\n",
       "      <td>SK_thglu_c</td>\n",
       "      <td>-0.2744</td>\n",
       "      <td>24</td>\n",
       "      <td>63.52%</td>\n",
       "    </tr>\n",
       "  </tbody>\n",
       "</table>"
      ],
      "text/plain": [
       "<cobra.summary.model_summary.ModelSummary at 0x26d453a1e50>"
      ]
     },
     "execution_count": 13,
     "metadata": {},
     "output_type": "execute_result"
    }
   ],
   "source": [
    "M_1_1.summary()"
   ]
  },
  {
   "cell_type": "markdown",
   "id": "d8c92e72",
   "metadata": {},
   "source": [
    "#### Via de produção da dTDP-L-rhamnose"
   ]
  },
  {
   "cell_type": "markdown",
   "id": "6e460610",
   "metadata": {},
   "source": [
    "Reaction 1: alfa-D-Glucose-6-phosphate -> D-glucose-1-phosphate"
   ]
  },
  {
   "cell_type": "markdown",
   "id": "ba103a4a",
   "metadata": {},
   "source": [
    "-> sendo que d glucose 1 fosfato existe poderiamos eliminar esta reação e utilizar diretamente a partir da do meio"
   ]
  },
  {
   "cell_type": "markdown",
   "id": "9ca064a0",
   "metadata": {},
   "source": [
    "Reaction 2: D-glucose-1-phosphate -> dTDP-d-glucose"
   ]
  },
  {
   "cell_type": "code",
   "execution_count": 14,
   "id": "d7949c91",
   "metadata": {},
   "outputs": [
    {
     "data": {
      "text/plain": [
       "'dttp_c + g1p_c + h_c --> dtdpglu + ppi_c'"
      ]
     },
     "execution_count": 14,
     "metadata": {},
     "output_type": "execute_result"
    }
   ],
   "source": [
    "reaction2 = Reaction('d_glucose')\n",
    "reaction2.name = 'r_d_glucose'\n",
    "reaction2.lower_bound = 0.\n",
    "reaction2.upper_bound = 1000.0\n",
    "\n",
    "dglu = Metabolite(\n",
    "      'dtdpglu',\n",
    "      formula = 'C16H24N2O16P2',\n",
    "      name = 'dTDP-d-glucose',\n",
    "      compartment = 'c')\n",
    "\n",
    "\n",
    "reaction2.add_metabolites({\n",
    "    M_1_1.metabolites.dttp_c:-1.0,\n",
    "    M_1_1.metabolites.g1p_c:-1.0,\n",
    "    M_1_1.metabolites.h_c:-1.0,\n",
    "    dglu:1.0,\n",
    "    M_1_1.metabolites.ppi_c:1.0})\n",
    "\n",
    "reaction2.reaction"
   ]
  },
  {
   "cell_type": "code",
   "execution_count": 15,
   "id": "1ad1b175",
   "metadata": {},
   "outputs": [
    {
     "data": {
      "text/html": [
       "\n",
       "        <table>\n",
       "            <tr>\n",
       "                <td><strong>Reaction identifier</strong></td><td>d_glucose</td>\n",
       "            </tr><tr>\n",
       "                <td><strong>Name</strong></td><td>r_d_glucose</td>\n",
       "            </tr><tr>\n",
       "                <td><strong>Memory address</strong></td>\n",
       "                <td>0x26d457d7970</td>\n",
       "            </tr><tr>\n",
       "                <td><strong>Stoichiometry</strong></td>\n",
       "                <td>\n",
       "                    <p style='text-align:right'>dttp_c + g1p_c + h_c --> dtdpglu + ppi_c</p>\n",
       "                    <p style='text-align:right'>DTTP C10H13N2O14P3 + D-Glucose 1-phosphate + H+ --> dTDP-d-glucose + Diphosphate</p>\n",
       "                </td>\n",
       "            </tr><tr>\n",
       "                <td><strong>GPR</strong></td><td></td>\n",
       "            </tr><tr>\n",
       "                <td><strong>Lower bound</strong></td><td>0.0</td>\n",
       "            </tr><tr>\n",
       "                <td><strong>Upper bound</strong></td><td>1000.0</td>\n",
       "            </tr>\n",
       "        </table>\n",
       "        "
      ],
      "text/plain": [
       "<Reaction d_glucose at 0x26d457d7970>"
      ]
     },
     "execution_count": 15,
     "metadata": {},
     "output_type": "execute_result"
    }
   ],
   "source": [
    "M_1_1.add_reaction(reaction2)\n",
    "M_1_1.reactions.d_glucose"
   ]
  },
  {
   "cell_type": "markdown",
   "id": "344b676f",
   "metadata": {},
   "source": [
    "Reaction 3: dTDP-d-glucose -> 4,6-Dideoxy-4-oxo-dTDP-D-glucose"
   ]
  },
  {
   "cell_type": "code",
   "execution_count": 16,
   "id": "aba7d249",
   "metadata": {},
   "outputs": [
    {
     "data": {
      "text/plain": [
       "'dtdpglu --> dioxoglu + h2o_c'"
      ]
     },
     "execution_count": 16,
     "metadata": {},
     "output_type": "execute_result"
    }
   ],
   "source": [
    "reaction3 = Reaction('dioxiglucose')\n",
    "reaction3.name = 'r_4,6-Dideoxy-4-oxo-dTDP-D-glucose'\n",
    "reaction3.lower_bound = 0.\n",
    "reaction3.upper_bound = 1000.0\n",
    "\n",
    "dioxoglu = Metabolite(\n",
    "      'dioxoglu',\n",
    "      formula = 'C16H24N2O15P2',\n",
    "      name = '4,6-Dideoxy-4-oxo-dTDP-D-glucose',\n",
    "      compartment = 'c')\n",
    "\n",
    "\n",
    "reaction3.add_metabolites({\n",
    "    M_1_1.metabolites.dtdpglu:-1.0,\n",
    "    dioxoglu:1.0,\n",
    "    M_1_1.metabolites.h2o_c:1.0})\n",
    "\n",
    "reaction3.reaction"
   ]
  },
  {
   "cell_type": "code",
   "execution_count": 17,
   "id": "d3e95bb2",
   "metadata": {},
   "outputs": [
    {
     "data": {
      "text/html": [
       "\n",
       "        <table>\n",
       "            <tr>\n",
       "                <td><strong>Reaction identifier</strong></td><td>dioxiglucose</td>\n",
       "            </tr><tr>\n",
       "                <td><strong>Name</strong></td><td>r_4,6-Dideoxy-4-oxo-dTDP-D-glucose</td>\n",
       "            </tr><tr>\n",
       "                <td><strong>Memory address</strong></td>\n",
       "                <td>0x26d453a1760</td>\n",
       "            </tr><tr>\n",
       "                <td><strong>Stoichiometry</strong></td>\n",
       "                <td>\n",
       "                    <p style='text-align:right'>dtdpglu --> dioxoglu + h2o_c</p>\n",
       "                    <p style='text-align:right'>dTDP-d-glucose --> 4,6-Dideoxy-4-oxo-dTDP-D-glucose + H2O H2O</p>\n",
       "                </td>\n",
       "            </tr><tr>\n",
       "                <td><strong>GPR</strong></td><td></td>\n",
       "            </tr><tr>\n",
       "                <td><strong>Lower bound</strong></td><td>0.0</td>\n",
       "            </tr><tr>\n",
       "                <td><strong>Upper bound</strong></td><td>1000.0</td>\n",
       "            </tr>\n",
       "        </table>\n",
       "        "
      ],
      "text/plain": [
       "<Reaction dioxiglucose at 0x26d453a1760>"
      ]
     },
     "execution_count": 17,
     "metadata": {},
     "output_type": "execute_result"
    }
   ],
   "source": [
    "M_1_1.add_reaction(reaction3)\n",
    "M_1_1.reactions.dioxiglucose"
   ]
  },
  {
   "cell_type": "markdown",
   "id": "6cd0e36a",
   "metadata": {},
   "source": [
    "Reaction 4: 4,6-Dideoxy-4-oxo-dTDP-D-glucose -> dTDP-4-oxo-5-C-methyl-L-rhamnose"
   ]
  },
  {
   "cell_type": "code",
   "execution_count": 18,
   "id": "5171a8ab",
   "metadata": {},
   "outputs": [
    {
     "data": {
      "text/plain": [
       "'dioxoglu --> oxormn'"
      ]
     },
     "execution_count": 18,
     "metadata": {},
     "output_type": "execute_result"
    }
   ],
   "source": [
    "reaction4 = Reaction('oxorhamnose')\n",
    "reaction4.name = 'r_dTDP-4-oxo-5-C-methyl-L-rhamnose'\n",
    "reaction4.lower_bound = 0.\n",
    "reaction4.upper_bound = 1000.0\n",
    "\n",
    "oxormn = Metabolite(\n",
    "      'oxormn',\n",
    "      formula = 'C17H26N2O15P2',\n",
    "      name = 'dTDP-4-oxo-5-C-methyl-L-rhamnose',\n",
    "      compartment = 'c')\n",
    "\n",
    "\n",
    "reaction4.add_metabolites({\n",
    "    M_1_1.metabolites.dioxoglu:-1.0,\n",
    "    oxormn:1.0})\n",
    "\n",
    "reaction4.reaction"
   ]
  },
  {
   "cell_type": "code",
   "execution_count": 19,
   "id": "40725ff2",
   "metadata": {},
   "outputs": [
    {
     "data": {
      "text/html": [
       "\n",
       "        <table>\n",
       "            <tr>\n",
       "                <td><strong>Reaction identifier</strong></td><td>oxorhamnose</td>\n",
       "            </tr><tr>\n",
       "                <td><strong>Name</strong></td><td>r_dTDP-4-oxo-5-C-methyl-L-rhamnose</td>\n",
       "            </tr><tr>\n",
       "                <td><strong>Memory address</strong></td>\n",
       "                <td>0x26d457d7820</td>\n",
       "            </tr><tr>\n",
       "                <td><strong>Stoichiometry</strong></td>\n",
       "                <td>\n",
       "                    <p style='text-align:right'>dioxoglu --> oxormn</p>\n",
       "                    <p style='text-align:right'>4,6-Dideoxy-4-oxo-dTDP-D-glucose --> dTDP-4-oxo-5-C-methyl-L-rhamnose</p>\n",
       "                </td>\n",
       "            </tr><tr>\n",
       "                <td><strong>GPR</strong></td><td></td>\n",
       "            </tr><tr>\n",
       "                <td><strong>Lower bound</strong></td><td>0.0</td>\n",
       "            </tr><tr>\n",
       "                <td><strong>Upper bound</strong></td><td>1000.0</td>\n",
       "            </tr>\n",
       "        </table>\n",
       "        "
      ],
      "text/plain": [
       "<Reaction oxorhamnose at 0x26d457d7820>"
      ]
     },
     "execution_count": 19,
     "metadata": {},
     "output_type": "execute_result"
    }
   ],
   "source": [
    "M_1_1.add_reaction(reaction4)\n",
    "M_1_1.reactions.oxorhamnose"
   ]
  },
  {
   "cell_type": "markdown",
   "id": "23b9a958",
   "metadata": {},
   "source": [
    "Reaction 5: dTDP-4-oxo-5-C-methyl-L-rhamnose -> dDTP-L-rhamnose"
   ]
  },
  {
   "cell_type": "code",
   "execution_count": 20,
   "id": "0abdd0c7",
   "metadata": {},
   "outputs": [
    {
     "data": {
      "text/plain": [
       "'h_c + nadph_c + oxormn --> dtdprmn + nadp_c'"
      ]
     },
     "execution_count": 20,
     "metadata": {},
     "output_type": "execute_result"
    }
   ],
   "source": [
    "reaction5 = Reaction('rhamnose')\n",
    "reaction5.name = 'r_dDTP-L-rhamnose'\n",
    "reaction5.lower_bound = 0.\n",
    "reaction5.upper_bound = 1000.0\n",
    "\n",
    "dtdprmn = Metabolite(\n",
    "      'dtdprmn',\n",
    "      formula = 'C16H24N2O15P2',\n",
    "      name = 'dDTP-L-rhamnose',\n",
    "      compartment = 'c')\n",
    "\n",
    "\n",
    "reaction5.add_metabolites({\n",
    "    M_1_1.metabolites.h_c:-1.0,\n",
    "    M_1_1.metabolites.nadph_c:-1.0,\n",
    "    M_1_1.metabolites.oxormn:-1.0,\n",
    "    dtdprmn:1.0,\n",
    "    M_1_1.metabolites.nadp_c:1.0})\n",
    "\n",
    "reaction5.reaction"
   ]
  },
  {
   "cell_type": "code",
   "execution_count": 21,
   "id": "afc3aec7",
   "metadata": {},
   "outputs": [
    {
     "data": {
      "text/html": [
       "\n",
       "        <table>\n",
       "            <tr>\n",
       "                <td><strong>Reaction identifier</strong></td><td>rhamnose</td>\n",
       "            </tr><tr>\n",
       "                <td><strong>Name</strong></td><td>r_dDTP-L-rhamnose</td>\n",
       "            </tr><tr>\n",
       "                <td><strong>Memory address</strong></td>\n",
       "                <td>0x26d457e5730</td>\n",
       "            </tr><tr>\n",
       "                <td><strong>Stoichiometry</strong></td>\n",
       "                <td>\n",
       "                    <p style='text-align:right'>h_c + nadph_c + oxormn --> dtdprmn + nadp_c</p>\n",
       "                    <p style='text-align:right'>H+ + Nicotinamide adenine dinucleotide phosphate - reduced + dTDP-4-oxo-5-C-methyl-L-rhamnose --> dDTP-L-rhamnose + Nicotinamide adenine dinucleotide phosphate</p>\n",
       "                </td>\n",
       "            </tr><tr>\n",
       "                <td><strong>GPR</strong></td><td></td>\n",
       "            </tr><tr>\n",
       "                <td><strong>Lower bound</strong></td><td>0.0</td>\n",
       "            </tr><tr>\n",
       "                <td><strong>Upper bound</strong></td><td>1000.0</td>\n",
       "            </tr>\n",
       "        </table>\n",
       "        "
      ],
      "text/plain": [
       "<Reaction rhamnose at 0x26d457e5730>"
      ]
     },
     "execution_count": 21,
     "metadata": {},
     "output_type": "execute_result"
    }
   ],
   "source": [
    "M_1_1.add_reaction(reaction5)\n",
    "M_1_1.reactions.rhamnose"
   ]
  },
  {
   "cell_type": "code",
   "execution_count": 22,
   "id": "5eb80eaf",
   "metadata": {},
   "outputs": [
    {
     "name": "stdout",
     "output_type": "stream",
     "text": [
      "Number of reactions:  1058\n",
      "Number of metabolites:  911\n",
      "Number of genes:  746\n"
     ]
    }
   ],
   "source": [
    "print('Number of reactions: ',len(M_1_1.reactions))\n",
    "print('Number of metabolites: ',len(M_1_1.metabolites))\n",
    "print('Number of genes: ',len(M_1_1.genes))"
   ]
  },
  {
   "cell_type": "markdown",
   "id": "18d9709b",
   "metadata": {},
   "source": [
    "#### Via de produção do β -hydroxyacyl-ACP"
   ]
  },
  {
   "cell_type": "markdown",
   "id": "7a355922",
   "metadata": {},
   "source": [
    "Reaction 6: Acetyl-CoA -> Malonyl-CoA"
   ]
  },
  {
   "cell_type": "code",
   "execution_count": 23,
   "id": "1af9ca98",
   "metadata": {},
   "outputs": [
    {
     "data": {
      "text/plain": [
       "'accoa_c --> malcoame'"
      ]
     },
     "execution_count": 23,
     "metadata": {},
     "output_type": "execute_result"
    }
   ],
   "source": [
    "reaction6 = Reaction('MalonylCoA')\n",
    "reaction6.name = 'r_MalonylCoA'\n",
    "reaction6.lower_bound = 0.\n",
    "reaction6.upper_bound = 1000.\n",
    "\n",
    "malcoame = Metabolite(\n",
    "      'malcoame',\n",
    "      formula = 'C25H36N7O19P3S',\n",
    "      name = 'Malonyl-CoA',\n",
    "      compartment = 'c')\n",
    "\n",
    "\n",
    "reaction6.add_metabolites({\n",
    "    M_1_1.metabolites.accoa_c:-1.0,\n",
    "    malcoame:1.0})\n",
    "\n",
    "reaction6.reaction"
   ]
  },
  {
   "cell_type": "code",
   "execution_count": 24,
   "id": "3bdb2255",
   "metadata": {},
   "outputs": [
    {
     "data": {
      "text/html": [
       "\n",
       "        <table>\n",
       "            <tr>\n",
       "                <td><strong>Reaction identifier</strong></td><td>MalonylCoA</td>\n",
       "            </tr><tr>\n",
       "                <td><strong>Name</strong></td><td>r_MalonylCoA</td>\n",
       "            </tr><tr>\n",
       "                <td><strong>Memory address</strong></td>\n",
       "                <td>0x26d457f4340</td>\n",
       "            </tr><tr>\n",
       "                <td><strong>Stoichiometry</strong></td>\n",
       "                <td>\n",
       "                    <p style='text-align:right'>accoa_c --> malcoame</p>\n",
       "                    <p style='text-align:right'>Acetyl-CoA --> Malonyl-CoA</p>\n",
       "                </td>\n",
       "            </tr><tr>\n",
       "                <td><strong>GPR</strong></td><td></td>\n",
       "            </tr><tr>\n",
       "                <td><strong>Lower bound</strong></td><td>0.0</td>\n",
       "            </tr><tr>\n",
       "                <td><strong>Upper bound</strong></td><td>1000.0</td>\n",
       "            </tr>\n",
       "        </table>\n",
       "        "
      ],
      "text/plain": [
       "<Reaction MalonylCoA at 0x26d457f4340>"
      ]
     },
     "execution_count": 24,
     "metadata": {},
     "output_type": "execute_result"
    }
   ],
   "source": [
    "M_1_1.add_reaction(reaction6)\n",
    "M_1_1.reactions.MalonylCoA"
   ]
  },
  {
   "cell_type": "markdown",
   "id": "11ef9f44",
   "metadata": {},
   "source": [
    "Reaction 7: Malonyl-CoA -> Malonyl-ACP "
   ]
  },
  {
   "cell_type": "code",
   "execution_count": 25,
   "id": "0a5d86d3",
   "metadata": {},
   "outputs": [
    {
     "data": {
      "text/plain": [
       "'malcoame --> malmeACP'"
      ]
     },
     "execution_count": 25,
     "metadata": {},
     "output_type": "execute_result"
    }
   ],
   "source": [
    "reaction7 = Reaction('MalonylACP')\n",
    "reaction7.name = 'r_Malonyl-ACP'\n",
    "reaction7.lower_bound = 0.\n",
    "reaction7.upper_bound = 1000.\n",
    "\n",
    "malmeACP = Metabolite(\n",
    "      'malmeACP',\n",
    "      formula = 'C15H25N2O10PRS',\n",
    "      name = 'Malonyl-ACP',\n",
    "      compartment = 'c')\n",
    "\n",
    "\n",
    "reaction7.add_metabolites({\n",
    "    M_1_1.metabolites.malcoame:-1.0,\n",
    "    malmeACP:1.0})\n",
    "\n",
    "reaction7.reaction"
   ]
  },
  {
   "cell_type": "code",
   "execution_count": 26,
   "id": "828e4918",
   "metadata": {},
   "outputs": [
    {
     "data": {
      "text/html": [
       "\n",
       "        <table>\n",
       "            <tr>\n",
       "                <td><strong>Reaction identifier</strong></td><td>MalonylACP</td>\n",
       "            </tr><tr>\n",
       "                <td><strong>Name</strong></td><td>r_Malonyl-ACP</td>\n",
       "            </tr><tr>\n",
       "                <td><strong>Memory address</strong></td>\n",
       "                <td>0x26d457b3a60</td>\n",
       "            </tr><tr>\n",
       "                <td><strong>Stoichiometry</strong></td>\n",
       "                <td>\n",
       "                    <p style='text-align:right'>malcoame --> malmeACP</p>\n",
       "                    <p style='text-align:right'>Malonyl-CoA --> Malonyl-ACP</p>\n",
       "                </td>\n",
       "            </tr><tr>\n",
       "                <td><strong>GPR</strong></td><td></td>\n",
       "            </tr><tr>\n",
       "                <td><strong>Lower bound</strong></td><td>0.0</td>\n",
       "            </tr><tr>\n",
       "                <td><strong>Upper bound</strong></td><td>1000.0</td>\n",
       "            </tr>\n",
       "        </table>\n",
       "        "
      ],
      "text/plain": [
       "<Reaction MalonylACP at 0x26d457b3a60>"
      ]
     },
     "execution_count": 26,
     "metadata": {},
     "output_type": "execute_result"
    }
   ],
   "source": [
    "M_1_1.add_reaction(reaction7)\n",
    "M_1_1.reactions.MalonylACP"
   ]
  },
  {
   "cell_type": "markdown",
   "id": "1f9fffaa",
   "metadata": {},
   "source": [
    "Reaction 8: Malonyl-ACP -> β-ketoacyl-ACP"
   ]
  },
  {
   "cell_type": "code",
   "execution_count": 27,
   "id": "410573b8",
   "metadata": {},
   "outputs": [
    {
     "data": {
      "text/plain": [
       "'malmeACP --> actACP_c'"
      ]
     },
     "execution_count": 27,
     "metadata": {},
     "output_type": "execute_result"
    }
   ],
   "source": [
    "reaction8 = Reaction('ketoacylACP')\n",
    "reaction8.name = 'r_ketoacyl-ACP'\n",
    "reaction8.lower_bound = 0.\n",
    "reaction8.upper_bound = 1000.\n",
    "\n",
    "reaction8.add_metabolites({\n",
    "    M_1_1.metabolites.malmeACP:-1.0,\n",
    "    M_1_1.metabolites.actACP_c:1.0})\n",
    "\n",
    "reaction8.reaction"
   ]
  },
  {
   "cell_type": "code",
   "execution_count": 28,
   "id": "1713a3d0",
   "metadata": {},
   "outputs": [
    {
     "data": {
      "text/html": [
       "\n",
       "        <table>\n",
       "            <tr>\n",
       "                <td><strong>Reaction identifier</strong></td><td>ketoacylACP</td>\n",
       "            </tr><tr>\n",
       "                <td><strong>Name</strong></td><td>r_ketoacyl-ACP</td>\n",
       "            </tr><tr>\n",
       "                <td><strong>Memory address</strong></td>\n",
       "                <td>0x26d457e5850</td>\n",
       "            </tr><tr>\n",
       "                <td><strong>Stoichiometry</strong></td>\n",
       "                <td>\n",
       "                    <p style='text-align:right'>malmeACP --> actACP_c</p>\n",
       "                    <p style='text-align:right'>Malonyl-ACP --> Acetoacetyl-ACP</p>\n",
       "                </td>\n",
       "            </tr><tr>\n",
       "                <td><strong>GPR</strong></td><td></td>\n",
       "            </tr><tr>\n",
       "                <td><strong>Lower bound</strong></td><td>0.0</td>\n",
       "            </tr><tr>\n",
       "                <td><strong>Upper bound</strong></td><td>1000.0</td>\n",
       "            </tr>\n",
       "        </table>\n",
       "        "
      ],
      "text/plain": [
       "<Reaction ketoacylACP at 0x26d457e5850>"
      ]
     },
     "execution_count": 28,
     "metadata": {},
     "output_type": "execute_result"
    }
   ],
   "source": [
    "M_1_1.add_reaction(reaction8)\n",
    "M_1_1.reactions.ketoacylACP"
   ]
  },
  {
   "cell_type": "markdown",
   "id": "f77c6aeb",
   "metadata": {},
   "source": [
    "Reaction 9: β-ketoacyl-ACP -> β-hydroxyacyl-ACP"
   ]
  },
  {
   "cell_type": "code",
   "execution_count": 29,
   "id": "10ff4fd1",
   "metadata": {},
   "outputs": [
    {
     "data": {
      "text/plain": [
       "'actACP_c --> hyacyACP'"
      ]
     },
     "execution_count": 29,
     "metadata": {},
     "output_type": "execute_result"
    }
   ],
   "source": [
    "reaction9 = Reaction('hydroxyacylACP')\n",
    "reaction9.name = 'r_hydroxyacyl-ACP'\n",
    "reaction9.lower_bound = 0.\n",
    "reaction9.upper_bound = 1000.\n",
    "\n",
    "hyacyACP = Metabolite(\n",
    "      'hyacyACP',\n",
    "      formula = 'C10H17O2S',\n",
    "      name = 'β-hydroxyacyl-ACP',\n",
    "      compartment = 'c')\n",
    "\n",
    "\n",
    "reaction9.add_metabolites({\n",
    "    M_1_1.metabolites.actACP_c:-1.0,\n",
    "    hyacyACP:1.0})\n",
    "\n",
    "reaction9.reaction"
   ]
  },
  {
   "cell_type": "code",
   "execution_count": 30,
   "id": "e3c8bc45",
   "metadata": {},
   "outputs": [
    {
     "data": {
      "text/html": [
       "\n",
       "        <table>\n",
       "            <tr>\n",
       "                <td><strong>Reaction identifier</strong></td><td>hydroxyacylACP</td>\n",
       "            </tr><tr>\n",
       "                <td><strong>Name</strong></td><td>r_hydroxyacyl-ACP</td>\n",
       "            </tr><tr>\n",
       "                <td><strong>Memory address</strong></td>\n",
       "                <td>0x26d457e52b0</td>\n",
       "            </tr><tr>\n",
       "                <td><strong>Stoichiometry</strong></td>\n",
       "                <td>\n",
       "                    <p style='text-align:right'>actACP_c --> hyacyACP</p>\n",
       "                    <p style='text-align:right'>Acetoacetyl-ACP --> β-hydroxyacyl-ACP</p>\n",
       "                </td>\n",
       "            </tr><tr>\n",
       "                <td><strong>GPR</strong></td><td></td>\n",
       "            </tr><tr>\n",
       "                <td><strong>Lower bound</strong></td><td>0.0</td>\n",
       "            </tr><tr>\n",
       "                <td><strong>Upper bound</strong></td><td>1000.0</td>\n",
       "            </tr>\n",
       "        </table>\n",
       "        "
      ],
      "text/plain": [
       "<Reaction hydroxyacylACP at 0x26d457e52b0>"
      ]
     },
     "execution_count": 30,
     "metadata": {},
     "output_type": "execute_result"
    }
   ],
   "source": [
    "M_1_1.add_reaction(reaction9)\n",
    "M_1_1.reactions.hydroxyacylACP"
   ]
  },
  {
   "cell_type": "markdown",
   "id": "b31d1526",
   "metadata": {},
   "source": [
    "Reaction 10: β-hydroxyacyl-ACP -> β-D-(β-D-hydroxyalkanoyloxy)alkanoic acid (HAA)"
   ]
  },
  {
   "cell_type": "code",
   "execution_count": 31,
   "id": "f70cddaa",
   "metadata": {},
   "outputs": [
    {
     "data": {
      "text/plain": [
       "'hyacyACP --> HAA'"
      ]
     },
     "execution_count": 31,
     "metadata": {},
     "output_type": "execute_result"
    }
   ],
   "source": [
    "reaction10 = Reaction('HAA')\n",
    "reaction10.name = 'r_HAA'\n",
    "reaction10.lower_bound = 0.\n",
    "reaction10.upper_bound = 1000.\n",
    "\n",
    "HAA = Metabolite(\n",
    "      'HAA',\n",
    "      formula = 'C20H34O5',\n",
    "      name = 'β-D-(β-D-hydroxyalkanoyloxy)alkanoic acid ',\n",
    "      compartment = 'c')\n",
    "\n",
    "\n",
    "reaction10.add_metabolites({\n",
    "    M_1_1.metabolites.hyacyACP:-1.0,\n",
    "    HAA:1.0})\n",
    "\n",
    "reaction10.reaction"
   ]
  },
  {
   "cell_type": "code",
   "execution_count": 32,
   "id": "df2eea2e",
   "metadata": {},
   "outputs": [
    {
     "data": {
      "text/html": [
       "\n",
       "        <table>\n",
       "            <tr>\n",
       "                <td><strong>Reaction identifier</strong></td><td>HAA</td>\n",
       "            </tr><tr>\n",
       "                <td><strong>Name</strong></td><td>r_HAA</td>\n",
       "            </tr><tr>\n",
       "                <td><strong>Memory address</strong></td>\n",
       "                <td>0x26d453a1a90</td>\n",
       "            </tr><tr>\n",
       "                <td><strong>Stoichiometry</strong></td>\n",
       "                <td>\n",
       "                    <p style='text-align:right'>hyacyACP --> HAA</p>\n",
       "                    <p style='text-align:right'>β-hydroxyacyl-ACP --> β-D-(β-D-hydroxyalkanoyloxy)alkanoic acid</p>\n",
       "                </td>\n",
       "            </tr><tr>\n",
       "                <td><strong>GPR</strong></td><td></td>\n",
       "            </tr><tr>\n",
       "                <td><strong>Lower bound</strong></td><td>0.0</td>\n",
       "            </tr><tr>\n",
       "                <td><strong>Upper bound</strong></td><td>1000.0</td>\n",
       "            </tr>\n",
       "        </table>\n",
       "        "
      ],
      "text/plain": [
       "<Reaction HAA at 0x26d453a1a90>"
      ]
     },
     "execution_count": 32,
     "metadata": {},
     "output_type": "execute_result"
    }
   ],
   "source": [
    "M_1_1.add_reaction(reaction10)\n",
    "M_1_1.reactions.HAA"
   ]
  },
  {
   "cell_type": "code",
   "execution_count": 33,
   "id": "3b60a572",
   "metadata": {},
   "outputs": [
    {
     "name": "stdout",
     "output_type": "stream",
     "text": [
      "Number of reactions:  1063\n",
      "Number of metabolites:  915\n",
      "Number of genes:  746\n"
     ]
    }
   ],
   "source": [
    "print('Number of reactions: ',len(M_1_1.reactions))\n",
    "print('Number of metabolites: ',len(M_1_1.metabolites))\n",
    "print('Number of genes: ',len(M_1_1.genes))"
   ]
  },
  {
   "cell_type": "markdown",
   "id": "35fe7f2c",
   "metadata": {},
   "source": [
    "### Reações de drain da ramnhose e do HAA"
   ]
  },
  {
   "cell_type": "code",
   "execution_count": 34,
   "id": "eca010c2",
   "metadata": {},
   "outputs": [],
   "source": [
    "ChorDrain1 = Reaction('R_EX_rhamnose')\n",
    "ChorDrain1.name = 'rhamnose exchange' \n",
    "ChorDrain1.lower_bound = 0.\n",
    "ChorDrain1.upper_bound = 1000."
   ]
  },
  {
   "cell_type": "code",
   "execution_count": 35,
   "id": "38549759",
   "metadata": {},
   "outputs": [],
   "source": [
    "ChorDrain1.add_metabolites({\n",
    "    M_1_1.metabolites.dtdprmn: -1.0,\n",
    "\n",
    "})"
   ]
  },
  {
   "cell_type": "code",
   "execution_count": 36,
   "id": "0da7d23d",
   "metadata": {},
   "outputs": [
    {
     "data": {
      "text/plain": [
       "'dtdprmn --> '"
      ]
     },
     "execution_count": 36,
     "metadata": {},
     "output_type": "execute_result"
    }
   ],
   "source": [
    "ChorDrain1.reaction"
   ]
  },
  {
   "cell_type": "code",
   "execution_count": 37,
   "id": "551be7e8",
   "metadata": {},
   "outputs": [],
   "source": [
    "M_1_1.add_reactions([ChorDrain1])"
   ]
  },
  {
   "cell_type": "code",
   "execution_count": 38,
   "id": "a261b0cc",
   "metadata": {},
   "outputs": [
    {
     "name": "stdout",
     "output_type": "stream",
     "text": [
      "EX_gly_e : gly_e --> \n",
      "3OAR141 : 3ocmrs7eACP_c + h_c + nadph_c --> 3hcmrs7eACP_c + nadp_c\n",
      "EX_glyald_e : glyald_e --> \n",
      "3OAR160 : 3opalmACP_c + h_c + nadph_c <=> 3hpalmACP_c + nadp_c\n",
      "3OAR161 : 3ocpalm9eACP_c + h_c + nadph_c --> 3hcpalm9eACP_c + nadp_c\n",
      "3OAR180 : 3ooctdACP_c + h_c + nadph_c <=> 3hoctaACP_c + nadp_c\n",
      "3OAR181 : 3ocvac11eACP_c + h_c + nadph_c --> 3hcvac11eACP_c + nadp_c\n",
      "ACS : ac_c + atp_c + coa_c <=> accoa_c + amp_c + ppi_c\n",
      "ACt2rpp : ac_p + h_p --> ac_c + h_c\n",
      "3OAR40 : actACP_c + h_c + nadph_c <=> 3haACP_c + nadp_c\n",
      "EX_cit_e : cit_e --> \n",
      "EX_co2_e : co2_e <=> \n",
      "3OAR60 : 3ohexACP_c + h_c + nadph_c <=> 3hhexACP_c + nadp_c\n",
      "3OAR80 : 3ooctACP_c + h_c + nadph_c <=> 3hoctACP_c + nadp_c\n",
      "3OAS100 : h_c + malACP_c + ocACP_c --> 3odecACP_c + ACP_c + co2_c\n",
      "3OAS120 : dcaACP_c + h_c + malACP_c --> 3oddecACP_c + ACP_c + co2_c\n",
      "3OAS121 : cdec3eACP_c + h_c + malACP_c --> 3ocddec5eACP_c + ACP_c + co2_c\n",
      "ACtex : ac_e <=> ac_p\n",
      "3OAS140 : ddcaACP_c + h_c + malACP_c --> 3omrsACP_c + ACP_c + co2_c\n",
      "ADA : adn_c + h2o_c + h_c --> ins_c + nh4_c\n",
      "ADCL : 4adcho_c --> 4abz_c + h_c + pyr_c\n",
      "3OAS141 : cddec5eACP_c + h_c + malACP_c --> 3ocmrs7eACP_c + ACP_c + co2_c\n",
      "3OAS160 : h_c + malACP_c + myrsACP_c --> 3opalmACP_c + ACP_c + co2_c\n",
      "ADCPS1 : adcobhex_c + appl_c + atp_c --> adocbi_c + adp_c + h_c + pi_c\n",
      "ADCPS2 : adcobhex_c + applp_c + atp_c --> adocbip_c + adp_c + h_c + pi_c\n",
      "1PPDCRc : 1pipdn2c_c + h_c + nadph_c --> Lpipecol_c + nadp_c\n",
      "3OAS161 : h_c + malACP_c + tdeACP_c --> 3ocpalm9eACP_c + ACP_c + co2_c\n",
      "3OAS180 : h_c + malACP_c + palmACP_c --> 3ooctdACP_c + ACP_c + co2_c\n",
      "2DHGLCK : 2dhglcn_c + atp_c + 2.0 h_c --> 6p2dhglcn_c + adp_c\n",
      "3OAS181 : h_c + hdeACP_c + malACP_c --> 3ocvac11eACP_c + ACP_c + co2_c\n",
      "2DHGLCNkt_tpp : 2dhglcn_p + h_p --> 2dhglcn_c + h_c\n",
      "2DHGLCNtex : 2dhglcn_e <=> 2dhglcn_p\n",
      "34DHCINMtex : 34dhcinm_e <=> 34dhcinm_p\n",
      "34DHCINMtpp : 34dhcinm_p <=> 34dhcinm_c\n",
      "34HPPOR : 34hpp_c + o2_c --> co2_c + hgentis_c\n",
      "ADCYRS : adcobdam_c + 4.0 atp_c + 4.0 gln__L_c + 4.0 h2o_c --> adcobhex_c + 4.0 adp_c + 4.0 glu__L_c + 4.0 h_c + 4.0 pi_c\n",
      "ADK1 : amp_c + atp_c <=> 2.0 adp_c\n",
      "ADNCYC : atp_c --> camp_c + ppi_c\n",
      "ADOCBIK : adocbi_c + atp_c --> adocbip_c + adp_c + h_c\n",
      "ADOCBLS : agdpcbi_c + rdmbzi_c --> adocbl_c + gmp_c + h_c\n",
      "ADPT : ade_c + prpp_c --> amp_c + ppi_c\n",
      "ADPT2 : aicar_c + ppi_c <=> C04051_c + prpp_c\n",
      "ADSL1r : dcamp_c <=> amp_c + fum_c\n",
      "ADSL2r : 25aics_c <=> aicar_c + fum_c\n",
      "3HAACOAT100 : 3hdecACP_c + coa_c <=> ACP_c + R_3hdcoa_c\n",
      "3HAACOAT120 : 3hddecACP_c + coa_c <=> ACP_c + R_3hddcoa_c\n",
      "3HAACOAT121 : 3hcddec5eACP_c + coa_c <=> ACP_c + R_3hcddec5ecoa_c\n",
      "3HAACOAT140 : 3hmrsACP_c + coa_c <=> ACP_c + R_3hmrscoa_c\n",
      "3OAS60 : butACP_c + h_c + malACP_c --> 3ohexACP_c + ACP_c + co2_c\n",
      "3HAACOAT141 : 3hcmrs7eACP_c + coa_c <=> ACP_c + R_3hcmrs7ecoa_c\n",
      "3HAACOAT60 : 3hhexACP_c + coa_c <=> ACP_c + R_3hhcoa_c\n",
      "ASPK : asp__L_c + atp_c --> 4pasp_c + adp_c\n",
      "ADSS : asp__L_c + gtp_c + imp_c --> dcamp_c + gdp_c + 2.0 h_c + pi_c\n",
      "3HAACOAT80 : 3hoctACP_c + coa_c <=> ACP_c + R_3hocoa_c\n",
      "3OAS80 : h_c + hexACP_c + malACP_c --> 3ooctACP_c + ACP_c + co2_c\n",
      "AGMT : agm_c + h2o_c --> ptrc_c + urea_c\n",
      "AGPAT120 : 1ddecg3p_c + ddcaACP_c --> ACP_c + pa120_c\n",
      "3OXCOAT : coa_c + oxadpcoa_c --> accoa_c + succoa_c\n",
      "3OXOADPt_ex : 3oxoadp_e <=> 3oxoadp_p\n",
      "AGPAT160 : 1hdecg3p_c + palmACP_c --> ACP_c + pa160_c\n",
      "AGPAT161 : 1hdec9eg3p_c + hdeACP_c --> ACP_c + pa161_c\n",
      "3HAD100 : 3hdecACP_c --> h2o_c + tdec2eACP_c\n",
      "3HAD120 : 3hddecACP_c --> h2o_c + tddec2eACP_c\n",
      "3HAD121 : 3hcddec5eACP_c --> h2o_c + t3c5ddeceACP_c\n",
      "AGPAT180 : 1odecg3p_c + ocdcaACP_c --> ACP_c + pa180_c\n",
      "3HAD140 : 3hmrsACP_c --> h2o_c + tmrs2eACP_c\n",
      "AGPAT181 : 1odec11eg3p_c + octeACP_c --> ACP_c + pa181_c\n",
      "AGPR : acg5sa_c + nadp_c + pi_c <=> acg5p_c + h_c + nadph_c\n",
      "AICART : 10fthf_c + aicar_c <=> fprica_c + thf_c\n",
      "3HAD141 : 3hcmrs7eACP_c --> h2o_c + t3c7mrseACP_c\n",
      "3HAD160 : 3hpalmACP_c --> h2o_c + tpalm2eACP_c\n",
      "3OXOADPt_pp : 3oxoadp_p + h_p <=> 3oxoadp_c + h_c\n",
      "3HAD161 : 3hcpalm9eACP_c --> h2o_c + t3c9palmeACP_c\n",
      "3HAD180 : 3hoctaACP_c --> h2o_c + toctd2eACP_c\n",
      "AIRCr : air_c + co2_c <=> 5aizc_c + h_c\n",
      "AKGDH : akg_c + coa_c + nad_c --> co2_c + nadh_c + succoa_c\n",
      "AKGDa : akg_c + h_c + lpam_c <=> co2_c + sdhlam_c\n",
      "AKGDb : coa_c + sdhlam_c <=> dhlam_c + succoa_c\n",
      "3HAD181 : 3hcvac11eACP_c --> h2o_c + t3c11vaceACP_c\n",
      "3_4DHBZ1t_pp : 34dhbz_p + h_p <=> 34dhbz_c + h_c\n",
      "3HAD40 : 3haACP_c --> but2eACP_c + h2o_c\n",
      "3HAD60 : 3hhexACP_c --> h2o_c + thex2eACP_c\n",
      "AKGt2rpp : akg_p + h_p <=> akg_c + h_c\n",
      "AKGtex : akg_e <=> akg_p\n",
      "3HAD80 : 3hoctACP_c --> h2o_c + toct2eACP_c\n",
      "3_4DHBZt2 : 34dhbz_e <=> 34dhbz_p\n",
      "ALAALAr : 2.0 ala__D_c + atp_c <=> adp_c + alaala_c + h_c + pi_c\n",
      "ALAR : ala__L_c <=> ala__D_c\n",
      "4CMCOAS : T4hcinnm_c + atp_c + coa_c --> amp_c + coucoa_c + ppi_c\n",
      "ALATA_L : akg_c + ala__L_c <=> glu__L_c + pyr_c\n",
      "3HBCOAHL : 3hibutcoa_c + h2o_c --> 3hmp_c + coa_c + h_c\n",
      "4CMLCL_kt : 4cml_c + h_c --> 5odhf2a_c + co2_c\n",
      "ALATRS : ala__L_c + atp_c + trnaala_c --> alatrna_c + amp_c + ppi_c\n",
      "ALAtex : ala__L_e <=> ala__L_p\n",
      "3MBZALDH : 3mbzalc_c + nad_c --> 3mbzald_c + h_c + nadh_c\n",
      "3MBZDH : 3mbzald_c + h2o_c + nad_c --> 2.0 h_c + m_tol_c + nadh_c\n",
      "ALCD19 : glyald_c + h_c + nadh_c <=> glyc_c + nad_c\n",
      "4HBHYOX : 4hbz_c + h_c + nadph_c + o2_c --> 34dhbz_c + h2o_c + nadp_c\n",
      "ALCD2ir : acald_c + h_c + nadh_c --> etoh_c + nad_c\n",
      "3MCAT23DOX : 3mcat_c + o2_c --> cchoxod_c + h_c\n",
      "ALCDkt : etoh_c + pqq_c --> acald_c + pqqh2_c\n",
      "4HBZtex : 4hbz_e <=> 4hbz_p\n",
      "ALDD2x_copy1 : acald_c + h2o_c + nad_c --> ac_c + 2.0 h_c + nadh_c\n",
      "ALDD2x_copy2 : acald_c + h2o_c + nad_c <=> ac_c + 2.0 h_c + nadh_c\n",
      "AMPMS2 : air_c + h2o_c + nad_c --> 4ampm_c + 2.0 for_c + 3.0 h_c + nadh_c\n",
      "3OADPCOAT : 3oxoadp_c + succoa_c --> oxadpcoa_c + succ_c\n",
      "3OAR100 : 3odecACP_c + h_c + nadph_c <=> 3hdecACP_c + nadp_c\n",
      "3OAR120 : 3oddecACP_c + h_c + nadph_c <=> 3hddecACP_c + nadp_c\n",
      "3OAR121 : 3ocddec5eACP_c + h_c + nadph_c --> 3hcddec5eACP_c + nadp_c\n",
      "3OAR140 : 3omrsACP_c + h_c + nadph_c <=> 3hmrsACP_c + nadp_c\n",
      "AMPN : amp_c + h2o_c --> ade_c + r5p_c\n",
      "ANPRT : anth_c + prpp_c --> ppi_c + pran_c\n",
      "4HTHRS : h2o_c + phthr_c --> 4hthr_c + pi_c\n",
      "ANS : chor_c + gln__L_c --> anth_c + glu__L_c + h_c + pyr_c\n",
      "4MBZALDH : 4mbzalc_c + nad_c --> 4mbzald_c + h_c + nadh_c\n",
      "AOXHEXCYCL : 6a2ohxnt_c <=> 1pipdn2c_c + h2o_c\n",
      "4MBZDH : 4mbzald_c + h2o_c + nad_c --> 2.0 h_c + nadh_c + p_tol_c\n",
      "AP4AH : ap4a_c + h2o_c --> 2.0 adp_c + 2.0 h_c\n",
      "ASPTRS : asp__L_c + atp_c + trnaasp_c --> amp_c + asptrna_c + ppi_c\n",
      "APENTAMAH : 5apentam_c + h2o_c --> 5aptn_c + nh3_c\n",
      "4MCAT23DOX : 4mcat_c + o2_c --> h_c + hmccms_c\n",
      "ASPabcpp : asp__L_p + atp_c + h2o_c --> adp_c + asp__L_c + h_c + pi_c\n",
      "APRAUR : 5apru_c + h_c + nadph_c --> 5aprbu_c + nadp_c\n",
      "ASPt2_2pp : asp__L_p + 2.0 h_p --> asp__L_c + 2.0 h_c\n",
      "4OD : h_c + oxalc_c --> co2_c + op4en_c\n",
      "ASPtex : asp__L_e <=> asp__L_p\n",
      "APSR : aps_c + trdrd_c --> amp_c + 2.0 h_c + so3_c + trdox_c\n",
      "APTNAT : 5aptn_c + akg_c <=> glu__L_c + oxptn_c\n",
      "AST : arg__L_c + succoa_c --> coa_c + h_c + sucarg_c\n",
      "4OD2 : 2omcm_c + h_c --> 2hchd_c + co2_c\n",
      "ARGDr : arg__L_c + h2o_c --> citr__L_c + nh4_c\n",
      "ARGDC : arg__L_c + h_c --> agm_c + co2_c\n",
      "ATPPRT : atp_c + prpp_c <=> ppi_c + prbatp_c\n",
      "4OT : 2hmc_c <=> oxalc_c\n",
      "ARGORNt7pp : arg__L_p + orn_c <=> arg__L_c + orn_p\n",
      "4OT2 : hmccm_c <=> 2omcm_c\n",
      "ARGSL : argsuc_c <=> arg__L_c + fum_c\n",
      "ARGSS : asp__L_c + atp_c + citr__L_c --> amp_c + argsuc_c + h_c + ppi_c\n",
      "ARGTRS : arg__L_c + atp_c + trnaarg_c --> amp_c + argtrna_c + ppi_c\n",
      "ARGabcpp : arg__L_p + atp_c + h2o_c --> adp_c + arg__L_c + h_c + pi_c\n",
      "EX_chols_e : chols_e --> \n",
      "ARGtex : arg__L_e <=> arg__L_p\n",
      "ARUH : arg__L_c + pyr_c <=> 5g2oxpt_c + ala__L_c\n",
      "ASAD : aspsa_c + nadp_c + pi_c <-- 4pasp_c + h_c + nadph_c\n",
      "ATPS4rpp : adp_c + 4.0 h_p + pi_c <=> atp_c + h2o_c + 3.0 h_c\n",
      "BDH : bhb_c + nad_c <=> acac_c + h_c + nadh_c\n",
      "ASNN : asn__L_c + h2o_c --> asp__L_c + nh4_c\n",
      "6HNACMO : 6hnac_c + 2.0 h_c + nadh_c + o2_c --> co2_c + dhpyr_c + h2o_c + nad_c\n",
      "ASNS1 : asp__L_c + atp_c + gln__L_c + h2o_c --> amp_c + asn__L_c + glu__L_c + h_c + ppi_c\n",
      "ASPCT : asp__L_c + cbp_c --> cbasp_c + h_c + pi_c\n",
      "BETALDHx : betald_c + h2o_c + nad_c --> glyb_c + 2.0 h_c + nadh_c\n",
      "AADSACYCL : h2o_c + h_c + thp2c_c <=> L2aadp6sa_c\n",
      "BHMT : glyb_c + hcys__L_c --> dmgly_c + met__L_c\n",
      "ASPO1 : asp__L_c + h2o_c + o2_c --> h2o2_c + nh4_c + oaa_c\n",
      "ASPO6 : asp__L_c + o2_c --> h2o2_c + h_c + iasp_c\n",
      "AASAD3 : L2aadp6sa_c + h2o_c + nad_c --> L2aadp_c + 2.0 h_c + nadh_c\n",
      "ASPT : asp__L_c --> fum_c + nh4_c\n",
      "BZ12DOX : bz_c + h_c + nadh_c + o2_c --> bz12diol_c + nad_c\n",
      "AATA : 2oxoadp_c + glu__L_c <=> L2aadp_c + akg_c\n",
      "BZALDH : bzalc_c + nad_c --> bzal_c + h_c + nadh_c\n",
      "BZDH : bzal_c + h2o_c + nad_c --> bz_c + 2.0 h_c + nadh_c\n",
      "BZDIOLDH : bz12diol_c + nad_c --> catechol_c + co2_c + nadh_c\n",
      "ASPTA : akg_c + asp__L_c <=> glu__L_c + oaa_c\n",
      "EX_glyc_e : glyc_e --> \n",
      "ABTA : 4abut_c + akg_c <=> glu__L_c + sucsal_c\n",
      "ABUTt2pp : 4abut_p + h_p --> 4abut_c + h_c\n",
      "BZt1pp : bz_p + h_p <=> bz_c + h_c\n",
      "ABUTtex : 4abut_e <=> 4abut_p\n",
      "BZtex : bz_e <=> bz_p\n",
      "CYO1b : 2.0 focytc_c + 0.5 o2_c --> 2.0 ficytc_c + h2o_c\n",
      "ACACT1r : 2.0 accoa_c <=> aacoa_c + coa_c\n",
      "CYRDAAT : atp_c + co1dam_c + h_c --> adcobdam_c + pppi_c\n",
      "CYRDAR : 2.0 co2dam_c + nadh_c --> 2.0 co1dam_c + h_c + nad_c\n",
      "BIOMASS_KT_TEMP : 0.05 5mthf_c + 5e-05 accoa_c + 0.488 ala__L_c + 0.001 amp_c + 0.281 arg__L_c + 0.229 asn__L_c + 0.229 asp__L_c + 45.7318 atp_c + 6e-06 coa_c + 0.0005 cpe160_c + 0.0005 cpe180_c + 0.0005 cpg160_c + 0.0005 cpg180_c + 0.126 ctp_c + 0.087 cys__L_c + 0.0247 datp_c + 0.0254 dctp_c + 0.0254 dgtp_c + 0.0247 dttp_c + 1e-05 fad_c + 0.25 gln__L_c + 0.25 glu__L_c + 0.582 gly_c + 0.203 gtp_c + 45.5608 h2o_c + 0.0005 hemeO_c + 0.09 his__L_c + 0.276 ile__L_c + 0.428 leu__L_c + 0.326 lys__L_c + 0.146 met__L_c + 0.00215 nad_c + 5e-05 nadh_c + 0.00013 nadp_c + 0.0004 nadph_c + 0.0005 pe120_c + 0.0005 pe160_c + 0.0005 pe161_c + 0.0005 pe180_c + 0.0005 pe181_c + 0.0005 pg120_c + 0.0005 pg160_c + 0.0005 pg180_c + 0.176 phe__L_c + 0.21 pro__L_c + 0.035 ptrc_c + 0.205 ser__L_c + 0.0005 sheme_c + 3e-06 succoa_c + 0.241 thr__L_c + 0.054 trp__L_c + 0.131 tyr__L_c + 0.003 udpg_c + 0.136 utp_c + 0.402 val__L_c --> 45.5608 adp_c + 45.56035 h_c + 45.5628 pi_c + 0.7302 ppi_c\n",
      "CACOAHA : caffcoa_c + h2o_c --> 34dhbald_c + accoa_c\n",
      "CAFFCOA : 34dhcinm_c + atp_c + coa_c --> amp_c + caffcoa_c + ppi_c\n",
      "ACALD : acald_c + coa_c + nad_c <=> accoa_c + h_c + nadh_c\n",
      "ACBIPGT : adocbip_c + gtp_c + h_c --> agdpcbi_c + ppi_c\n",
      "CAT : 2.0 h2o2_c --> 2.0 h2o_c + o2_c\n",
      "ACCOAC : accoa_c + atp_c + hco3_c <=> adp_c + h_c + malcoa_c + pi_c\n",
      "CAT23DOX : catechol_c + o2_c --> 2hmcnsad_c\n",
      "CATDOX : catechol_c + o2_c --> ccmuac_c + 2.0 h_c\n",
      "CATECHOLtex : catechol_e <=> catechol_p\n",
      "ACGK : acglu_c + atp_c --> acg5p_c + adp_c\n",
      "CATECHOLtpp : catechol_p <=> catechol_c\n",
      "CYSS : acser_c + h2s_c --> ac_c + cys__L_c + h_c\n",
      "ACGS : accoa_c + glu__L_c --> acglu_c + coa_c + h_c\n",
      "CBMKr : atp_c + co2_c + nh4_c <=> adp_c + cbp_c + 2.0 h_c\n",
      "CBPS : 2.0 atp_c + gln__L_c + h2o_c + hco3_c --> 2.0 adp_c + cbp_c + glu__L_c + 2.0 h_c + pi_c\n",
      "SLCYSS : acser_c + tsul_c --> ac_c + scys__L_c\n",
      "ACHBS : 2obut_c + h_c + pyr_c --> 2ahbut_c + co2_c\n",
      "CDPMEK : 4c2me_c + atp_c --> 2p4c2me_c + adp_c + h_c\n",
      "CYSTGL : cyst__L_c + h2o_c <=> 2obut_c + cys__L_c + nh4_c\n",
      "CFAS160E : 2.0 amet_c + pe161_c --> 2.0 ahcys_c + cpe160_c + 2.0 h_c\n",
      "ACKr : ac_c + atp_c <=> actp_c + adp_c\n",
      "CFAS160G : 2.0 amet_c + pg161_c --> 2.0 ahcys_c + cpg160_c + 2.0 h_c\n",
      "CFAS180E : 2.0 amet_c + pe181_c --> 2.0 ahcys_c + cpe180_c + 2.0 h_c\n",
      "CYSTL : cyst__L_c + h2o_c --> hcys__L_c + nh4_c + pyr_c\n",
      "CYSTRS : atp_c + cys__L_c + trnacys_c --> amp_c + cystrna_c + ppi_c\n",
      "CFAS180G : 2.0 amet_c + pg181_c --> 2.0 ahcys_c + cpg180_c + 2.0 h_c\n",
      "CYSabcpp : atp_c + cys__L_p + h2o_c --> adp_c + cys__L_c + h_c + pi_c\n",
      "CHLabcpp : atp_c + chol_p + h2o_c --> adp_c + chol_c + h_c + pi_c\n",
      "CYStex : cys__L_e <=> cys__L_p\n",
      "ACLS : h_c + 2.0 pyr_c --> alac__S_c + co2_c\n",
      "CYTBDpp : 2.0 h_c + 0.5 o2_c + q8h2_c --> h2o_c + 2.0 h_p + q8_c\n",
      "CHLt2pp : chol_p + h_p --> chol_c + h_c\n",
      "CHLtex : chol_e <=> chol_p\n",
      "CHOLD : chol_c + nad_c --> betald_c + h_c + nadh_c\n",
      "CHOLSH : chols_c + h2o_c --> chol_c + h_c + so4_c\n",
      "CYTBO3_4pp : 4.0 h_c + 0.5 o2_c + q8h2_c --> h2o_c + 4.0 h_p + q8_c\n",
      "CYTK1 : atp_c + cmp_c <=> adp_c + cdp_c\n",
      "CYTK2 : atp_c + dcmp_c <=> adp_c + dcdp_c\n",
      "DAAD : ala__D_c + fad_c + h2o_c --> fadh2_c + nh4_c + pyr_c\n",
      "CHOLS_ex : chols_e <=> chols_p\n",
      "DAPE : 26dap_LL_c <=> 26dap__M_c\n",
      "DABAAT : 24dab_c + akg_c + 2.0 h_c <=> aspsa_c + glu__L_c\n",
      "ACOAD1f : btcoa_c + fad_c <=> b2coa_c + fadh2_c\n",
      "DADA : dad_2_c + h2o_c + h_c --> din_c + nh4_c\n",
      "DADK : atp_c + damp_c <=> adp_c + dadp_c\n",
      "DAPAT : 15dap_c + akg_c --> glu__L_c + h2o_c + h_c + pprdn_c\n",
      "DAPDC : 26dap__M_c + h_c --> co2_c + lys__L_c\n",
      "CHOLSabc : atp_c + chols_p + h2o_c --> adp_c + chols_c + h_c + pi_c\n",
      "CHORM : chor_c --> pphn_c\n",
      "CHORS : 3psme_c --> chor_c + pi_c\n",
      "CITt_kt : cit_p + h_p <=> cit_c + h_c\n",
      "CITtex : cit_e <=> cit_p\n",
      "DASYN120 : ctp_c + h_c + pa120_c --> cdpdddecg_c + ppi_c\n",
      "DASYN160 : ctp_c + h_c + pa160_c --> cdpdhdecg_c + ppi_c\n",
      "DASYN161 : ctp_c + h_c + pa161_c --> cdpdhdec9eg_c + ppi_c\n",
      "CLPNS120pp : 2.0 pg120_p <=> clpn120_p + glyc_p\n",
      "ACOAD2f : fad_c + hxcoa_c <=> fadh2_c + hx2coa_c\n",
      "CLPNS160pp : 2.0 pg160_p <=> clpn160_p + glyc_p\n",
      "CLPNS161pp : 2.0 pg161_p <=> clpn161_p + glyc_p\n",
      "DASYN180 : ctp_c + h_c + pa180_c --> cdpdodecg_c + ppi_c\n",
      "DASYN181 : ctp_c + h_c + pa181_c --> cdpdodec11eg_c + ppi_c\n",
      "DB4PS : ru5p__D_c --> db4p_c + for_c + h_c\n",
      "CLPNS180pp : 2.0 pg180_p <=> clpn180_p + glyc_p\n",
      "CLPNS181pp : 2.0 pg181_p <=> clpn181_p + glyc_p\n",
      "ACOAD3f : fad_c + occoa_c <=> fadh2_c + oc2coa_c\n",
      "CO2tex : co2_e <=> co2_p\n",
      "CO2tpp : co2_p <=> co2_c\n",
      "COALCDH : confrl_c + nad_c --> conialdh_c + h_c + nadh_c\n",
      "COALDDH : conialdh_c + h2o_c + nad_c --> fer_c + 2.0 h_c + nadh_c\n",
      "DCAtex : dca_e <=> dca_p\n",
      "DCTPD : dctp_c + h2o_c + h_c --> dutp_c + nh4_c\n",
      "DCTPD2 : ctp_c + h2o_c + h_c --> nh4_c + utp_c\n",
      "DDCAtexi : ddca_e <=> ddca_p\n",
      "DDPA : e4p_c + h2o_c + pep_c --> 2dda7p_c + pi_c\n",
      "COBALT2tex : cobalt2_e <=> cobalt2_p\n",
      "COBALT2tpp : cobalt2_p --> cobalt2_c\n",
      "COCHL : atp_c + cobalt2_c + h2o_c + hgbam_c --> adp_c + co2dam_c + 2.0 h_c + pi_c\n",
      "DGK1 : atp_c + dgmp_c <=> adp_c + dgdp_c\n",
      "ACOAD4f : dcacoa_c + fad_c <=> dc2coa_c + fadh2_c\n",
      "DH3MCHCDH : dh3mchc_c + nad_c --> 3mcat_c + co2_c + nadh_c\n",
      "COCOAHA : coucoa_c + h2o_c --> 4hbald_c + accoa_c\n",
      "CONFRLtex : confrl_e <=> confrl_p\n",
      "CONFRLtpp : confrl_p <=> confrl_c\n",
      "DH4MCHCDH : dh4mchc_c + nad_c --> 4mcat_c + co2_c + nadh_c\n",
      "DHAD1 : 23dhmb_c --> 3mob_c + h2o_c\n",
      "CPPPGO : cpppg3_c + 2.0 h_c + o2_c --> 2.0 co2_c + 2.0 h2o_c + pppg9_c\n",
      "ACOAD5f : ddcacoa_c + fad_c <=> dd2coa_c + fadh2_c\n",
      "CPPPGO2 : 2.0 amet_c + cpppg3_c --> 2.0 co2_c + 2.0 dad_5_c + 2.0 met__L_c + pppg9_c\n",
      "DHAD2 : 23dhmp_c --> 3mop_c + h2o_c\n",
      "DHDPRy : 23dhdp_c + h_c + nadph_c --> nadp_c + thdp_c\n",
      "CRNabcpp : atp_c + crn_p + h2o_c --> adp_c + crn_c + h_c + pi_c\n",
      "DHDPS : aspsa_c + pyr_c --> 23dhdp_c + 2.0 h2o_c + h_c\n",
      "ACOAD6f : fad_c + tdcoa_c <=> fadh2_c + td2coa_c\n",
      "CRNtex : crn_e <=> crn_p\n",
      "DHFR : dhf_c + h_c + nadph_c <=> nadp_c + thf_c\n",
      "ACOAD7f : fad_c + pmtcoa_c <=> fadh2_c + hdd2coa_c\n",
      "DHFS : atp_c + dhpt_c + glu__L_c --> adp_c + dhf_c + h_c + pi_c\n",
      "DHNPA : dhnpt_c --> 2ahhmp_c + gcald_c + h_c\n",
      "CS : accoa_c + h2o_c + oaa_c --> cit_c + coa_c + h_c\n",
      "CSND : csn_c + h2o_c + h_c --> nh4_c + ura_c\n",
      "CTPS2 : atp_c + gln__L_c + h2o_c + utp_c --> adp_c + ctp_c + glu__L_c + 2.0 h_c + pi_c\n",
      "ACOADH1 : 2mbcoa_c + fad_c --> 2mb2coa_c + fadh2_c\n",
      "CYO1_KT : 2.0 ficytc_c + 2.0 h_c + q8h2_c --> 2.0 focytc_c + 2.0 h_p + q8_c\n",
      "DNTPPA : ahdt_c + h2o_c --> dhpmp_c + h_c + ppi_c\n",
      "ACOADH2 : 2.0 ibcoa_c + o2_c --> 2.0 2mp2coa_c + 2.0 h2o_c\n",
      "DPCOAK : atp_c + dpcoa_c --> adp_c + coa_c + h_c\n",
      "DPHAPC100 : C100mclPHA_c + coa_c --> R_3hdcoa_c + mclPHAg_c\n",
      "DPHAPC120 : C120mclPHA_c + coa_c --> R_3hddcoa_c + mclPHAg_c\n",
      "ACOATA : ACP_c + accoa_c <=> acACP_c + coa_c\n",
      "DPHAPC121 : C121mclPHA_c + coa_c --> R_3hcddec5ecoa_c + mclPHAg_c\n",
      "ACODA : acorn_c + h2o_c --> ac_c + orn_c\n",
      "DPHAPC140 : C140mclPHA_c + coa_c --> R_3hmrscoa_c + mclPHAg_c\n",
      "DPHAPC141 : C141mclPHA_c + coa_c --> R_3hcmrs7ecoa_c + mclPHAg_c\n",
      "DHORDi : dhor__S_c + o2_c <=> h2o2_c + orot_c\n",
      "DPHAPC60 : C60mclPHA_c + coa_c --> R_3hhcoa_c + mclPHAg_c\n",
      "ACONCtex : acon_C_e <=> acon_C_p\n",
      "DPHAPC80 : C80mclPHA_c + coa_c --> R_3hocoa_c + mclPHAg_c\n",
      "DPR : 2dhp_c + h_c + nadph_c --> nadp_c + pant__R_c\n",
      "DHORTS : dhor__S_c + h2o_c <=> cbasp_c + h_c\n",
      "DHPACCOAHIT : 2dhphaccoa_c + coa_c + 2.0 h2o_c --> 3hadpcoa_c + accoa_c + h2_c + h_c\n",
      "DHPM1 : 56dura_c + h2o_c --> cala_c + h_c\n",
      "ACONT : cit_c <=> icit_c\n",
      "DTMPK : atp_c + dtmp_c <=> adp_c + dtdp_c\n",
      "DHPPDA : 25dhpp_c + h2o_c + h_c --> 5apru_c + nh4_c\n",
      "ACONTa : cit_c <=> acon_C_c + h2o_c\n",
      "DHPR : dhbpt_c + h_c + nadh_c --> nad_c + thbpt_c\n",
      "DURAD : 56dura_c + nadp_c <=> h_c + nadph_c + ura_c\n",
      "DUTPDP : dutp_c + h2o_c --> dump_c + h_c + ppi_c\n",
      "DXPRIi : dxyl5p_c + h_c + nadph_c --> 2me4p_c + nadp_c\n",
      "DHPS : 2ahhmp_c + 4abz_c --> dhpt_c + h2o_c\n",
      "ACONTb : acon_C_c + h2o_c <=> icit_c\n",
      "DHQTi : 3dhq_c <=> 3dhsk_c + h2o_c\n",
      "DXPS : g3p_c + h_c + pyr_c --> co2_c + dxyl5p_c\n",
      "DHQS : 2dda7p_c --> 3dhq_c + pi_c\n",
      "ACOTA : acorn_c + akg_c <=> acg5sa_c + glu__L_c\n",
      "DHSKDH : 3dhsk_c --> 34dhbz_c + h2o_c\n",
      "D_LACt2pp : h_p + lac__D_p <=> h_c + lac__D_c\n",
      "ACS2 : atp_c + coa_c + ppa_c --> amp_c + ppcoa_c + ppi_c\n",
      "D_LACtex : lac__D_e <=> lac__D_p\n",
      "E4PD : e4p_c + h2o_c + nad_c <=> 4per_c + 2.0 h_c + nadh_c\n",
      "EAR100y : h_c + nadph_c + tdec2eACP_c --> dcaACP_c + nadp_c\n",
      "EAR120y : h_c + nadph_c + tddec2eACP_c --> ddcaACP_c + nadp_c\n",
      "DLYSOXGAT : akg_c + lys__D_c <=> 6a2ohxnt_c + glu__D_c\n",
      "DLYSPYRAT : lys__D_c + pyr_c <=> 6a2ohxnt_c + ala__D_c\n",
      "DMATT : dmpp_c + ipdp_c --> grdp_c + ppi_c\n",
      "DMGDH : dmgly_c + fad_c + h2o_c <=> fadh2_c + fald_c + sarcs_c\n",
      "EAR121y : h_c + nadph_c + t3c5ddeceACP_c --> cddec5eACP_c + nadp_c\n",
      "EAR140y : h_c + nadph_c + tmrs2eACP_c --> myrsACP_c + nadp_c\n",
      "EX_glyb_e : glyb_e --> \n",
      "EAR141y : h_c + nadph_c + t3c7mrseACP_c --> nadp_c + tdeACP_c\n",
      "EAR160y : h_c + nadph_c + tpalm2eACP_c --> nadp_c + palmACP_c\n",
      "DM_aacald_c : aacald_c --> \n",
      "DM_C100mclPHA_c : C100mclPHA_c --> \n",
      "DM_C120mclPHA_c : C120mclPHA_c --> \n",
      "EAR161y : h_c + nadph_c + t3c9palmeACP_c --> hdeACP_c + nadp_c\n",
      "EAR180y : h_c + nadph_c + toctd2eACP_c --> nadp_c + ocdcaACP_c\n",
      "DM_C121mclPHA_c : C121mclPHA_c --> \n",
      "EX_glyclt_e : glyclt_e --> \n",
      "DM_C140mclPHA_c : C140mclPHA_c --> \n",
      "DM_C141mclPHA_c : C141mclPHA_c --> \n",
      "DM_C60mclPHA_c : C60mclPHA_c --> \n",
      "DM_C80mclPHA_c : C80mclPHA_c --> \n",
      "DM_dad_5_c : dad_5_c --> \n",
      "EAR181y : h_c + nadph_c + t3c11vaceACP_c --> nadp_c + octeACP_c\n",
      "EAR40y : but2eACP_c + h_c + nadph_c --> butACP_c + nadp_c\n",
      "EAR60y : h_c + nadph_c + thex2eACP_c --> hexACP_c + nadp_c\n",
      "EAR80y : h_c + nadph_c + toct2eACP_c --> nadp_c + ocACP_c\n",
      "ECOAH1 : 3hbcoa_c <=> b2coa_c + h2o_c\n",
      "ECOAH12 : 2mp2coa_c + h2o_c --> 3hibutcoa_c\n",
      "DM_fald_c : fald_c --> \n",
      "DM_mclPHA_c : mclPHA_c --> \n",
      "EX_h2_e : h2_e <=> \n",
      "DM_ptal_c : ptal_c --> \n",
      "DNAMTn2r : amet_c + dna_c <=> ahcys_c + dna5mtc_c + h_c\n",
      "ECOAH2 : 3hhcoa_c <=> h2o_c + hx2coa_c\n",
      "ECOAH3 : 3hocoa_c <=> h2o_c + oc2coa_c\n",
      "ECOAH4 : 3hdcoa_c <=> dc2coa_c + h2o_c\n",
      "ECOAH5 : 3hddcoa_c <=> dd2coa_c + h2o_c\n",
      "ECOAH6 : 3htdcoa_c <=> h2o_c + td2coa_c\n",
      "DNMPPA : dhpmp_c + h2o_c --> dhnpt_c + pi_c\n",
      "FORGLUIH : forglu_c + h2o_c + 2.0 h_c --> Nforglu_c + nh3_c\n",
      "ECOAH7 : 3hhdcoa_c <=> h2o_c + hdd2coa_c\n",
      "EX_h2o_e : h2o_e <=> \n",
      "ECOAH9ir : 2mb2coa_c + h2o_c --> 3hmbcoa_c\n",
      "EDA : 2ddg6p_c --> g3p_c + pyr_c\n",
      "FRUK : atp_c + f1p_c <=> adp_c + fdp_c + h_c\n",
      "EX_h_e : h_e <=> \n",
      "FRUpts : fru_e + pep_c --> f1p_c + pyr_c\n",
      "EDD : 6pgc_c --> 2ddg6p_c + h2o_c\n",
      "ENO : 2pg_c <=> h2o_c + pep_c\n",
      "EX_hco3_e : hco3_e <=> \n",
      "ETHSO3abcpp : atp_c + ethso3_p + h2o_c --> adp_c + ethso3_c + h_c + pi_c\n",
      "EX_hdca_e : hdca_e --> \n",
      "ETHSO3tex : ethso3_e <=> ethso3_p\n",
      "FTHFD : 10fthf_c + h2o_c --> for_c + h_c + thf_c\n",
      "FUM : fum_c + h2o_c <=> mal__L_c\n",
      "EX_2ddglcn_e : 2ddglcn_e --> \n",
      "EX_his__L_e : his__L_e --> \n",
      "EX_2dhglcn_e : 2dhglcn_e --> \n",
      "EX_34dhbz_e : 34dhbz_e --> \n",
      "EX_hxa_e : hxa_e --> \n",
      "EX_34dhcinm_e : 34dhcinm_e --> \n",
      "FUMAC : 4fumacac_c + h2o_c --> acac_c + fum_c + h_c\n",
      "EX_3oxoadp_e : 3oxoadp_e --> \n",
      "EX_icit_e : icit_e --> \n",
      "EX_4abut_e : 4abut_e --> \n",
      "EX_4hbz_e : 4hbz_e --> \n",
      "FUMt2_2pp : fum_p + 2.0 h_p --> fum_c + 2.0 h_c\n",
      "FUMtex : fum_e <=> fum_p\n",
      "G1PACT : accoa_c + gam1p_c --> acgam1p_c + coa_c + h_c\n",
      "G1SAT : glu1sa_c --> 5aop_c\n",
      "G3PAT120 : ddcaACP_c + glyc3p_c --> 1ddecg3p_c + ACP_c\n",
      "G3PAT160 : glyc3p_c + palmACP_c --> 1hdecg3p_c + ACP_c\n",
      "G3PAT161 : glyc3p_c + hdeACP_c --> 1hdec9eg3p_c + ACP_c\n",
      "EX_T4hcinnm_e : T4hcinnm_e --> \n",
      "EX_ac_e : ac_e --> \n",
      "EX_acon_C_e : acon_C_e --> \n",
      "G3PAT180 : glyc3p_c + ocdcaACP_c --> 1odecg3p_c + ACP_c\n",
      "EX_ile__L_e : ile__L_e --> \n",
      "G3PAT181 : glyc3p_c + octeACP_c --> 1odec11eg3p_c + ACP_c\n",
      "G3PD : fad_c + glyc3p_c --> dhap_c + fadh2_c\n",
      "EX_akg_e : akg_e --> \n",
      "EX_ala__L_e : ala__L_e --> \n",
      "EX_arg__L_e : arg__L_e --> \n",
      "G3PD2 : glyc3p_c + nadp_c <=> dhap_c + h_c + nadph_c\n",
      "EX_isetac_e : isetac_e --> \n",
      "G5SADs : glu5sa_c <=> 1pyr5c_c + h2o_c + h_c\n",
      "G5SD : glu5p_c + h_c + nadph_c --> glu5sa_c + nadp_c + pi_c\n",
      "G6PBDH : g6p_B_c + nadp_c --> 6pgl_c + h_c + nadph_c\n",
      "EX_asp__L_e : asp__L_e --> \n",
      "EX_bz_e : bz_e --> \n",
      "EX_catechol_e : catechol_e --> \n",
      "G6PDH2r : g6p_c + nadp_c --> 6pgl_c + h_c + nadph_c\n",
      "EX_chol_e : chol_e --> \n",
      "EX_lac__D_e : lac__D_e --> \n",
      "EX_cobalt2_e : cobalt2_e <=> \n",
      "G6PI : g6p_c <=> g6p_B_c\n",
      "GADOX : ga_c + o2_c --> 2.0 h_c + omaketo_c\n",
      "EX_confrl_e : confrl_e --> \n",
      "EX_crn_e : crn_e --> \n",
      "EX_lac__L_e : lac__L_e --> \n",
      "EX_cys__L_e : cys__L_e --> \n",
      "EX_dca_e : dca_e --> \n",
      "GADktpp : fad_c + glcn_p <=> 2dhglcn_p + fadh2_c\n",
      "GALUi : g1p_c + h_c + utp_c <=> ppi_c + udpg_c\n",
      "GAPD : g3p_c + nad_c + pi_c <=> 13dpg_c + h_c + nadh_c\n",
      "EX_ddca_e : ddca_e --> \n",
      "EX_ethso3_e : ethso3_e --> \n",
      "EX_fe2_e : fe2_e <=> \n",
      "EX_fer_e : fer_e --> \n",
      "GARFT : 10fthf_c + gar_c <=> fgam_c + h_c + thf_c\n",
      "GART : atp_c + for_c + gar_c --> adp_c + fgam_c + h_c + pi_c\n",
      "GAt1 : ga_e <=> ga_p\n",
      "GAt2pp : ga_p + h_p <=> ga_c + h_c\n",
      "GCALDD : gcald_c + h2o_c + nad_c --> glyclt_c + 2.0 h_c + nadh_c\n",
      "EX_fru_e : fru_e --> \n",
      "EX_fum_e : fum_e --> \n",
      "EX_leu__L_e : leu__L_e --> \n",
      "EX_ga_e : ga_e --> \n",
      "EX_glc__D_e : glc__D_e <=> \n",
      "GDBTALDH : gdbtal_c + h2o_c + nad_c --> 4gudbutn_c + 2.0 h_c + nadh_c\n",
      "GF6PTA : f6p_c + gln__L_c --> gam6p_c + glu__L_c\n",
      "GHMT2r : ser__L_c + thf_c <=> gly_c + h2o_c + mlthf_c\n",
      "GK1 : atp_c + gmp_c <=> adp_c + gdp_c\n",
      "EX_glcn_e : glcn_e --> \n",
      "EX_glu__L_e : glu__L_e --> \n",
      "GLCDpp : glc__D_p + h2o_p + q8_c --> glcn_p + h_p + q8h2_c\n",
      "GLCNt2rpp : glcn_p + h_p <=> glcn_c + h_c\n",
      "EX_lys__L_e : lys__L_e --> \n",
      "EX_m_xyl_e : m_xyl_e --> \n",
      "GLYCL_2 : co2_c + mlthf_c + nadh_c + nh4_c --> gly_c + nad_c + thf_c\n",
      "GLCNtex : glcn_e <=> glcn_p\n",
      "GLYCTO1 : glyclt_c + o2_c --> glx_c + h2o2_c\n",
      "EX_mal__L_e : mal__L_e --> \n",
      "GLCOAS : atp_c + coa_c + glutar_c --> adp_c + glutcoa_c + pi_c\n",
      "EX_met__L_e : met__L_e --> \n",
      "GLCOASYNT : S_gtrdhdlp_c + coa_c --> dhlam_c + glutcoa_c\n",
      "GLYCtex : glyc_e <=> glyc_p\n",
      "GLYCtpp : glyc_c <=> glyc_p\n",
      "GLCabcpp : atp_c + glc__D_p + h2o_c --> adp_c + glc__D_c + h_c + pi_c\n",
      "EX_mso3_e : mso3_e --> \n",
      "GLCtex : glc__D_e <=> glc__D_p\n",
      "GLNS : atp_c + glu__L_c + nh4_c --> adp_c + gln__L_c + h_c + pi_c\n",
      "HPYRRx : h_c + hpyr_c + nadh_c <=> glyc__R_c + nad_c\n",
      "GLYK : atp_c + glyc_c --> adp_c + glyc3p_c + h_c\n",
      "GLYTRS : atp_c + gly_c + trnagly_c --> amp_c + glytrna_c + ppi_c\n",
      "GLYabcpp : atp_c + gly_p + h2o_c <=> adp_c + gly_c + h_c + pi_c\n",
      "GLNTRAT : atp_c + gln__L_c + glutrna_gln_c + h2o_c --> adp_c + glntrna_c + glu__L_c + h_c + pi_c\n",
      "GLNTRS : atp_c + gln__L_c + trnagln_c --> amp_c + glntrna_c + ppi_c\n",
      "GLU5K : atp_c + glu__L_c --> adp_c + glu5p_c\n",
      "GLUCYS : atp_c + cys__L_c + glu__L_c --> adp_c + glucys_c + h_c + pi_c\n",
      "GLUDC : glu__L_c + h_c --> 4abut_c + co2_c\n",
      "GLYtex : gly_e <=> gly_p\n",
      "GMPS2 : atp_c + gln__L_c + h2o_c + xmp_c --> amp_c + glu__L_c + gmp_c + 2.0 h_c + ppi_c\n",
      "GND : 6pgc_c + nadp_c --> co2_c + nadph_c + ru5p__D_c\n",
      "GLUDy : glu__L_c + h2o_c + nadp_c <=> akg_c + h_c + nadph_c + nh4_c\n",
      "EX_na1_e : na1_e <=> \n",
      "GLUN : gln__L_c + h2o_c --> glu__L_c + nh4_c\n",
      "GLUPRT : gln__L_c + h2o_c + prpp_c --> glu__L_c + ppi_c + pram_c\n",
      "GNK : atp_c + glcn_c --> 6pgc_c + adp_c + h_c\n",
      "GLUR : glu__D_c <=> glu__L_c\n",
      "EX_nac_e : nac_e --> \n",
      "GLUSy : akg_c + gln__L_c + h_c + nadph_c --> 2.0 glu__L_c + nadp_c\n",
      "GNNUC : gsn_c + h2o_c --> gua_c + rib__D_c\n",
      "GRTT : grdp_c + ipdp_c --> frdp_c + ppi_c\n",
      "GLUTCOADHc : fad_c + glutcoa_c + h_c --> b2coa_c + co2_c + fadh2_c\n",
      "EX_nh4_e : nh4_e <=> \n",
      "GLUTRR : glutrna_c + h_c + nadph_c --> glu1sa_c + nadp_c + trnaglu_c\n",
      "EX_ni2_e : ni2_e --> \n",
      "GLUTRS : atp_c + glu__L_c + trnaglu_c --> amp_c + glutrna_c + ppi_c\n",
      "GTHOr : gthox_c + h_c + nadph_c --> 2.0 gthrd_c + nadp_c\n",
      "GLUabcpp : atp_c + glu__L_p + h2o_c --> adp_c + glu__L_c + h_c + pi_c\n",
      "GTHPi : 2.0 gthrd_c + h2o2_c <=> gthox_c + 2.0 h2o_c\n",
      "EX_no2_e : no2_e --> \n",
      "GTHS : atp_c + glucys_c + gly_c --> adp_c + gthrd_c + h_c + pi_c\n",
      "GTPCI : gtp_c + h2o_c --> ahdt_c + for_c + h_c\n",
      "GLUt4pp : glu__L_p + na1_p --> glu__L_c + na1_c\n",
      "GLUtex : glu__L_e <=> glu__L_p\n",
      "GLXCL : 2.0 glx_c + h_c --> 2h3oppan_c + co2_c\n",
      "EX_o2_e : o2_e <=> \n",
      "GLYALDDr : glyald_c + h2o_c + nad_c <=> glyc__R_c + 2.0 h_c + nadh_c\n",
      "GLYALDtex : glyald_e <=> glyald_p\n",
      "GLYALDtpp : glyald_p <=> glyald_c\n",
      "GLYBabcpp : atp_c + glyb_p + h2o_c --> adp_c + glyb_c + h_c + pi_c\n",
      "GLYBtex : glyb_e <=> glyb_p\n",
      "GTPCII : gtp_c + 3.0 h2o_c --> 25dhpp_c + for_c + 2.0 h_c + ppi_c\n",
      "GTPDPDP : gdptp_c + h2o_c <=> h_c + pi_c + ppgpp_c\n",
      "GTPDPK : atp_c + gtp_c --> amp_c + gdptp_c + h_c\n",
      "GUAD : gua_c + h2o_c + h_c --> nh4_c + xan_c\n",
      "GUAPRT : gua_c + prpp_c --> gmp_c + ppi_c\n",
      "GUDBUTNAH : 4gudbutn_c + h2o_c --> 4abut_c + urea_c\n",
      "H2CO3D : co2_c + h2o_c <=> h2co3_c\n",
      "GLYCK : atp_c + glyc__R_c --> 3pg_c + adp_c + h_c\n",
      "GLYCL : gly_c + nad_c + thf_c --> co2_c + mlthf_c + nadh_c + nh4_c\n",
      "GLYCLTt2rpp : glyclt_p + h_p <=> glyclt_c + h_c\n",
      "EX_octa_e : octa_e --> \n",
      "GLYCLTtex : glyclt_e <=> glyclt_p\n",
      "H2CO3D2 : h_c + hco3_c <=> h2co3_c\n",
      "H2Otex : h2o_e <=> h2o_p\n",
      "H2Otpp : h2o_p <=> h2o_c\n",
      "EX_orn_e : orn_e --> \n",
      "H2tex : h2_e <=> h2_p\n",
      "H2tpp : h2_p <=> h2_c\n",
      "EX_p_xyl_e : p_xyl_e --> \n",
      "HACD1i : 3hbcoa_c + nad_c --> aacoa_c + h_c + nadh_c\n",
      "HXPRT : hxan_c + prpp_c --> imp_c + ppi_c\n",
      "HACD2i : 3hhcoa_c + nad_c --> 3ohcoa_c + h_c + nadh_c\n",
      "EX_pac_e : pac_e --> \n",
      "HACD3i : 3hocoa_c + nad_c --> 3oocoa_c + h_c + nadh_c\n",
      "Htex : h_e <=> h_p\n",
      "ICDHyr : icit_c + nadp_c <=> akg_c + co2_c + nadph_c\n",
      "HACD4i : 3hdcoa_c + nad_c --> 3odcoa_c + h_c + nadh_c\n",
      "EX_pentso3_e : pentso3_e --> \n",
      "HACD5i : 3hddcoa_c + nad_c --> 3oddcoa_c + h_c + nadh_c\n",
      "HACD6i : 3htdcoa_c + nad_c --> 3otdcoa_c + h_c + nadh_c\n",
      "HACD7i : 3hhdcoa_c + nad_c --> 3ohdcoa_c + h_c + nadh_c\n",
      "HACD9 : 3hmbcoa_c + nad_c <=> 2maacoa_c + h_c + nadh_c\n",
      "ICITt_kt : h_p + icit_p <=> h_c + icit_c\n",
      "ICITtex : icit_e <=> icit_p\n",
      "ICL : icit_c --> glx_c + succ_c\n",
      "IG3PS : gln__L_c + prlp_c --> aicar_c + eig3p_c + glu__L_c + h_c\n",
      "IGPDH : eig3p_c --> h2o_c + imacp_c\n",
      "HADPCOADH : 3hadpcoa_c --> h2_c + oxadpcoa_c\n",
      "HCO3E : co2_c + h2o_c <=> h_c + hco3_c\n",
      "HCO3_NAt : hco3_e + na1_e <=> hco3_c + na1_c\n",
      "IGPS : 2cpr5p_c + h_c --> 3ig3p_c + co2_c + h2o_c\n",
      "ILETA : akg_c + ile__L_c <=> 3mop_c + glu__L_c\n",
      "HDCAtexi : hdca_e <=> hdca_p\n",
      "EX_phe__L_e : phe__L_e --> \n",
      "HEMEOS : frdp_c + h2o_c + pheme_c --> hemeO_c + ppi_c\n",
      "HEX1 : atp_c + glc__D_c --> adp_c + g6p_c + h_c\n",
      "HGNTOR : hgentis_c + o2_c --> 4mlacac_c + h_c\n",
      "ILETRS : atp_c + ile__L_c + trnaile_c --> amp_c + iletrna_c + ppi_c\n",
      "ILEabcpp : atp_c + h2o_c + ile__L_p --> adp_c + h_c + ile__L_c + pi_c\n",
      "ILEtex : ile__L_e <=> ile__L_p\n",
      "IMPC : h2o_c + imp_c <=> fprica_c\n",
      "HIBDkt : 3hmp_c + nad_c --> h_c + mmtsa_c + nadh_c\n",
      "IMPD : h2o_c + imp_c + nad_c --> h_c + nadh_c + xmp_c\n",
      "EX_pi_e : pi_e <=> \n",
      "INSH : h2o_c + ins_c --> hxan_c + rib__D_c\n",
      "HISDr : his__L_c --> nh4_c + urcan_c\n",
      "HISTD : h2o_c + histd_c + 2.0 nad_c --> 3.0 h_c + his__L_c + 2.0 nadh_c\n",
      "IPDDI : ipdp_c <=> dmpp_c\n",
      "HISTP : h2o_c + hisp_c --> histd_c + pi_c\n",
      "IPDPS : h2mb4p_c + h_c + nadh_c --> h2o_c + ipdp_c + nad_c\n",
      "EX_pro__L_e : pro__L_e --> \n",
      "IPMD : 3c2hmp_c + nad_c <=> 3c4mop_c + h_c + nadh_c\n",
      "IPPMIa : 3c2hmp_c <=> 2ippm_c + h2o_c\n",
      "HISTRS : atp_c + his__L_c + trnahis_c --> amp_c + histrna_c + ppi_c\n",
      "HISabcpp : atp_c + h2o_c + his__L_p --> adp_c + h_c + his__L_c + pi_c\n",
      "HIStex : his__L_e <=> his__L_p\n",
      "HMBS : h2o_c + 4.0 ppbng_c --> hmbil_c + 4.0 nh4_c\n",
      "IPPMIb : 2ippm_c + h2o_c <=> 3c3hmp_c\n",
      "IPPS : 3mob_c + accoa_c + h2o_c --> 3c3hmp_c + coa_c + h_c\n",
      "ISETACabcpp : atp_c + h2o_c + isetac_p --> adp_c + h_c + isetac_c + pi_c\n",
      "ISETACtex : isetac_e <=> isetac_p\n",
      "HMGL : hmgcoa_c --> acac_c + accoa_c\n",
      "HMPK1 : 4ahmmp_c + atp_c --> 4ampm_c + adp_c + h_c\n",
      "IZPN : 4izp_c + h2o_c --> forglu_c + h_c\n",
      "HMSD : 2hmcnsad_c + h2o_c + nad_c --> 2hmc_c + 3.0 h_c + nadh_c\n",
      "KARA1 : 23dhmb_c + nadp_c <=> alac__S_c + h_c + nadph_c\n",
      "EX_ptrc_e : ptrc_e --> \n",
      "KARA2 : 2ahbut_c + h_c + nadph_c <=> 23dhmp_c + nadp_c\n",
      "KAS14 : acACP_c + h_c + malACP_c --> ACP_c + actACP_c + co2_c\n",
      "KAS15 : accoa_c + h_c + malACP_c --> actACP_c + co2_c + coa_c\n",
      "HMSD2 : h2o_c + hmccms_c + nad_c --> 2.0 h_c + hmccm_c + nadh_c\n",
      "HMSH : 2hmcnsad_c + h2o_c --> for_c + 2.0 h_c + op4en_c\n",
      "HMSH2 : h2o_c + hmccms_c --> 2hchd_c + for_c + h_c\n",
      "EX_quin_e : quin_e --> \n",
      "HMSH3 : cchoxod_c + h2o_c --> ac_c + h_c + op4en_c\n",
      "HOPNTAL : 4h2opntn_c --> acald_c + pyr_c\n",
      "KAT1 : aacoa_c + coa_c --> 2.0 accoa_c\n",
      "ACACT11 : 3ohcoa_c + coa_c --> accoa_c + btcoa_c\n",
      "HOPNTAL2 : 4hoxoh_c --> ppal_c + pyr_c\n",
      "ACACT8 : 3oocoa_c + coa_c --> accoa_c + hxcoa_c\n",
      "EX_rib__D_e : rib__D_e --> \n",
      "ACACT13 : 3odcoa_c + coa_c --> accoa_c + occoa_c\n",
      "ACACT10 : 3oddcoa_c + coa_c --> accoa_c + dcacoa_c\n",
      "HPPK : 2ahhmp_c + atp_c --> 2ahhmd_c + amp_c + h_c\n",
      "HPYRI : hpyr_c <=> 2h3oppan_c\n",
      "ACACT9 : 3otdcoa_c + coa_c --> accoa_c + ddcacoa_c\n",
      "EX_ser__L_e : ser__L_e --> \n",
      "ACACT12 : 3ohdcoa_c + coa_c --> accoa_c + tdcoa_c\n",
      "LDH_D : lac__D_c + nad_c <=> h_c + nadh_c + pyr_c\n",
      "EX_so4_e : so4_e <=> \n",
      "EX_spmd_e : spmd_e --> \n",
      "EX_succ_e : succ_e --> \n",
      "HSDxi : aspsa_c + h_c + nadh_c <=> hom__L_c + nad_c\n",
      "HSERTA : accoa_c + hom__L_c <=> achms_c + coa_c\n",
      "EX_taur_e : taur_e --> \n",
      "HSK : atp_c + hom__L_c --> adp_c + h_c + phom_c\n",
      "HSTPT : glu__L_c + imacp_c <=> akg_c + hisp_c\n",
      "EX_thr__L_e : thr__L_e --> \n",
      "HXAND : h2o_c + hxan_c + nad_c --> h_c + nadh_c + xan_c\n",
      "HXAtex : hxa_e <=> hxa_p\n",
      "LEUTA : akg_c + leu__L_c <=> 4mop_c + glu__L_c\n",
      "EX_tol_e : tol_e --> \n",
      "LEUTRS : atp_c + leu__L_c + trnaleu_c --> amp_c + leutrna_c + ppi_c\n",
      "LEUabcpp : atp_c + h2o_c + leu__L_p --> adp_c + h_c + leu__L_c + pi_c\n",
      "EX_tsul_e : tsul_e --> \n",
      "LEUtex : leu__L_e <=> leu__L_p\n",
      "EX_ttdca_e : ttdca_e --> \n",
      "LPCOXc : Lpipecol_c + o2_c --> h2o2_c + h_c + thp2c_c\n",
      "MCITS : h2o_c + oaa_c + ppcoa_c --> 2mcit_c + coa_c + h_c\n",
      "MCOATA : ACP_c + malcoa_c <=> coa_c + malACP_c\n",
      "EX_tyr__L_e : tyr__L_e --> \n",
      "LYSDC : h_c + lys__L_c --> 15dap_c + co2_c\n",
      "MDH : mal__L_c + nad_c <=> h_c + nadh_c + oaa_c\n",
      "LYSMO : lys__L_c + o2_c --> 5apentam_c + co2_c + h2o_c + h_c\n",
      "MDH2 : mal__L_c + q8_c --> oaa_c + q8h2_c\n",
      "EX_val__L_e : val__L_e --> \n",
      "ME1 : mal__L_c + nad_c --> co2_c + nadh_c + pyr_c\n",
      "MECDPDH : 2mecdp_c + h_c --> h2mb4p_c + h2o_c\n",
      "LYSRC : lys__L_c <=> lys__D_c\n",
      "LYSTRS : atp_c + lys__L_c + trnalys_c --> amp_c + lystrna_c + ppi_c\n",
      "LYSabcpp : atp_c + h2o_c + lys__L_p --> adp_c + h_c + lys__L_c + pi_c\n",
      "MECDPS : 2p4c2me_c --> 2mecdp_c + cmp_c\n",
      "LYStex : lys__L_e <=> lys__L_p\n",
      "MEPCT : 2me4p_c + ctp_c + h_c --> 4c2me_c + ppi_c\n",
      "AHSERL2 : achms_c + h2s_c <=> ac_c + h_c + hcys__L_c\n",
      "METAT : atp_c + h2o_c + met__L_c --> amet_c + pi_c + ppi_c\n",
      "METGL : h2o_c + met__L_c --> 2obut_c + ch4s_c + nh4_c\n",
      "L_LACD2 : lac__L_c + q8_c --> pyr_c + q8h2_c\n",
      "L_LACt2rpp : h_p + lac__L_p <=> h_c + lac__L_c\n",
      "L_LACtex : lac__L_e <=> lac__L_p\n",
      "METS : 5mthf_c + hcys__L_c <=> h_c + met__L_c + thf_c\n",
      "EX_vanln_e : vanln_e --> \n",
      "MACACI : 4mlacac_c --> 4fumacac_c\n",
      "MACCOAT : 2maacoa_c + coa_c --> accoa_c + ppcoa_c\n",
      "MACPD : h_c + malACP_c --> acACP_c + co2_c\n",
      "METTRS : atp_c + met__L_c + trnamet_c --> amp_c + mettrna_c + ppi_c\n",
      "METabcpp : atp_c + h2o_c + met__L_p --> adp_c + h_c + met__L_c + pi_c\n",
      "MALEI : male_c <=> fum_c\n",
      "EX_vanlt_e : vanlt_e --> \n",
      "MALMDA : h2o_c + malm_c --> h_c + male_c + nh3_c\n",
      "MALS : accoa_c + glx_c + h2o_c --> coa_c + h_c + mal__L_c\n",
      "MALt2_2pp : 2.0 h_p + mal__L_p --> 2.0 h_c + mal__L_c\n",
      "METtex : met__L_e <=> met__L_p\n",
      "MGCH : 3mgcoa_c + h2o_c --> hmgcoa_c\n",
      "MICITDr : 2mcacn_c + h2o_c <=> micit_c\n",
      "MALtex : mal__L_e <=> mal__L_p\n",
      "MMTSAO : coa_c + mmtsa_c + nad_c --> co2_c + nadh_c + ppcoa_c\n",
      "FACOAL100t2pp : atp_c + coa_c + dca_p + h_p --> amp_c + dcacoa_c + h_c + ppi_c\n",
      "MOHMT : 3mob_c + h2o_c + mlthf_c --> 2dhp_c + thf_c\n",
      "MBCOAi : fad_c + ivcoa_c --> 3mb2coa_c + fadh2_c\n",
      "MCCC : 3mb2coa_c + atp_c + hco3_c --> 3mgcoa_c + adp_c + h_c + pi_c\n",
      "MCITD : 2mcit_c --> 2mcacn_c + h2o_c\n",
      "MCITL2 : micit_c <=> pyr_c + succ_c\n",
      "MSO3abcpp : atp_c + h2o_c + mso3_p --> adp_c + h_c + mso3_c + pi_c\n",
      "MSO3tex : mso3_e <=> mso3_p\n",
      "FACOAL120t2pp : atp_c + coa_c + ddca_p + h_p --> amp_c + ddcacoa_c + h_c + ppi_c\n",
      "MSULR : ch4s_c + 3.0 h2o_c + 3.0 nadp_c <=> 4.0 h_c + mso3_c + 3.0 nadph_c\n",
      "FACOAL140t2pp : atp_c + coa_c + h_p + ttdca_p --> amp_c + h_c + ppi_c + tdcoa_c\n",
      "MTHFC : h2o_c + methf_c <=> 10fthf_c + h_c\n",
      "MTHFD : mlthf_c + nadp_c <=> methf_c + nadph_c\n",
      "MTHFR3 : 2.0 h_c + mlthf_c + nadph_c --> 5mthf_c + nadp_c\n",
      "NTD3 : dcmp_c + h2o_c --> dcyt_c + pi_c\n",
      "NTD3pp : dcmp_p + h2o_p --> dcyt_p + pi_p\n",
      "NTD4 : cmp_c + h2o_c --> cytd_c + pi_c\n",
      "MHPGLUT : hcys__L_c + mhpglu_c <=> hpglu_c + met__L_c\n",
      "FACOAL160t2pp : atp_c + coa_c + h_p + hdca_p --> amp_c + h_c + pmtcoa_c + ppi_c\n",
      "MTOLDOX : h_c + m_tol_c + nadh_c + o2_c --> dh3mchc_c + nad_c\n",
      "MUCCYCI : ccmuac_c + h_c <=> mucl_c\n",
      "MUCCY_kt : CCbuttc_c + h_c --> 4cml_c\n",
      "NTD4pp : cmp_p + h2o_p --> cytd_p + pi_p\n",
      "NTD5 : dtmp_c + h2o_c --> pi_c + thymd_c\n",
      "MUCLI : mucl_c <=> 5odhf2a_c\n",
      "NTD5pp : dtmp_p + h2o_p --> pi_p + thymd_p\n",
      "MXMO : h_c + m_xyl_c + nadh_c + o2_c --> 3mbzalc_c + h2o_c + nad_c\n",
      "FACOAL60t2pp : atp_c + coa_c + h_p + hxa_p --> amp_c + h_c + hxcoa_c + ppi_c\n",
      "M_XYLtpp : m_xyl_p <=> m_xyl_c\n",
      "M_Xylt1 : m_xyl_e <=> m_xyl_p\n",
      "NTD6 : damp_c + h2o_c --> dad_2_c + pi_c\n",
      "NTD6pp : damp_p + h2o_p --> dad_2_p + pi_p\n",
      "NTD7 : amp_c + h2o_c --> adn_c + pi_c\n",
      "NACHY : nac_c + 0.5 o2_c --> 6hnac_c\n",
      "NTD7pp : amp_p + h2o_p --> adn_p + pi_p\n",
      "NACt1pp : h_p + nac_p <=> h_c + nac_c\n",
      "FACOAL80t2pp : atp_c + coa_c + h_p + octa_p --> amp_c + h_c + occoa_c + ppi_c\n",
      "NACtex : nac_e <=> nac_p\n",
      "NTD8 : dgmp_c + h2o_c --> dgsn_c + pi_c\n",
      "NTD8pp : dgmp_p + h2o_p --> dgsn_p + pi_p\n",
      "NTD9 : gmp_c + h2o_c --> gsn_c + pi_c\n",
      "NADH16pp : 4.0 h_c + nadh_c + q8_c --> 3.0 h_p + nad_c + q8h2_c\n",
      "NTD9pp : gmp_p + h2o_p --> gsn_p + pi_p\n",
      "NADH5 : h_c + nadh_c + q8_c --> nad_c + q8h2_c\n",
      "FALDDH : 2.0 fald_c + 2.0 focytc_c + o2_c --> 2.0 cytcc_c + 2.0 for_c + 4.0 h_c\n",
      "NADK : atp_c + nad_c --> adp_c + h_c + nadp_c\n",
      "NADPHQR2 : h_c + nadph_c + q8_c --> nadp_c + q8h2_c\n",
      "NTRIR2x : 5.0 h_c + 3.0 nadh_c + no2_c --> 2.0 h2o_c + 3.0 nad_c + nh4_c\n",
      "O2tex : o2_e <=> o2_p\n",
      "O2tpp : o2_p <=> o2_c\n",
      "OAADC : h_c + oaa_c --> co2_c + pyr_c\n",
      "OARGDC : 5g2oxpt_c + h_c --> co2_c + gdbtal_c\n",
      "NADS2 : atp_c + dnad_c + gln__L_c + h2o_c --> amp_c + glu__L_c + h_c + nad_c + ppi_c\n",
      "FBA : fdp_c <=> dhap_c + g3p_c\n",
      "NAMNPP : atp_c + h2o_c + nac_c + prpp_c --> adp_c + nicrnt_c + pi_c + ppi_c\n",
      "NAt3_1p5pp : 3.0 h_p + 2.0 na1_c --> 3.0 h_c + 2.0 na1_p\n",
      "OBDHc : 2obut_c + coa_c + nad_c --> co2_c + nadh_c + ppcoa_c\n",
      "OCAALD : oca_c --> oaa_c + pyr_c\n",
      "NAt3_2pp : 2.0 h_p + na1_c --> 2.0 h_c + na1_p\n",
      "FBP : fdp_c + h2o_c --> f6p_c + pi_c\n",
      "NAtex : na1_e <=> na1_p\n",
      "NDPK1 : atp_c + gdp_c <=> adp_c + gtp_c\n",
      "OCBT : cbp_c + orn_c <=> citr__L_c + h_c + pi_c\n",
      "OCOAT1 : acac_c + succoa_c --> aacoa_c + succ_c\n",
      "FCLT : fe2_c + ppp9_c --> 2.0 h_c + pheme_c\n",
      "OCTAtex : octa_e <=> octa_p\n",
      "OHPBAT : glu__L_c + ohpb_c <=> akg_c + phthr_c\n",
      "OIVD1r : 4mop_c + coa_c + nad_c <=> co2_c + ivcoa_c + nadh_c\n",
      "NDPK2 : atp_c + udp_c <=> adp_c + utp_c\n",
      "NDPK3 : atp_c + cdp_c <=> adp_c + ctp_c\n",
      "NDPK4 : atp_c + dtdp_c <=> adp_c + dttp_c\n",
      "NDPK5 : atp_c + dgdp_c <=> adp_c + dgtp_c\n",
      "OIVD2 : 3mob_c + coa_c + nad_c --> co2_c + ibcoa_c + nadh_c\n",
      "OIVD3 : 3mop_c + coa_c + nad_c --> 2mbcoa_c + co2_c + nadh_c\n",
      "NDPK6 : atp_c + dudp_c <=> adp_c + dutp_c\n",
      "FCOAHA : ferulcoa_c + h2o_c --> accoa_c + vanln_c\n",
      "NDPK7 : atp_c + dcdp_c <=> adp_c + dctp_c\n",
      "NDPK8 : atp_c + dadp_c <=> adp_c + datp_c\n",
      "NFMLDF : h2o_c + nfmalm_c --> for_c + h_c + malm_c\n",
      "OMAHY : h2o_c + omaenol_c --> oca_c\n",
      "OMAIS : omaketo_c <=> omaenol_c\n",
      "OMCDC : 3c4mop_c + h_c --> 4mop_c + co2_c\n",
      "OMPDC : h_c + orot5p_c --> co2_c + ump_c\n",
      "OP4ENH : h2o_c + op4en_c --> 4h2opntn_c\n",
      "OP4ENH2 : 2hchd_c + h2o_c --> 4hoxoh_c\n",
      "ORNCD : orn_c --> nh4_c + pro__L_c\n",
      "NFORGLUAH : Nforglu_c + h2o_c --> for_c + glu__L_c + 2.0 h_c\n",
      "NH4tex : nh4_e <=> nh4_p\n",
      "NH4tpp : nh4_p <=> nh4_c\n",
      "NI2tex : ni2_e <=> ni2_p\n",
      "NI2uabcpp : atp_c + h2o_c + ni2_p --> adp_c + h_c + ni2_c + pi_c\n",
      "NNATr : atp_c + h_c + nicrnt_c <=> dnad_c + ppi_c\n",
      "ORNDC : h_c + orn_c --> co2_c + ptrc_c\n",
      "ORNTAC : acorn_c + glu__L_c <=> acglu_c + orn_c\n",
      "NNDMBRT : dmbzid_c + nicrnt_c --> 5prdmbz_c + h_c + nac_c\n",
      "FDH : for_c + nad_c --> co2_c + nadh_c\n",
      "NNDPR : 2.0 h_c + prpp_c + quln_c --> co2_c + nicrnt_c + ppi_c\n",
      "NO2t2rpp : h_p + no2_p <=> h_c + no2_c\n",
      "NO2tex : no2_e <=> no2_p\n",
      "NTD10 : h2o_c + xmp_c --> pi_c + xtsn_c\n",
      "ORNabcpp : atp_c + h2o_c + orn_p --> adp_c + h_c + orn_c + pi_c\n",
      "ORNtex : orn_e <=> orn_p\n",
      "ORPT : orot5p_c + ppi_c <=> orot_c + prpp_c\n",
      "OXOADLR : 2oxoadp_c + h_c + lpam_c --> S_gtrdhdlp_c + co2_c\n",
      "OXOAEL : 5odhf2a_c + h2o_c --> 3oxoadp_c + h_c\n",
      "NTD10pp : h2o_p + xmp_p --> pi_p + xtsn_p\n",
      "NTD11 : h2o_c + imp_c --> ins_c + pi_c\n",
      "OXPTNDH : h2o_c + nad_c + oxptn_c <=> glutar_c + 2.0 h_c + nadh_c\n",
      "FDMO : fmnh2_c + isetac_c + o2_c --> fmn_c + gcald_c + h2o_c + h_c + so3_c\n",
      "P5CD : 1pyr5c_c + 2.0 h2o_c + nad_c --> glu__L_c + h_c + nadh_c\n",
      "NTD11pp : h2o_p + imp_p --> ins_p + pi_p\n",
      "NTD2 : h2o_c + ump_c --> pi_c + uri_c\n",
      "P5CR : 1pyr5c_c + 2.0 h_c + nadph_c --> nadp_c + pro__L_c\n",
      "FDMO2 : fmnh2_c + mso3_c + o2_c --> fald_c + fmn_c + h2o_c + h_c + so3_c\n",
      "PABB : chor_c + nh4_c --> 4adcho_c + h2o_c\n",
      "PACCOAL : atp_c + coa_c + pac_c <=> amp_c + phaccoa_c + ppi_c\n",
      "PACt3 : na1_p + pac_p <=> na1_c + pac_c\n",
      "PACt1 : pac_e <=> pac_p\n",
      "NTD2pp : h2o_p + ump_p --> pi_p + uri_p\n",
      "PE161abcpp : atp_c + h2o_c + pe161_c --> adp_c + h_c + pe161_p + pi_c\n",
      "PE180abcpp : atp_c + h2o_c + pe180_c --> adp_c + h_c + pe180_p + pi_c\n",
      "PE181abcpp : atp_c + h2o_c + pe181_c --> adp_c + h_c + pe181_p + pi_c\n",
      "PANTS : ala_B_c + atp_c + pant__R_c --> amp_c + h_c + pnto__R_c + ppi_c\n",
      "PAPPT3 : udcpp_c + ugmda_c --> uagmda_c + ump_c\n",
      "FDMO3 : ethso3_c + fmnh2_c + o2_c --> acald_c + fmn_c + h2o_c + h_c + so3_c\n",
      "PENTSOtex : pentso3_e <=> pentso3_p\n",
      "PERD : 4per_c + nad_c <=> h_c + nadh_c + ohpb_c\n",
      "FDMO5 : fmnh2_c + o2_c + pentso3_c --> fmn_c + h2o_c + h_c + ptal_c + so3_c\n",
      "PGAMT : gam1p_c <=> gam6p_c\n",
      "PC : atp_c + hco3_c + pyr_c --> adp_c + h_c + oaa_c + pi_c\n",
      "PC11M : amet_c + pre4_c --> ahcys_c + h_c + pre5_c\n",
      "PGCD : 3pg_c + nad_c <=> 3php_c + h_c + nadh_c\n",
      "FDMOtau : fmnh2_c + o2_c + taur_c --> aacald_c + fmn_c + h2o_c + h_c + so3_c\n",
      "PGI : g6p_c <=> f6p_c\n",
      "PC17M : amet_c + pre3b_c --> ahcys_c + 3.0 h_c + pre4_c\n",
      "PC20M : amet_c + dscl_c --> ahcys_c + h_c + pre3a_c\n",
      "PC6AR : h_c + nadph_c + pre6a_c --> nadp_c + pre6b_c\n",
      "FE2abc : atp_c + fe2_e + h2o_c --> adp_c + fe2_c + h_c + pi_c\n",
      "PC6YM : 2.0 amet_c + pre6b_c --> 2.0 ahcys_c + co2_c + 2.0 h_c + pre8_c\n",
      "PGK : 3pg_c + atp_c <=> 13dpg_c + adp_c\n",
      "FE2t : fe2_e <=> fe2_c\n",
      "PGL : 6pgl_c + h2o_c --> 6pgc_c + h_c\n",
      "PGLCNDH : 6p2dhglcn_c + nadph_c <=> 6pgc_c + 2.0 h_c + nadp_c\n",
      "PC8XM : h_c + pre8_c --> hgbyr_c\n",
      "PCADYOX : 34dhbz_c + o2_c --> CCbuttc_c + 2.0 h_c\n",
      "PDH : coa_c + nad_c + pyr_c --> accoa_c + co2_c + nadh_c\n",
      "PGM : 2pg_c <=> 3pg_c\n",
      "FERULCOAS : atp_c + coa_c + fer_c --> amp_c + ferulcoa_c + ppi_c\n",
      "PGMT : g1p_c <=> g6p_c\n",
      "PGP120abcpp : atp_c + h2o_c + pgp120_c --> adp_c + h_c + pgp120_p + pi_c\n",
      "PGP160abcpp : atp_c + h2o_c + pgp160_c --> adp_c + h_c + pgp160_p + pi_c\n",
      "PGP161abcpp : atp_c + h2o_c + pgp161_c --> adp_c + h_c + pgp161_p + pi_c\n",
      "PGP180abcpp : atp_c + h2o_c + pgp180_c --> adp_c + h_c + pgp180_p + pi_c\n",
      "PGP181abcpp : atp_c + h2o_c + pgp181_c --> adp_c + h_c + pgp181_p + pi_c\n",
      "PGPP120 : h2o_c + pgp120_c --> pg120_c + pi_c\n",
      "PDHa : h_c + lpam_c + pyr_c --> adhlam_c + co2_c\n",
      "PDHbr : adhlam_c + coa_c <=> accoa_c + dhlam_c\n",
      "PDHcr : dhlam_c + nad_c <=> h_c + lpam_c + nadh_c\n",
      "PDX5POi : o2_c + pdx5p_c --> h2o2_c + pydx5p_c\n",
      "PDX5PS : dxyl5p_c + nad_c + phthr_c --> co2_c + 2.0 h2o_c + h_c + nadh_c + pdx5p_c + pi_c\n",
      "PDXPP : h2o_c + pdx5p_c --> pi_c + pydxn_c\n",
      "PE120abcpp : atp_c + h2o_c + pe120_c --> adp_c + h_c + pe120_p + pi_c\n",
      "PE160abcpp : atp_c + h2o_c + pe160_c --> adp_c + h_c + pe160_p + pi_c\n",
      "PGPP120pp : h2o_p + pgp120_p --> pg120_p + pi_p\n",
      "PGPP160 : h2o_c + pgp160_c --> pg160_c + pi_c\n",
      "FERtex : fer_e <=> fer_p\n",
      "PGPP160pp : h2o_p + pgp160_p --> pg160_p + pi_p\n",
      "PGPP161 : h2o_c + pgp161_c --> pg161_c + pi_c\n",
      "PRAIS : atp_c + fpram_c --> adp_c + air_c + 2.0 h_c + pi_c\n",
      "PRAMPC : h2o_c + prbamp_c --> prfp_c\n",
      "PGPP161pp : h2o_p + pgp161_p --> pg161_p + pi_p\n",
      "FERtpp : fer_p <=> fer_c\n",
      "PGPP180 : h2o_c + pgp180_c --> pg180_c + pi_c\n",
      "PGPP180pp : h2o_p + pgp180_p --> pg180_p + pi_p\n",
      "PRASCSi : 5aizc_c + asp__L_c + atp_c <=> 25aics_c + adp_c + h_c + pi_c\n",
      "PRATPP : h2o_c + prbatp_c --> h_c + ppi_c + prbamp_c\n",
      "PRFGS : atp_c + fgam_c + gln__L_c + h2o_c --> adp_c + fpram_c + glu__L_c + h_c + pi_c\n",
      "PGPP181 : h2o_c + pgp181_c --> pg181_c + pi_c\n",
      "PRMICI : prfp_c --> prlp_c\n",
      "PGPP181pp : h2o_p + pgp181_p --> pg181_p + pi_p\n",
      "FMETTRS : 10fthf_c + mettrna_c --> fmettrna_c + h_c + thf_c\n",
      "PGSA120 : cdpdddecg_c + glyc3p_c --> cmp_c + h_c + pgp120_c\n",
      "PGSA160 : cdpdhdecg_c + glyc3p_c --> cmp_c + h_c + pgp160_c\n",
      "PGSA161 : cdpdhdec9eg_c + glyc3p_c --> cmp_c + h_c + pgp161_c\n",
      "PGSA180 : cdpdodecg_c + glyc3p_c --> cmp_c + h_c + pgp180_c\n",
      "PGSA181 : cdpdodec11eg_c + glyc3p_c --> cmp_c + h_c + pgp181_c\n",
      "PROD2 : fad_c + pro__L_c --> 1pyr5c_c + fadh2_c + h_c\n",
      "PROTRS : atp_c + pro__L_c + trnapro_c --> amp_c + ppi_c + protrna_c\n",
      "PROabcpp : atp_c + h2o_c + pro__L_p --> adp_c + h_c + pi_c + pro__L_c\n",
      "PROt2rpp : h_p + pro__L_p --> h_c + pro__L_c\n",
      "PROt4pp : na1_p + pro__L_p --> na1_c + pro__L_c\n",
      "PROtex : pro__L_e <=> pro__L_p\n",
      "PRPPS : atp_c + r5p_c <=> amp_c + h_c + prpp_c\n",
      "PSCVT : pep_c + skm5p_c <=> 3psme_c + pi_c\n",
      "PHA : C100mclPHA_c + C120mclPHA_c + C60mclPHA_c + C80mclPHA_c <=> mclPHA_c\n",
      "PHACOAOR : h2_c + o2_c + phaccoa_c --> 2dhphaccoa_c\n",
      "PHAPC100 : R_3hdcoa_c + mclPHAg_c --> C100mclPHA_c + coa_c\n",
      "PSD120 : h_c + ps120_c --> co2_c + pe120_c\n",
      "FMNAT : atp_c + fmn_c + h_c --> fad_c + ppi_c\n",
      "PSD160 : h_c + ps160_c --> co2_c + pe160_c\n",
      "PHAPC120 : R_3hddcoa_c + mclPHAg_c --> C120mclPHA_c + coa_c\n",
      "PHAPC121 : R_3hcddec5ecoa_c + mclPHAg_c --> C121mclPHA_c + coa_c\n",
      "PHAPC140 : R_3hmrscoa_c + mclPHAg_c --> C140mclPHA_c + coa_c\n",
      "PSD161 : h_c + ps161_c --> co2_c + pe161_c\n",
      "PHAPC141 : R_3hcmrs7ecoa_c + mclPHAg_c --> C141mclPHA_c + coa_c\n",
      "PSD180 : h_c + ps180_c --> co2_c + pe180_c\n",
      "FMNRx2 : fmn_c + h_c + nadph_c --> fmnh2_c + nadp_c\n",
      "PSD181 : h_c + ps181_c --> co2_c + pe181_c\n",
      "PSERT : 3php_c + glu__L_c <=> akg_c + pser__L_c\n",
      "PHAPC60 : R_3hhcoa_c + mclPHAg_c --> C60mclPHA_c + coa_c\n",
      "PHAPC80 : R_3hocoa_c + mclPHAg_c --> C80mclPHA_c + coa_c\n",
      "PHETA1 : akg_c + phe__L_c <=> glu__L_c + phpyr_c\n",
      "PSP_L : h2o_c + pser__L_c --> pi_c + ser__L_c\n",
      "FOLD3 : 2ahhmd_c + 4abz_c --> dhpt_c + ppi_c\n",
      "PSSA120 : cdpdddecg_c + ser__L_c --> cmp_c + h_c + ps120_c\n",
      "PSSA160 : cdpdhdecg_c + ser__L_c --> cmp_c + h_c + ps160_c\n",
      "PHETHPTOX : o2_c + phe__L_c + thbpt_c --> dhbpt_c + h2o_c + tyr__L_c\n",
      "PHETRS : atp_c + phe__L_c + trnaphe_c --> amp_c + phetrna_c + ppi_c\n",
      "PHEt2rpp : h_p + phe__L_p <=> h_c + phe__L_c\n",
      "PHEtex : phe__L_e <=> phe__L_p\n",
      "PIt2rpp : h_p + pi_p <=> h_c + pi_c\n",
      "PItex : pi_e <=> pi_p\n",
      "PSSA161 : cdpdhdec9eg_c + ser__L_c --> cmp_c + h_c + ps161_c\n",
      "PSSA180 : cdpdodecg_c + ser__L_c --> cmp_c + h_c + ps180_c\n",
      "PSSA181 : cdpdodec11eg_c + ser__L_c --> cmp_c + h_c + ps181_c\n",
      "PTAr : accoa_c + pi_c <=> actp_c + coa_c\n",
      "PTOLDOX : h_c + nadh_c + o2_c + p_tol_c --> dh4mchc_c + nad_c\n",
      "PIuabcpp : atp_c + h2o_c + pi_p --> adp_c + h_c + 2.0 pi_c\n",
      "PMDPHT : 5aprbu_c + h2o_c --> 4r5au_c + pi_c\n",
      "PTPATi : atp_c + h_c + pan4p_c <=> dpcoa_c + ppi_c\n",
      "SADH : 2.0 h2o_c + 2.0 h_c + sucarg_c --> co2_c + 2.0 nh4_c + sucorn_c\n",
      "PTRCabcpp : atp_c + h2o_c + ptrc_p --> adp_c + h_c + pi_c + ptrc_c\n",
      "PTRCtex : ptrc_e <=> ptrc_p\n",
      "PXMO : h_c + nadh_c + o2_c + p_xyl_c --> 4mbzalc_c + h2o_c + nad_c\n",
      "PYDXPP : h2o_c + pydx5p_c --> pi_c + pydx_c\n",
      "PYK : adp_c + h_c + pep_c --> atp_c + pyr_c\n",
      "PMPK : 4ampm_c + atp_c --> 2mahmp_c + adp_c\n",
      "PNTK : atp_c + pnto__R_c --> 4ppan_c + adp_c + h_c\n",
      "PPA : h2o_c + ppi_c --> h_c + 2.0 pi_c\n",
      "PPBNGS : 2.0 5aop_c --> 2.0 h2o_c + h_c + ppbng_c\n",
      "PPC : co2_c + h2o_c + pep_c --> h_c + oaa_c + pi_c\n",
      "PPCDC : 4ppcys_c + h_c --> co2_c + pan4p_c\n",
      "PYNP2r : pi_c + uri_c <=> r1p_c + ura_c\n",
      "PYRDOX : dhpyr_c + o2_c --> h_c + nfmalm_c\n",
      "PPGPPDP : h2o_c + ppgpp_c --> gdp_c + ppi_c\n",
      "SADT : atp_c + h_c + so4_c --> aps_c + ppi_c\n",
      "PPK2 : atp_c + ppi_c <=> adp_c + pppi_c\n",
      "PPM : r1p_c <=> r5p_c\n",
      "PPNCL : 4ppan_c + ctp_c + cys__L_c --> 4ppcys_c + cdp_c + h_c + pi_c\n",
      "PPND : nad_c + pphn_c --> 34hpp_c + co2_c + nadh_c\n",
      "PPNDH : h_c + pphn_c --> co2_c + h2o_c + phpyr_c\n",
      "PPPGO : 1.5 o2_c + pppg9_c --> 3.0 h2o_c + ppp9_c\n",
      "PPRDNDH : 2.0 h2o_c + nad_c + pprdn_c --> 5aptn_c + h_c + nadh_c\n",
      "PPS : atp_c + h2o_c + pyr_c --> amp_c + 2.0 h_c + pep_c + pi_c\n",
      "PPTGS_KT : uaagmda_c --> h_c + peptido_kt_c + udcpdp_c\n",
      "P_XYLtpp : p_xyl_p <=> p_xyl_c\n",
      "P_Xylt1 : p_xyl_e <=> p_xyl_p\n",
      "QUIDH : pqq_c + quin_c --> 3dhq_c + pqqh2_c\n",
      "QUIN2tex : quin_e <=> quin_p\n",
      "QUINtpp : h_p + quin_p <=> h_c + quin_c\n",
      "QULNS : dhap_c + iasp_c --> 2.0 h2o_c + pi_c + quln_c\n",
      "R05217 : h_c + 0.5 o2_c + pre3a_c --> pre3b_c\n",
      "R05219 : amet_c + h2o_c + pre5_c --> ac_c + ahcys_c + h_c + pre6a_c\n",
      "R05224 : 2.0 atp_c + 2.0 gln__L_c + h2o_c + hgbyr_c --> 2.0 adp_c + 2.0 glu__L_c + h_c + hgbam_c + ppi_c\n",
      "R15BPK : atp_c + r15bp_c --> adp_c + prpp_c\n",
      "PRAGSr : atp_c + gly_c + pram_c --> adp_c + gar_c + h_c + pi_c\n",
      "R1PK : atp_c + r1p_c --> adp_c + h_c + r15bp_c\n",
      "PRAIi : pran_c <=> 2cpr5p_c\n",
      "SARCOX : h2o_c + o2_c + sarcs_c --> fald_c + gly_c + h2o2_c\n",
      "RBFK : atp_c + ribflv_c --> adp_c + fmn_c + h_c\n",
      "RBFSa : 4r5au_c + db4p_c --> dmlz_c + 2.0 h2o_c + pi_c\n",
      "RBFSb : 2.0 dmlz_c --> 4r5au_c + ribflv_c\n",
      "RBK : atp_c + rib__D_c <=> adp_c + h_c + r5p_c\n",
      "SCYSSL : 2.0 gthrd_c + scys__L_c <=> cys__L_c + gthox_c + h_c + so3_c\n",
      "RHACOAR100 : 3odcoa_c + h_c + nadph_c <=> R_3hdcoa_c + nadp_c\n",
      "TYRTA : akg_c + tyr__L_c <=> 34hpp_c + glu__L_c\n",
      "RHACOAR120 : 3oddcoa_c + h_c + nadph_c <=> R_3hddcoa_c + nadp_c\n",
      "SDPDS : h2o_c + sl26da_c --> 26dap_LL_c + succ_c\n",
      "RHACOAR140 : 3otdcoa_c + h_c + nadph_c <=> R_3hmrscoa_c + nadp_c\n",
      "RHACOAR60 : 3ohcoa_c + h_c + nadph_c <=> R_3hhcoa_c + nadp_c\n",
      "TYRTRS : atp_c + trnatyr_c + tyr__L_c --> amp_c + ppi_c + tyrtrna_c\n",
      "TYRt2rpp : h_p + tyr__L_p <=> h_c + tyr__L_c\n",
      "RHACOAR80 : 3oocoa_c + h_c + nadph_c <=> R_3hocoa_c + nadp_c\n",
      "TYRtex : tyr__L_e <=> tyr__L_p\n",
      "RIBabcpp : atp_c + h2o_c + rib__D_p --> adp_c + h_c + pi_c + rib__D_c\n",
      "SDPTA : akg_c + sl26da_c <=> glu__L_c + sl2a6o_c\n",
      "RIBtex : rib__D_e <=> rib__D_p\n",
      "UAAGDS : 26dap__M_c + atp_c + uamag_c --> adp_c + h_c + pi_c + ugmd_c\n",
      "UAGCVT : pep_c + uacgam_c --> pi_c + uaccg_c\n",
      "UAGDP : acgam1p_c + h_c + utp_c --> ppi_c + uacgam_c\n",
      "UAGPT3 : uacgam_c + uagmda_c --> h_c + uaagmda_c + udp_c\n",
      "RNADRr : nadh_c + rbrdxOX_c <=> h_c + nad_c + rbrdxRD_c\n",
      "RNDR1 : adp_c + trdrd_c --> dadp_c + h2o_c + trdox_c\n",
      "RNDR2 : gdp_c + trdrd_c --> dgdp_c + h2o_c + trdox_c\n",
      "RNDR3 : cdp_c + trdrd_c --> dcdp_c + h2o_c + trdox_c\n",
      "RNDR4 : trdrd_c + udp_c --> dudp_c + h2o_c + trdox_c\n",
      "UAMAGS : atp_c + glu__D_c + uama_c --> adp_c + h_c + pi_c + uamag_c\n",
      "UAMAS : ala__L_c + atp_c + uamr_c --> adp_c + h_c + pi_c + uama_c\n",
      "RPE : ru5p__D_c <=> xu5p__D_c\n",
      "SELMETAT : atp_c + h2o_c + selmeth_c --> pi_c + ppi_c + seasmet_c\n",
      "RPI : r5p_c <=> ru5p__D_c\n",
      "RZ5PP : 5prdmbz_c + h2o_c --> pi_c + rdmbzi_c\n",
      "UAPGR : h_c + nadph_c + uaccg_c --> nadp_c + uamr_c\n",
      "UDCPDP : h2o_c + udcpdp_c --> h_c + pi_c + udcpp_c\n",
      "UGMDDS : alaala_c + atp_c + ugmd_c --> adp_c + h_c + pi_c + ugmda_c\n",
      "UHBZ1t_pp : 4hbz_p + h_p <=> 4hbz_c + h_c\n",
      "SERAT : accoa_c + ser__L_c <=> acser_c + coa_c\n",
      "SERD_L : ser__L_c <=> nh4_c + pyr_c\n",
      "UMPK : atp_c + ump_c <=> adp_c + udp_c\n",
      "SERTRS : atp_c + ser__L_c + trnaser_c --> amp_c + ppi_c + sertrna_c\n",
      "SER_AL : ser__L_c <=> h_c + nh3_c + pyr_c\n",
      "UNK3 : 2kmb_c + glu__L_c --> akg_c + met__L_c\n",
      "SERt2rpp : h_p + ser__L_p <=> h_c + ser__L_c\n",
      "UPP3MT : 2.0 amet_c + uppg3_c --> 2.0 ahcys_c + dscl_c + h_c\n",
      "UPP3S : hmbil_c --> h2o_c + uppg3_c\n",
      "SERtex : ser__L_e <=> ser__L_p\n",
      "UPPDC1 : 4.0 h_c + uppg3_c --> 4.0 co2_c + cpppg3_c\n",
      "SGDS : h2o_c + sucglu_c --> glu__L_c + succ_c\n",
      "UPPDC2 : 4.0 h_c + uppg1_c --> 4.0 co2_c + cpppg1_c\n",
      "SGSAD : h2o_c + nad_c + sucgsa_c --> 2.0 h_c + nadh_c + sucglu_c\n",
      "UPPN : cala_c + h2o_c + 2.0 h_c --> ala_B_c + co2_c + nh4_c\n",
      "SHCHD2 : dscl_c + nad_c --> h_c + nadh_c + scl_c\n",
      "UPPRT : prpp_c + ura_c --> ppi_c + ump_c\n",
      "URCN : h2o_c + urcan_c --> 4izp_c\n",
      "UREA : h2o_c + 2.0 h_c + urea_c --> co2_c + 2.0 nh4_c\n",
      "SHCHF : fe2_c + scl_c --> 3.0 h_c + sheme_c\n",
      "VALTA : akg_c + val__L_c <=> 3mob_c + glu__L_c\n",
      "VALTRS : atp_c + trnaval_c + val__L_c --> amp_c + ppi_c + valtrna_c\n",
      "VALabcpp : atp_c + h2o_c + val__L_p --> adp_c + h_c + pi_c + val__L_c\n",
      "SHK3Dr : 3dhsk_c + h_c + nadph_c <=> nadp_c + skm_c\n",
      "VALtex : val__L_e <=> val__L_p\n",
      "VANKpp : h_p + vanlt_p <=> h_c + vanlt_c\n",
      "SHKK : atp_c + skm_c --> adp_c + h_c + skm5p_c\n",
      "VANLNtex : vanln_e <=> vanln_p\n",
      "SHSL1 : cys__L_c + suchms_c --> cyst__L_c + h_c + succ_c\n",
      "VANLTtex : vanlt_e <=> vanlt_p\n",
      "VNDH : h2o_c + nad_c + vanln_c --> 2.0 h_c + nadh_c + vanlt_c\n",
      "SHSL2r : h2s_c + suchms_c <=> h_c + hcys__L_c + succ_c\n",
      "VNDH_2 : 4hbald_c + h2o_c + nad_c --> 4hbz_c + 2.0 h_c + nadh_c\n",
      "VNDH_3 : 34dhbald_c + h2o_c + nad_c --> 34dhbz_c + 2.0 h_c + nadh_c\n",
      "SHSL4r : h2o_c + suchms_c <=> 2obut_c + h_c + nh4_c + succ_c\n",
      "VNLNpp : h_p + vanln_p <=> h_c + vanln_c\n",
      "SO4t4_2 : 2.0 na1_e + so4_e <=> 2.0 na1_c + so4_c\n",
      "VNTDM : h_c + nadh_c + o2_c + vanlt_c --> 34dhbz_c + fald_c + h2o_c + nad_c\n",
      "SO4tex : so4_e <=> so4_p\n",
      "XAND : h2o_c + nad_c + xan_c --> h_c + nadh_c + urate_c\n",
      "XMO : h_c + nadh_c + o2_c + tol_c --> bzalc_c + h2o_c + nad_c\n",
      "SOTA : akg_c + sucorn_c --> glu__L_c + sucgsa_c\n",
      "XTSNH : h2o_c + xtsn_c --> rib__D_c + xan_c\n",
      "SPMDabcpp : atp_c + h2o_c + spmd_p --> adp_c + h_c + pi_c + spmd_c\n",
      "pentso3abcpp : atp_c + h2o_c + pentso3_p --> adp_c + h_c + pentso3_c + pi_c\n",
      "SK_5mthglu_c : mhpglu_c <=> \n",
      "SK_dna5mtc_c : dna5mtc_c <=> \n",
      "SPMDtex : spmd_e <=> spmd_p\n",
      "SK_dna_c : dna_c <=> \n",
      "SK_mclPHAg_c : mclPHAg_c <=> \n",
      "SK_pqq_c : pqq_c <=> \n",
      "SK_pqqh2_c : pqqh2_c <=> \n",
      "SK_thglu_c : hpglu_c <=> \n",
      "SPMS : ametam_c + ptrc_c --> 5mta_c + h_c + spmd_c\n",
      "SSALy : h2o_c + nadp_c + sucsal_c <=> 2.0 h_c + nadph_c + succ_c\n",
      "SUCCt2_2pp : 2.0 h_p + succ_p --> 2.0 h_c + succ_c\n",
      "SUCCtex : succ_e <=> succ_p\n",
      "SUCD1 : fad_c + succ_c <=> fadh2_c + fum_c\n",
      "SUCDi : q8_c + succ_c --> fum_c + q8h2_c\n",
      "SUCOAS : atp_c + coa_c + succ_c <=> adp_c + pi_c + succoa_c\n",
      "SULR : 5.0 h_c + 3.0 nadph_c + so3_c --> 3.0 h2o_c + h2s_c + 3.0 nadp_c\n",
      "SULabcpp : atp_c + h2o_c + so4_p --> adp_c + h_c + pi_c + so4_c\n",
      "T2DECAI : tdec2eACP_c <=> cdec3eACP_c\n",
      "T4HCINNMtex : T4hcinnm_e <=> T4hcinnm_p\n",
      "T4HCINNMtpp : T4hcinnm_p <=> T4hcinnm_c\n",
      "TALA : g3p_c + s7p_c <=> e4p_c + f6p_c\n",
      "TAUDO : akg_c + o2_c + taur_c --> aacald_c + co2_c + h_c + so3_c + succ_c\n",
      "TAURabcpp : atp_c + h2o_c + taur_p --> adp_c + h_c + pi_c + taur_c\n",
      "TAURtex : taur_e <=> taur_p\n",
      "NADTRHD : nad_c + nadph_c <=> nadh_c + nadp_c\n",
      "THDPS : h2o_c + succoa_c + thdp_c --> coa_c + sl2a6o_c\n",
      "THRA2 : athr__L_c <=> acald_c + gly_c\n",
      "THRA : thr__L_c <=> acald_c + gly_c\n",
      "THRD_L : thr__L_c --> 2obut_c + nh4_c\n",
      "THRS : h2o_c + phom_c --> pi_c + thr__L_c\n",
      "THRTRS : atp_c + thr__L_c + trnathr_c --> amp_c + ppi_c + thrtrna_c\n",
      "THRabcpp : atp_c + h2o_c + thr__L_p --> adp_c + h_c + pi_c + thr__L_c\n",
      "THRtex : thr__L_e <=> thr__L_p\n",
      "TKT1 : r5p_c + xu5p__D_c <=> g3p_c + s7p_c\n",
      "TKT2 : e4p_c + xu5p__D_c <=> f6p_c + g3p_c\n",
      "TMDS : dump_c + mlthf_c --> dhf_c + dtmp_c\n",
      "TOLtex : tol_e <=> tol_p\n",
      "TOLtpp : tol_p <=> tol_c\n",
      "TPI : dhap_c <=> g3p_c\n",
      "TRDR : h_c + nadph_c + trdox_c --> nadp_c + trdrd_c\n",
      "TRPS1 : 3ig3p_c + ser__L_c <=> g3p_c + h2o_c + trp__L_c\n",
      "TRPS2 : indole_c + ser__L_c --> h2o_c + trp__L_c\n",
      "TRPS3 : 3ig3p_c <=> g3p_c + indole_c\n",
      "TRSARr : 2h3oppan_c + h_c + nadh_c <=> glyc__R_c + nad_c\n",
      "TSULabcpp : atp_c + h2o_c + tsul_p --> adp_c + h_c + pi_c + tsul_c\n",
      "TSULtex : tsul_e <=> tsul_p\n",
      "TTDCAtexi : ttdca_e <=> ttdca_p\n",
      "d_glucose : dttp_c + g1p_c + h_c --> dtdpglu + ppi_c\n",
      "dioxiglucose : dtdpglu --> dioxoglu + h2o_c\n",
      "oxorhamnose : dioxoglu --> oxormn\n",
      "rhamnose : h_c + nadph_c + oxormn --> dtdprmn + nadp_c\n",
      "MalonylCoA : accoa_c --> malcoame\n",
      "MalonylACP : malcoame --> malmeACP\n",
      "ketoacylACP : malmeACP --> actACP_c\n",
      "hydroxyacylACP : actACP_c --> hyacyACP\n",
      "HAA : hyacyACP --> HAA\n",
      "R_EX_rhamnose : dtdprmn --> \n"
     ]
    }
   ],
   "source": [
    "for x in M_1_1.reactions:\n",
    "    print(\"%s : %s\" % (x.id, x.reaction))"
   ]
  },
  {
   "cell_type": "code",
   "execution_count": 39,
   "id": "6cd43551",
   "metadata": {},
   "outputs": [],
   "source": [
    "ChorDrain2 = Reaction('R_EX_HAA')\n",
    "ChorDrain2.name = 'HAA exchange' \n",
    "ChorDrain2.lower_bound = 0.\n",
    "ChorDrain2.upper_bound = 1000."
   ]
  },
  {
   "cell_type": "code",
   "execution_count": 40,
   "id": "4571ba0c",
   "metadata": {},
   "outputs": [],
   "source": [
    "ChorDrain2.add_metabolites({\n",
    "    M_1_1.metabolites.HAA: -1.0,\n",
    "\n",
    "})"
   ]
  },
  {
   "cell_type": "code",
   "execution_count": 41,
   "id": "cb9c1255",
   "metadata": {},
   "outputs": [
    {
     "data": {
      "text/plain": [
       "'HAA --> '"
      ]
     },
     "execution_count": 41,
     "metadata": {},
     "output_type": "execute_result"
    }
   ],
   "source": [
    "ChorDrain2.reaction"
   ]
  },
  {
   "cell_type": "code",
   "execution_count": 42,
   "id": "9e151347",
   "metadata": {},
   "outputs": [],
   "source": [
    "M_1_1.add_reactions([ChorDrain2])"
   ]
  },
  {
   "cell_type": "markdown",
   "id": "33eda177",
   "metadata": {},
   "source": [
    "#### Imprimir o ficheiro XML com as novas reações"
   ]
  },
  {
   "cell_type": "code",
   "execution_count": 43,
   "id": "84ce2e21",
   "metadata": {},
   "outputs": [
    {
     "name": "stdout",
     "output_type": "stream",
     "text": [
      "(<Model iJN746 at 0x26d457f48b0>,\n",
      " {'COBRA_CHECK': [],\n",
      "  'COBRA_ERROR': [],\n",
      "  'COBRA_FATAL': [],\n",
      "  'COBRA_WARNING': [],\n",
      "  'SBML_ERROR': [],\n",
      "  'SBML_FATAL': [],\n",
      "  'SBML_SCHEMA_ERROR': [],\n",
      "  'SBML_WARNING': []})\n"
     ]
    }
   ],
   "source": [
    "import tempfile\n",
    "from pprint import pprint\n",
    "from cobra.io import write_sbml_model, validate_sbml_model\n",
    "with tempfile.NamedTemporaryFile(suffix='.xml') as f_sbml:\n",
    "    write_sbml_model(M_1_1 , 'iJN746_metabolitoscopia.xml')\n",
    "    report = validate_sbml_model('iJN746_metabolitoscopia.xml')\n",
    "pprint(report)"
   ]
  },
  {
   "cell_type": "code",
   "execution_count": 44,
   "id": "c707fca8",
   "metadata": {},
   "outputs": [],
   "source": [
    "cobra.io.write_sbml_model(M_1_1,'iJN746_metabolitoscopia.xml')"
   ]
  },
  {
   "cell_type": "markdown",
   "id": "d28feedd",
   "metadata": {},
   "source": [
    "### Função objetivo e fluxo da rhamnose"
   ]
  },
  {
   "cell_type": "code",
   "execution_count": 45,
   "id": "007022fe",
   "metadata": {},
   "outputs": [],
   "source": [
    "objective1 = M_1_1.problem.Objective(\n",
    "    M_1_1.reactions.R_EX_rhamnose.flux_expression, \n",
    "    direction = 'max')"
   ]
  },
  {
   "cell_type": "code",
   "execution_count": 46,
   "id": "519a0dca",
   "metadata": {},
   "outputs": [],
   "source": [
    "M_1_1.objective = objective1"
   ]
  },
  {
   "cell_type": "code",
   "execution_count": 47,
   "id": "db251e10",
   "metadata": {},
   "outputs": [
    {
     "data": {
      "text/latex": [
       "$\\displaystyle 1.0 R_{EX rhamnose} - 1.0 R_{EX rhamnose reverse 1411e}$"
      ],
      "text/plain": [
       "1.0*R_EX_rhamnose - 1.0*R_EX_rhamnose_reverse_1411e"
      ]
     },
     "execution_count": 47,
     "metadata": {},
     "output_type": "execute_result"
    }
   ],
   "source": [
    "M_1_1.objective.expression"
   ]
  },
  {
   "cell_type": "code",
   "execution_count": 48,
   "id": "00c54af9",
   "metadata": {},
   "outputs": [
    {
     "data": {
      "text/html": [
       "<h3>Objective</h3><p>1.0 R_EX_rhamnose = 5.296127090909085</p><h4>Uptake</h4><table border=\"1\" class=\"dataframe\">\n",
       "  <thead>\n",
       "    <tr style=\"text-align: right;\">\n",
       "      <th>Metabolite</th>\n",
       "      <th>Reaction</th>\n",
       "      <th>Flux</th>\n",
       "      <th>C-Number</th>\n",
       "      <th>C-Flux</th>\n",
       "    </tr>\n",
       "  </thead>\n",
       "  <tbody>\n",
       "    <tr>\n",
       "      <td>fe2_e</td>\n",
       "      <td>EX_fe2_e</td>\n",
       "      <td>0.001</td>\n",
       "      <td>0</td>\n",
       "      <td>0.00%</td>\n",
       "    </tr>\n",
       "    <tr>\n",
       "      <td>glc__D_e</td>\n",
       "      <td>EX_glc__D_e</td>\n",
       "      <td>20</td>\n",
       "      <td>6</td>\n",
       "      <td>96.03%</td>\n",
       "    </tr>\n",
       "    <tr>\n",
       "      <td>nh4_e</td>\n",
       "      <td>EX_nh4_e</td>\n",
       "      <td>20.91</td>\n",
       "      <td>0</td>\n",
       "      <td>0.00%</td>\n",
       "    </tr>\n",
       "    <tr>\n",
       "      <td>o2_e</td>\n",
       "      <td>EX_o2_e</td>\n",
       "      <td>2.833</td>\n",
       "      <td>0</td>\n",
       "      <td>0.00%</td>\n",
       "    </tr>\n",
       "    <tr>\n",
       "      <td>pi_e</td>\n",
       "      <td>EX_pi_e</td>\n",
       "      <td>11.36</td>\n",
       "      <td>0</td>\n",
       "      <td>0.00%</td>\n",
       "    </tr>\n",
       "    <tr>\n",
       "      <td>so4_e</td>\n",
       "      <td>EX_so4_e</td>\n",
       "      <td>0.2331</td>\n",
       "      <td>0</td>\n",
       "      <td>0.00%</td>\n",
       "    </tr>\n",
       "    <tr>\n",
       "      <td>mhpglu_c</td>\n",
       "      <td>SK_5mthglu_c</td>\n",
       "      <td>0.196</td>\n",
       "      <td>25</td>\n",
       "      <td>3.92%</td>\n",
       "    </tr>\n",
       "    <tr>\n",
       "      <td>dna5mtc_c</td>\n",
       "      <td>SK_dna5mtc_c</td>\n",
       "      <td>0.005</td>\n",
       "      <td>11</td>\n",
       "      <td>0.04%</td>\n",
       "    </tr>\n",
       "  </tbody>\n",
       "</table><h4>Secretion</h4><table border=\"1\" class=\"dataframe\">\n",
       "  <thead>\n",
       "    <tr style=\"text-align: right;\">\n",
       "      <th>Metabolite</th>\n",
       "      <th>Reaction</th>\n",
       "      <th>Flux</th>\n",
       "      <th>C-Number</th>\n",
       "      <th>C-Flux</th>\n",
       "    </tr>\n",
       "  </thead>\n",
       "  <tbody>\n",
       "    <tr>\n",
       "      <td>co2_e</td>\n",
       "      <td>EX_co2_e</td>\n",
       "      <td>-2.039</td>\n",
       "      <td>1</td>\n",
       "      <td>2.22%</td>\n",
       "    </tr>\n",
       "    <tr>\n",
       "      <td>h2o_e</td>\n",
       "      <td>EX_h2o_e</td>\n",
       "      <td>-69.42</td>\n",
       "      <td>0</td>\n",
       "      <td>0.00%</td>\n",
       "    </tr>\n",
       "    <tr>\n",
       "      <td>h_e</td>\n",
       "      <td>EX_h_e</td>\n",
       "      <td>-9.457</td>\n",
       "      <td>0</td>\n",
       "      <td>0.00%</td>\n",
       "    </tr>\n",
       "    <tr>\n",
       "      <td>hco3_e</td>\n",
       "      <td>EX_hco3_e</td>\n",
       "      <td>-0.4661</td>\n",
       "      <td>1</td>\n",
       "      <td>0.51%</td>\n",
       "    </tr>\n",
       "    <tr>\n",
       "      <td>dtdprmn</td>\n",
       "      <td>R_EX_rhamnose</td>\n",
       "      <td>-5.296</td>\n",
       "      <td>16</td>\n",
       "      <td>92.11%</td>\n",
       "    </tr>\n",
       "    <tr>\n",
       "      <td>dna_c</td>\n",
       "      <td>SK_dna_c</td>\n",
       "      <td>-0.005</td>\n",
       "      <td>10</td>\n",
       "      <td>0.05%</td>\n",
       "    </tr>\n",
       "    <tr>\n",
       "      <td>hpglu_c</td>\n",
       "      <td>SK_thglu_c</td>\n",
       "      <td>-0.196</td>\n",
       "      <td>24</td>\n",
       "      <td>5.11%</td>\n",
       "    </tr>\n",
       "  </tbody>\n",
       "</table>"
      ],
      "text/plain": [
       "<cobra.summary.model_summary.ModelSummary at 0x26d459ffee0>"
      ]
     },
     "execution_count": 48,
     "metadata": {},
     "output_type": "execute_result"
    }
   ],
   "source": [
    "M_1_1.summary()"
   ]
  },
  {
   "cell_type": "markdown",
   "id": "f1e5711c",
   "metadata": {},
   "source": [
    "### Simulações"
   ]
  },
  {
   "cell_type": "code",
   "execution_count": 49,
   "id": "5fe9b434",
   "metadata": {},
   "outputs": [],
   "source": [
    "from mewpy.simulation import get_simulator\n",
    "simul = get_simulator(M_1_1)"
   ]
  },
  {
   "cell_type": "code",
   "execution_count": 50,
   "id": "78e1996e",
   "metadata": {},
   "outputs": [
    {
     "data": {
      "text/html": [
       "<strong><em>Optimal</em> solution with objective value 1179.533</strong><br><div>\n",
       "<style scoped>\n",
       "    .dataframe tbody tr th:only-of-type {\n",
       "        vertical-align: middle;\n",
       "    }\n",
       "\n",
       "    .dataframe tbody tr th {\n",
       "        vertical-align: top;\n",
       "    }\n",
       "\n",
       "    .dataframe thead th {\n",
       "        text-align: right;\n",
       "    }\n",
       "</style>\n",
       "<table border=\"1\" class=\"dataframe\">\n",
       "  <thead>\n",
       "    <tr style=\"text-align: right;\">\n",
       "      <th></th>\n",
       "      <th>fluxes</th>\n",
       "      <th>reduced_costs</th>\n",
       "    </tr>\n",
       "  </thead>\n",
       "  <tbody>\n",
       "    <tr>\n",
       "      <th>EX_gly_e</th>\n",
       "      <td>0.000000e+00</td>\n",
       "      <td>26.5</td>\n",
       "    </tr>\n",
       "    <tr>\n",
       "      <th>3OAR141</th>\n",
       "      <td>6.000000e-03</td>\n",
       "      <td>-2.0</td>\n",
       "    </tr>\n",
       "    <tr>\n",
       "      <th>EX_glyald_e</th>\n",
       "      <td>0.000000e+00</td>\n",
       "      <td>40.0</td>\n",
       "    </tr>\n",
       "    <tr>\n",
       "      <th>3OAR160</th>\n",
       "      <td>4.000000e-03</td>\n",
       "      <td>-2.0</td>\n",
       "    </tr>\n",
       "    <tr>\n",
       "      <th>3OAR161</th>\n",
       "      <td>6.000000e-03</td>\n",
       "      <td>-2.0</td>\n",
       "    </tr>\n",
       "    <tr>\n",
       "      <th>...</th>\n",
       "      <td>...</td>\n",
       "      <td>...</td>\n",
       "    </tr>\n",
       "    <tr>\n",
       "      <th>ketoacylACP</th>\n",
       "      <td>0.000000e+00</td>\n",
       "      <td>-2.0</td>\n",
       "    </tr>\n",
       "    <tr>\n",
       "      <th>hydroxyacylACP</th>\n",
       "      <td>-3.469447e-18</td>\n",
       "      <td>-2.0</td>\n",
       "    </tr>\n",
       "    <tr>\n",
       "      <th>HAA</th>\n",
       "      <td>-3.469447e-18</td>\n",
       "      <td>-2.0</td>\n",
       "    </tr>\n",
       "    <tr>\n",
       "      <th>R_EX_rhamnose</th>\n",
       "      <td>5.296127e+00</td>\n",
       "      <td>-2.0</td>\n",
       "    </tr>\n",
       "    <tr>\n",
       "      <th>R_EX_HAA</th>\n",
       "      <td>-3.469447e-18</td>\n",
       "      <td>-2.0</td>\n",
       "    </tr>\n",
       "  </tbody>\n",
       "</table>\n",
       "<p>1065 rows × 2 columns</p>\n",
       "</div>"
      ],
      "text/plain": [
       "<Solution 1179.533 at 0x1d5a22df490>"
      ]
     },
     "execution_count": 50,
     "metadata": {},
     "output_type": "execute_result"
    }
   ],
   "source": [
    "pfba_solution = cobra.flux_analysis.pfba(M_1_1)\n",
    "pfba_solution"
   ]
  },
  {
   "cell_type": "code",
   "execution_count": 51,
   "id": "66eb60b6",
   "metadata": {},
   "outputs": [
    {
     "data": {
      "text/plain": [
       "objective: 1179.5325115681806\n",
       "Status: OPTIMAL\n",
       "Constraints: OrderedDict()\n",
       "Method:pFBA"
      ]
     },
     "execution_count": 51,
     "metadata": {},
     "output_type": "execute_result"
    }
   ],
   "source": [
    "result = simul.simulate(method='pFBA')\n",
    "\n",
    "result"
   ]
  },
  {
   "cell_type": "code",
   "execution_count": 52,
   "id": "bfe98852",
   "metadata": {},
   "outputs": [
    {
     "data": {
      "text/plain": [
       "0.14"
      ]
     },
     "execution_count": 52,
     "metadata": {},
     "output_type": "execute_result"
    }
   ],
   "source": [
    "constraints = {'BIOMASS_KT_TEMP': (0.14, 1000)}\n",
    "\n",
    "# run a pFBA simulation accounting with the new constraint\n",
    "result = simul.simulate(method='pFBA',constraints=constraints)\n",
    "\n",
    "result.fluxes['BIOMASS_KT_TEMP']"
   ]
  },
  {
   "cell_type": "code",
   "execution_count": 53,
   "id": "24a8f6e1",
   "metadata": {},
   "outputs": [
    {
     "data": {
      "text/plain": [
       "objective: 981.3070972940942\n",
       "Status: OPTIMAL\n",
       "Constraints: OrderedDict([('BIOMASS_KT_TEMP', (0.14, 1000))])\n",
       "Method:pFBA"
      ]
     },
     "execution_count": 53,
     "metadata": {},
     "output_type": "execute_result"
    }
   ],
   "source": [
    "result"
   ]
  },
  {
   "cell_type": "markdown",
   "id": "3523a953",
   "metadata": {},
   "source": [
    "### Simulações BCPY para maximizar a produção de Ramnhose"
   ]
  },
  {
   "cell_type": "markdown",
   "id": "11043c19",
   "metadata": {},
   "source": [
    "#### Problema RKO (Reaction Constraint Problems)"
   ]
  },
  {
   "cell_type": "code",
   "execution_count": 49,
   "id": "f990c1f5",
   "metadata": {},
   "outputs": [],
   "source": [
    "# Define the target\n",
    "PRODUCT_ID = 'R_EX_rhamnose'\n",
    "BIOMASS_ID = 'BIOMASS_KT_TEMP'\n",
    "\n",
    "# environmental conditions\n",
    "envcond = {'BIOMASS_KT_TEMP': (0.14, 1000)}\n",
    "\n",
    "# Optimization objectives\n",
    "\n",
    "evaluator_1 = BPCY(BIOMASS_ID, PRODUCT_ID, method='pFBA')\n",
    "evaluator_2 = WYIELD(BIOMASS_ID, PRODUCT_ID)\n",
    "\n",
    "# build a new reaction deletion problem instance\n",
    "from mewpy.problems import RKOProblem\n",
    "\n",
    "problem = RKOProblem(M_1_1, \n",
    "               fevaluation=[evaluator_1, evaluator_2], \n",
    "               envcond=envcond)\n",
    "\n"
   ]
  },
  {
   "cell_type": "markdown",
   "id": "5d44598d",
   "metadata": {},
   "source": [
    "#### Values for max_generations = 50"
   ]
  },
  {
   "cell_type": "code",
   "execution_count": 63,
   "id": "fa539a31",
   "metadata": {},
   "outputs": [
    {
     "name": "stdout",
     "output_type": "stream",
     "text": [
      "Building modification target list.\n",
      "Computing essential reactions:\n"
     ]
    },
    {
     "name": "stderr",
     "output_type": "stream",
     "text": [
      "  0%|          | 0/1065 [00:00<?, ?it/s]C:\\Users\\Asus\\anaconda3\\lib\\site-packages\\cobra\\util\\solver.py:554: UserWarning: Solver status is 'infeasible'.\n",
      "  warn(f\"Solver status is '{status}'.\", UserWarning)\n",
      "100%|██████████| 1065/1065 [00:29<00:00, 36.34it/s]\n"
     ]
    },
    {
     "name": "stdout",
     "output_type": "stream",
     "text": [
      "Running NSGAII\n"
     ]
    },
    {
     "data": {
      "image/png": "[encoded data removed]",
      "text/plain": [
       "<Figure size 432x288 with 1 Axes>"
      ]
     },
     "metadata": {
      "needs_background": "light"
     },
     "output_type": "display_data"
    }
   ],
   "source": [
    "from mewpy.problems import RKOProblem\n",
    "\n",
    "problem0 = RKOProblem(M_1_1, \n",
    "               fevaluation=[evaluator_1, evaluator_2], \n",
    "               envcond=envcond)\n",
    "\n",
    "from mewpy.optimization import EA\n",
    "\n",
    "ea0 = EA(problem0, max_generations= 50, visualizer=True)\n",
    "final_pop9 = ea0.run()"
   ]
  },
  {
   "cell_type": "code",
   "execution_count": 64,
   "id": "86e4a207",
   "metadata": {},
   "outputs": [],
   "source": [
    "from mewpy.util.io import population_to_csv\n",
    "population_to_csv(problem0,final_pop9,'resultsRKOpfba50cop.csv')"
   ]
  },
  {
   "cell_type": "code",
   "execution_count": 65,
   "id": "dec3a043",
   "metadata": {},
   "outputs": [
    {
     "data": {
      "text/plain": [
       "[[0.979599630375757, 0.0];{'PSSA181': 0, 'PSD160': 0, 'PSD161': 0}]"
      ]
     },
     "execution_count": 65,
     "metadata": {},
     "output_type": "execute_result"
    }
   ],
   "source": [
    "final_pop9[0:200]"
   ]
  },
  {
   "cell_type": "markdown",
   "id": "72d66816",
   "metadata": {},
   "source": [
    "#### Problema ROU"
   ]
  },
  {
   "cell_type": "code",
   "execution_count": 58,
   "id": "11520759",
   "metadata": {},
   "outputs": [],
   "source": [
    "# build a new reaction over/under expression problem instance\n",
    "PRODUCT_ID = 'R_EX_rhamnose'\n",
    "BIOMASS_ID = 'BIOMASS_KT_TEMP'\n",
    "\n",
    "# environmental conditions\n",
    "envcond = {'BIOMASS_KT_TEMP': (0.14, 1000)}\n",
    "\n",
    "# Optimization objectives\n",
    "\n",
    "evaluator_1 = BPCY(BIOMASS_ID, PRODUCT_ID, method='pFBA')\n",
    "evaluator_2 = WYIELD(BIOMASS_ID, PRODUCT_ID)\n",
    "from mewpy.problems import ROUProblem\n",
    "\n",
    "from mewpy.optimization import EA\n",
    "problem1 = ROUProblem(M_1_1, \n",
    "               fevaluation=[evaluator_1, evaluator_2], \n",
    "               envcond=envcond)\n"
   ]
  },
  {
   "cell_type": "markdown",
   "id": "5881b540",
   "metadata": {},
   "source": [
    "#### Values for max_generations = 50"
   ]
  },
  {
   "cell_type": "code",
   "execution_count": 59,
   "id": "7bf449c6",
   "metadata": {},
   "outputs": [
    {
     "name": "stdout",
     "output_type": "stream",
     "text": [
      "Building modification target list.\n",
      "Running NSGAII\n"
     ]
    },
    {
     "data": {
      "image/png": "[encoded data removed]",
      "text/plain": [
       "<Figure size 432x288 with 1 Axes>"
      ]
     },
     "metadata": {
      "needs_background": "light"
     },
     "output_type": "display_data"
    }
   ],
   "source": [
    "ea5 = EA(problem1, max_generations= 50, visualizer=True)\n",
    "final_pop5 = ea5.run()"
   ]
  },
  {
   "cell_type": "code",
   "execution_count": 60,
   "id": "6b51fb0c",
   "metadata": {},
   "outputs": [],
   "source": [
    "# Save the solutions to a csv file\n",
    "from mewpy.util.io import population_to_csv\n",
    "population_to_csv(problem1,final_pop5,'resultsROUpfba50cop2.csv')"
   ]
  },
  {
   "cell_type": "code",
   "execution_count": 61,
   "id": "b2db1319",
   "metadata": {},
   "outputs": [
    {
     "data": {
      "text/plain": [
       "[[5.666007277381795, 1.5176805207272717];{'DHPS': 8},\n",
       " [5.66600727738182, 1.5176805207272732];{'G3PAT180': 8},\n",
       " [6.373120018618214, 0.8535428596363676];{'PSD160': 16},\n",
       " [3.45286545570908, 1.8497493512727272];{'CYTK1': 4, 'IGPDH': 32, 'GLYALDtpp': 2, 'SERt2rpp': 0.0625, 'UAMAS': 16, 'CHLt2pp': 8, 'DHPS': 4},\n",
       " [3.45286545570908, 1.8497493512727272];{'CYTK1': 4, 'IGPDH': 32, 'GLYALDtpp': 2, 'RNDR1': 2, 'UAMAS': 16, 'CHLt2pp': 8, 'DHPS': 4},\n",
       " [3.45286545570908, 1.8497493512727272];{'CYTK1': 4, 'IGPDH': 32, 'GLYALDtpp': 2, 'RNDR1': 2, 'SERt2rpp': 0.0625, 'CHLt2pp': 8, 'DHPS': 4},\n",
       " [3.45286545570908, 1.8497493512727272];{'CYTK1': 4, 'IGPDH': 32, 'GLYALDtpp': 2, 'RNDR1': 2, 'SERt2rpp': 0.0625, 'UAMAS': 16, 'DHPS': 4},\n",
       " [3.45286545570908, 1.8497493512727272];{'CYTK1': 4, 'IGPDH': 32, 'GLYALDtpp': 2, 'RNDR1': 2, 'SERt2rpp': 0.0625, 'UAMAS': 16, 'CHLt2pp': 8},\n",
       " [3.45286545570908, 1.8497493512727272];{'SERt2rpp': 0.0625, 'UAMAS': 16, 'DHPS': 4, 'CHLt2pp': 8, 'IGPDH': 32, 'RNDR1': 2},\n",
       " [3.45286545570908, 1.8497493512727272];{'SERt2rpp': 0.0625, 'UAMAS': 16, 'CYTK1': 4, 'DHPS': 4, 'CHLt2pp': 8, 'RNDR1': 2},\n",
       " [3.45286545570908, 1.8497493512727272];{'SERt2rpp': 0.0625, 'UAMAS': 16, 'CYTK1': 4, 'DHPS': 4, 'CHLt2pp': 8, 'IGPDH': 32},\n",
       " [3.45286545570908, 1.8497493512727272];{'UAMAS': 16, 'CYTK1': 4, 'DHPS': 4, 'CHLt2pp': 8, 'IGPDH': 32, 'RNDR1': 2},\n",
       " [3.45286545570908, 1.8497493512727272];{'SERt2rpp': 0.0625, 'CYTK1': 4, 'DHPS': 4, 'CHLt2pp': 8, 'IGPDH': 32, 'RNDR1': 2},\n",
       " [3.45286545570908, 1.8497493512727272];{'SERt2rpp': 0.0625, 'UAMAS': 16, 'CYTK1': 4, 'DHPS': 4, 'IGPDH': 32, 'RNDR1': 2},\n",
       " [3.45286545570908, 1.8497493512727272];{'SERt2rpp': 0.0625, 'UAMAS': 16, 'CYTK1': 4, 'CHLt2pp': 8, 'IGPDH': 32, 'RNDR1': 2},\n",
       " [3.45286545570908, 1.8497493512727272];{'SLCYSS': 16, 'IGPDH': 32, 'GLYALDtpp': 2, 'RNDR1': 2, 'SERt2rpp': 0.0625, 'UAMAS': 16, 'CHLt2pp': 8, 'CATECHOLtpp': 0.03125, 'DHPS': 4},\n",
       " [3.45286545570908, 1.8497493512727272];{'CYTK1': 4, 'IGPDH': 32, 'GLYALDtpp': 2, 'RNDR1': 2, 'SERt2rpp': 0.0625, 'UAMAS': 16, 'CHLt2pp': 8, 'CATECHOLtpp': 0.03125, 'DHPS': 4},\n",
       " [3.45286545570908, 1.8497493512727272];{'CYTK1': 4, 'SLCYSS': 16, 'GLYALDtpp': 2, 'RNDR1': 2, 'SERt2rpp': 0.0625, 'UAMAS': 16, 'CHLt2pp': 8, 'CATECHOLtpp': 0.03125, 'DHPS': 4},\n",
       " [3.45286545570908, 1.8497493512727272];{'CYTK1': 4, 'SLCYSS': 16, 'IGPDH': 32, 'RNDR1': 2, 'SERt2rpp': 0.0625, 'UAMAS': 16, 'CHLt2pp': 8, 'CATECHOLtpp': 0.03125, 'DHPS': 4},\n",
       " [3.45286545570908, 1.8497493512727272];{'CYTK1': 4, 'SLCYSS': 16, 'IGPDH': 32, 'GLYALDtpp': 2, 'SERt2rpp': 0.0625, 'UAMAS': 16, 'CHLt2pp': 8, 'CATECHOLtpp': 0.03125, 'DHPS': 4},\n",
       " [3.45286545570908, 1.8497493512727272];{'CYTK1': 4, 'SLCYSS': 16, 'IGPDH': 32, 'GLYALDtpp': 2, 'RNDR1': 2, 'UAMAS': 16, 'CHLt2pp': 8, 'CATECHOLtpp': 0.03125, 'DHPS': 4},\n",
       " [3.45286545570908, 1.8497493512727272];{'CYTK1': 4, 'SLCYSS': 16, 'IGPDH': 32, 'GLYALDtpp': 2, 'RNDR1': 2, 'SERt2rpp': 0.0625, 'CHLt2pp': 8, 'CATECHOLtpp': 0.03125, 'DHPS': 4},\n",
       " [3.45286545570908, 1.8497493512727272];{'CYTK1': 4, 'SLCYSS': 16, 'IGPDH': 32, 'GLYALDtpp': 2, 'RNDR1': 2, 'SERt2rpp': 0.0625, 'UAMAS': 16, 'CATECHOLtpp': 0.03125, 'DHPS': 4},\n",
       " [3.45286545570908, 1.8497493512727272];{'CYTK1': 4, 'SLCYSS': 16, 'IGPDH': 32, 'GLYALDtpp': 2, 'RNDR1': 2, 'SERt2rpp': 0.0625, 'UAMAS': 16, 'CHLt2pp': 8, 'DHPS': 4},\n",
       " [3.45286545570908, 1.8497493512727272];{'CYTK1': 4, 'SLCYSS': 16, 'IGPDH': 32, 'GLYALDtpp': 2, 'RNDR1': 2, 'SERt2rpp': 0.0625, 'UAMAS': 16, 'CHLt2pp': 8, 'CATECHOLtpp': 0.03125},\n",
       " [3.45286545570908, 1.8497493512727272];{'SLCYSS': 16, 'EX_na1_e': 0.25, 'IGPDH': 32, 'GLYALDtpp': 2, 'RNDR1': 2, 'SERt2rpp': 0.0625, 'UAMAS': 16, 'CHLt2pp': 8, 'DHPS': 4},\n",
       " [3.45286545570908, 1.8497493512727272];{'CYTK1': 4, 'EX_na1_e': 0.25, 'IGPDH': 32, 'GLYALDtpp': 2, 'RNDR1': 2, 'SERt2rpp': 0.0625, 'UAMAS': 16, 'CHLt2pp': 8, 'DHPS': 4},\n",
       " [3.45286545570908, 1.8497493512727272];{'CYTK1': 4, 'SLCYSS': 16, 'EX_na1_e': 0.25, 'GLYALDtpp': 2, 'RNDR1': 2, 'SERt2rpp': 0.0625, 'UAMAS': 16, 'CHLt2pp': 8, 'DHPS': 4},\n",
       " [3.45286545570908, 1.8497493512727272];{'CYTK1': 4, 'SLCYSS': 16, 'EX_na1_e': 0.25, 'IGPDH': 32, 'RNDR1': 2, 'SERt2rpp': 0.0625, 'UAMAS': 16, 'CHLt2pp': 8, 'DHPS': 4},\n",
       " [3.45286545570908, 1.8497493512727272];{'CYTK1': 4, 'SLCYSS': 16, 'EX_na1_e': 0.25, 'IGPDH': 32, 'GLYALDtpp': 2, 'SERt2rpp': 0.0625, 'UAMAS': 16, 'CHLt2pp': 8, 'DHPS': 4},\n",
       " [3.45286545570908, 1.8497493512727272];{'CYTK1': 4, 'SLCYSS': 16, 'EX_na1_e': 0.25, 'IGPDH': 32, 'GLYALDtpp': 2, 'RNDR1': 2, 'UAMAS': 16, 'CHLt2pp': 8, 'DHPS': 4},\n",
       " [3.45286545570908, 1.8497493512727272];{'CYTK1': 4, 'SLCYSS': 16, 'EX_na1_e': 0.25, 'IGPDH': 32, 'GLYALDtpp': 2, 'RNDR1': 2, 'SERt2rpp': 0.0625, 'CHLt2pp': 8, 'DHPS': 4},\n",
       " [3.45286545570908, 1.8497493512727272];{'CYTK1': 4, 'SLCYSS': 16, 'EX_na1_e': 0.25, 'IGPDH': 32, 'GLYALDtpp': 2, 'RNDR1': 2, 'SERt2rpp': 0.0625, 'UAMAS': 16, 'DHPS': 4},\n",
       " [3.45286545570908, 1.8497493512727272];{'CYTK1': 4, 'SLCYSS': 16, 'EX_na1_e': 0.25, 'IGPDH': 32, 'GLYALDtpp': 2, 'RNDR1': 2, 'SERt2rpp': 0.0625, 'UAMAS': 16, 'CHLt2pp': 8},\n",
       " [3.4528654557090808, 1.8497493512727274];{'3OAS180': 4, 'NO2tex': 4, 'SLCYSS': 16, 'GLYALDtpp': 2, 'UAMAS': 16, 'SERt2rpp': 0.0625, 'CHLt2pp': 8, 'CATECHOLtpp': 0.03125, 'DHPS': 4},\n",
       " [3.4528654557090808, 1.8497493512727274];{'CYTK1': 4, '3OAS180': 4, 'SLCYSS': 16, 'GLYALDtpp': 2, 'UAMAS': 16, 'SERt2rpp': 0.0625, 'CHLt2pp': 8, 'CATECHOLtpp': 0.03125, 'DHPS': 4},\n",
       " [3.4528654557090808, 1.8497493512727274];{'CYTK1': 4, '3OAS180': 4, 'NO2tex': 4, 'SLCYSS': 16, 'UAMAS': 16, 'SERt2rpp': 0.0625, 'CHLt2pp': 8, 'CATECHOLtpp': 0.03125, 'DHPS': 4},\n",
       " [3.4528654557090825, 1.8497493512727239];{'CYTK1': 4, 'NO2tex': 4, 'SLCYSS': 16, 'P5CR': 0.03125, 'EX_na1_e': 0.25, 'IGPDH': 32, 'GLYALDtpp': 2},\n",
       " [3.4528654557090825, 1.8497493512727239];{'IMPD': 4, 'NO2tex': 4, 'SLCYSS': 16, 'P5CR': 0.03125, 'EX_na1_e': 0.25, 'IGPDH': 32, 'GLYALDtpp': 2},\n",
       " [3.4528654557090825, 1.8497493512727239];{'IMPD': 4, 'CYTK1': 4, 'SLCYSS': 16, 'P5CR': 0.03125, 'EX_na1_e': 0.25, 'IGPDH': 32, 'GLYALDtpp': 2},\n",
       " [3.4528654557090825, 1.8497493512727239];{'IMPD': 4, 'CYTK1': 4, 'NO2tex': 4, 'P5CR': 0.03125, 'EX_na1_e': 0.25, 'IGPDH': 32, 'GLYALDtpp': 2},\n",
       " [3.4528654557090825, 1.8497493512727239];{'IMPD': 4, 'CYTK1': 4, 'NO2tex': 4, 'SLCYSS': 16, 'EX_na1_e': 0.25, 'IGPDH': 32, 'GLYALDtpp': 2},\n",
       " [3.4528654557090825, 1.8497493512727239];{'IMPD': 4, 'CYTK1': 4, 'NO2tex': 4, 'SLCYSS': 16, 'P5CR': 0.03125, 'IGPDH': 32, 'GLYALDtpp': 2},\n",
       " [3.4528654557090825, 1.8497493512727239];{'IMPD': 4, 'CYTK1': 4, 'NO2tex': 4, 'SLCYSS': 16, 'P5CR': 0.03125, 'EX_na1_e': 0.25, 'GLYALDtpp': 2},\n",
       " [3.4528654557090825, 1.8497493512727239];{'IMPD': 4, 'CYTK1': 4, 'NO2tex': 4, 'SLCYSS': 16, 'P5CR': 0.03125, 'EX_na1_e': 0.25, 'IGPDH': 32},\n",
       " [3.45286545570908, 1.8497493512727272];{'IGPDH': 32, 'GLYALDtpp': 2, 'RNDR1': 2, 'SERt2rpp': 0.0625, 'UAMAS': 16, 'CHLt2pp': 8, 'DHPS': 4},\n",
       " [3.45286545570908, 1.8497493512727272];{'CYTK1': 4, 'GLYALDtpp': 2, 'RNDR1': 2, 'SERt2rpp': 0.0625, 'UAMAS': 16, 'CHLt2pp': 8, 'DHPS': 4},\n",
       " [3.45286545570908, 1.8497493512727272];{'CYTK1': 4, 'IGPDH': 32, 'RNDR1': 2, 'SERt2rpp': 0.0625, 'UAMAS': 16, 'CHLt2pp': 8, 'DHPS': 4},\n",
       " [3.45286545570908, 1.8497493512727272];{'IGPDH': 32, 'GLYALDtpp': 2, 'RNDR1': 2, 'PYRDOX': 0.125, 'SERt2rpp': 0.0625, 'UAMAS': 16, 'CHLt2pp': 8, 'DHPS': 4},\n",
       " [3.45286545570908, 1.8497493512727272];{'CYTK1': 4, 'GLYALDtpp': 2, 'RNDR1': 2, 'PYRDOX': 0.125, 'SERt2rpp': 0.0625, 'UAMAS': 16, 'CHLt2pp': 8, 'DHPS': 4}]"
      ]
     },
     "execution_count": 61,
     "metadata": {},
     "output_type": "execute_result"
    }
   ],
   "source": [
    "final_pop5[0:50]"
   ]
  },
  {
   "cell_type": "markdown",
   "id": "cff51337",
   "metadata": {},
   "source": [
    "#### Problema GKO (Gene Constraint Problems)"
   ]
  },
  {
   "cell_type": "code",
   "execution_count": 50,
   "id": "251fa04a",
   "metadata": {},
   "outputs": [],
   "source": [
    "# build a new reaction over/under expression problem instance\n",
    "PRODUCT_ID = 'R_EX_rhamnose'\n",
    "BIOMASS_ID = 'BIOMASS_KT_TEMP'\n",
    "\n",
    "# environmental conditions\n",
    "envcond = {'BIOMASS_KT_TEMP': (0.14, 1000)}\n",
    "\n",
    "# Optimization objectives\n",
    "evaluator_1 = BPCY(BIOMASS_ID, PRODUCT_ID, method='pFBA')\n",
    "evaluator_2 = WYIELD(BIOMASS_ID, PRODUCT_ID)\n"
   ]
  },
  {
   "cell_type": "markdown",
   "id": "8a387e43",
   "metadata": {},
   "source": [
    "#### Values for max_generations = 50"
   ]
  },
  {
   "cell_type": "code",
   "execution_count": 51,
   "id": "1fb94491",
   "metadata": {},
   "outputs": [],
   "source": [
    "from mewpy.problems import GKOProblem\n",
    "problem7 = GKOProblem(M_1_1, fevaluation=[\n",
    "                         evaluator_1, evaluator_2], envcond=envcond)"
   ]
  },
  {
   "cell_type": "code",
   "execution_count": null,
   "id": "c0e74d1b",
   "metadata": {},
   "outputs": [
    {
     "name": "stdout",
     "output_type": "stream",
     "text": [
      "Building modification target list.\n",
      "Computing essential genes:\n"
     ]
    },
    {
     "name": "stderr",
     "output_type": "stream",
     "text": [
      "  0%|          | 2/746 [00:01<06:29,  1.91it/s]C:\\Users\\Asus\\anaconda3\\lib\\site-packages\\cobra\\util\\solver.py:554: UserWarning: Solver status is 'infeasible'.\n",
      "  warn(f\"Solver status is '{status}'.\", UserWarning)\n",
      "100%|██████████| 746/746 [07:08<00:00,  1.74it/s]\n"
     ]
    },
    {
     "name": "stdout",
     "output_type": "stream",
     "text": [
      "Running NSGAII\n"
     ]
    },
    {
     "data": {
      "image/png": "[encoded data removed]",
      "text/plain": [
       "<Figure size 432x288 with 1 Axes>"
      ]
     },
     "metadata": {
      "needs_background": "light"
     },
     "output_type": "display_data"
    }
   ],
   "source": [
    "from mewpy.optimization import EA\n",
    "ea7 = EA(problem7, max_generations= 50, visualizer=True)\n",
    "final_pop7 = ea7.run()"
   ]
  },
  {
   "cell_type": "code",
   "execution_count": null,
   "id": "c80bbec8",
   "metadata": {},
   "outputs": [],
   "source": [
    "from mewpy.util.io import population_to_csv\n",
    "\n",
    "population_to_csv(problem7,final_pop7,'resultsGKOpfba50cop.csv')"
   ]
  },
  {
   "cell_type": "code",
   "execution_count": 56,
   "id": "c2e9a3cf",
   "metadata": {},
   "outputs": [
    {
     "data": {
      "text/plain": [
       "[]"
      ]
     },
     "execution_count": 56,
     "metadata": {},
     "output_type": "execute_result"
    }
   ],
   "source": [
    "final_pop7[1:50]"
   ]
  },
  {
   "cell_type": "markdown",
   "id": "dfe9b371",
   "metadata": {},
   "source": [
    "#### Problema GOU"
   ]
  },
  {
   "cell_type": "code",
   "execution_count": 62,
   "id": "14d14e43",
   "metadata": {},
   "outputs": [],
   "source": [
    "# build a new reaction over/under expression problem instance\n",
    "PRODUCT_ID = 'R_EX_rhamnose'\n",
    "BIOMASS_ID = 'BIOMASS_KT_TEMP'\n",
    "\n",
    "# environmental conditions\n",
    "envcond = {'BIOMASS_KT_TEMP': (0.14, 1000)}\n",
    "\n",
    "# Optimization objectives\n",
    "evaluator_1 = BPCY(BIOMASS_ID, PRODUCT_ID, method = 'pFBA')\n",
    "evaluator_2 = WYIELD(BIOMASS_ID, PRODUCT_ID)\n"
   ]
  },
  {
   "cell_type": "markdown",
   "id": "98af9bc1",
   "metadata": {},
   "source": [
    "#### Values for max_generations = 50"
   ]
  },
  {
   "cell_type": "code",
   "execution_count": 63,
   "id": "38faf088",
   "metadata": {},
   "outputs": [],
   "source": [
    "# build a new problem instance - gene over- or under expression optimization\n",
    "from mewpy.problems import GOUProblem\n",
    "problem4 = GOUProblem(M_1_1, fevaluation=[\n",
    "                         evaluator_1, evaluator_2], envcond=envcond)"
   ]
  },
  {
   "cell_type": "code",
   "execution_count": null,
   "id": "8b849729",
   "metadata": {},
   "outputs": [
    {
     "name": "stdout",
     "output_type": "stream",
     "text": [
      "Running NSGAII\n"
     ]
    }
   ],
   "source": [
    "from mewpy.optimization import EA\n",
    "ea4 = EA(problem4, max_generations = 50, mp = True, visualizer=True)\n",
    "final_pop4 = ea4.run()"
   ]
  },
  {
   "cell_type": "code",
   "execution_count": 57,
   "id": "6a3df2e5",
   "metadata": {},
   "outputs": [],
   "source": [
    "from mewpy.util.io import population_to_csv\n",
    "\n",
    "population_to_csv(problem4,final_pop4,'resultsGOUpfba50cop.csv')"
   ]
  },
  {
   "cell_type": "code",
   "execution_count": 58,
   "id": "e61d4db4",
   "metadata": {},
   "outputs": [
    {
     "data": {
      "text/plain": [
       "[[3.45286545570909, 1.8497493512770524];{'PP_0606': 4},\n",
       " [5.666007277381819, 1.5176805207272732];{'PP_4784': 8},\n",
       " [5.666006361001236, 1.51768071171778];{'PP_0083': 0.03125, 'PP_1470': 8, 'PP_4784': 8, 'PP_5269': 0.125, 'PP_4193': 0.25},\n",
       " [5.666006361001236, 1.51768071171778];{'PP_0606': 4, 'PP_0083': 0.03125, 'PP_1470': 8, 'PP_4784': 8, 'PP_4193': 0.25},\n",
       " [5.666006361001236, 1.51768071171778];{'PP_0606': 4, 'PP_1470': 8, 'PP_4784': 8, 'PP_5269': 0.125, 'PP_4193': 0.25},\n",
       " [5.666006361001236, 1.51768071171778];{'PP_0606': 4, 'PP_0083': 0.03125, 'PP_4784': 8, 'PP_5269': 0.125, 'PP_4193': 0.25},\n",
       " [5.666006361001236, 1.51768071171778];{'PP_0606': 4, 'PP_0083': 0.03125, 'PP_1470': 8, 'PP_5269': 0.125, 'PP_4193': 0.25},\n",
       " [5.666006361001236, 1.51768071171778];{'PP_0606': 4, 'PP_0083': 0.03125, 'PP_1470': 8, 'PP_4784': 8, 'PP_5269': 0.125},\n",
       " [5.6660058548099, 1.5176808172173024];{'PP_1470': 4, 'PP_5095': 8, 'PP_0083': 0.03125, 'PP_4193': 0.25},\n",
       " [5.666006361001253, 1.5176807117177844];{'PP_1470': 8, 'PP_0083': 0.03125, 'PP_4193': 0.25},\n",
       " [5.666006361001253, 1.5176807117177844];{'PP_4784': 8, 'PP_0083': 0.03125, 'PP_4193': 0.25},\n",
       " [5.666006361001253, 1.5176807117177844];{'PP_4784': 8, 'PP_1470': 8, 'PP_4193': 0.25},\n",
       " [5.666006361001253, 1.5176807117177844];{'PP_4784': 8, 'PP_1470': 8, 'PP_0083': 0.03125},\n",
       " [5.666006361001253, 1.5176807117177844];{'PP_0083': 0.03125, 'PP_1470': 8, 'PP_4784': 8, 'PP_5364': 0.5, 'PP_4193': 0.25},\n",
       " [5.666006361001253, 1.5176807117177844];{'PP_0412': 16, 'PP_1470': 8, 'PP_4784': 8, 'PP_5364': 0.5, 'PP_4193': 0.25},\n",
       " [5.666006361001253, 1.5176807117177844];{'PP_0412': 16, 'PP_0083': 0.03125, 'PP_4784': 8, 'PP_5364': 0.5, 'PP_4193': 0.25},\n",
       " [5.666006361001253, 1.5176807117177844];{'PP_0412': 16, 'PP_0083': 0.03125, 'PP_1470': 8, 'PP_5364': 0.5, 'PP_4193': 0.25},\n",
       " [5.666006361001253, 1.5176807117177844];{'PP_0412': 16, 'PP_0083': 0.03125, 'PP_1470': 8, 'PP_4784': 8, 'PP_4193': 0.25},\n",
       " [5.666006361001253, 1.5176807117177844];{'PP_0412': 16, 'PP_0083': 0.03125, 'PP_1470': 8, 'PP_4784': 8, 'PP_5364': 0.5},\n",
       " [5.6660063610012585, 1.5176807117177853];{'PP_1470': 8, 'PP_4193': 0.25},\n",
       " [3.452865455709089, 1.8497493512727265];{'PP_0606': 4, 'PP_0083': 0.03125},\n",
       " [5.666006361001253, 1.5176807117177844];{'PP_1470': 8, 'PP_0083': 0.03125, 'PP_4193': 0.25, 'PP_4784': 8},\n",
       " [5.666006361001253, 1.5176807117177844];{'PP_0083': 0.03125, 'PP_4193': 0.25, 'PP_4784': 8, 'PP_1893': 32},\n",
       " [5.666006361001253, 1.5176807117177844];{'PP_1470': 8, 'PP_4193': 0.25, 'PP_4784': 8, 'PP_1893': 32},\n",
       " [5.666006361001253, 1.5176807117177844];{'PP_1470': 8, 'PP_0083': 0.03125, 'PP_4193': 0.25, 'PP_1893': 32},\n",
       " [5.666006361001253, 1.5176807117177844];{'PP_1470': 8, 'PP_0083': 0.03125, 'PP_4784': 8, 'PP_1893': 32},\n",
       " [6.3731200827636325, 0.8535428682272727];{'PP_1914': 16}]"
      ]
     },
     "execution_count": 58,
     "metadata": {},
     "output_type": "execute_result"
    }
   ],
   "source": [
    "final_pop4[0:280]"
   ]
  },
  {
   "cell_type": "code",
   "execution_count": null,
   "id": "1835a510",
   "metadata": {},
   "outputs": [],
   "source": []
  }
 ],
 "metadata": {
  "kernelspec": {
   "display_name": "Python 3 (ipykernel)",
   "language": "python",
   "name": "python3"
  },
  "language_info": {
   "codemirror_mode": {
    "name": "ipython",
    "version": 3
   },
   "file_extension": ".py",
   "mimetype": "text/x-python",
   "name": "python",
   "nbconvert_exporter": "python",
   "pygments_lexer": "ipython3",
   "version": "3.9.7"
  }
 },
 "nbformat": 4,
 "nbformat_minor": 5
}
