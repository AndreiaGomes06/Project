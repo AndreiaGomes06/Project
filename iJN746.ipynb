{
 "cells": [
  {
   "cell_type": "code",
   "execution_count": 2,
   "id": "a376ab8a",
   "metadata": {},
   "outputs": [],
   "source": [
    "import cobra"
   ]
  },
  {
   "cell_type": "code",
   "execution_count": 3,
   "id": "1748b4e1",
   "metadata": {},
   "outputs": [],
   "source": [
    "from cobra import Model, Reaction, Metabolite"
   ]
  },
  {
   "cell_type": "code",
   "execution_count": 4,
   "id": "fb85d91b",
   "metadata": {},
   "outputs": [],
   "source": [
    "import mewpy"
   ]
  },
  {
   "cell_type": "code",
   "execution_count": 5,
   "id": "ff04295b",
   "metadata": {},
   "outputs": [],
   "source": [
    "from mewpy.simulation import SimulationMethod"
   ]
  },
  {
   "cell_type": "code",
   "execution_count": 6,
   "id": "cb9fbee4",
   "metadata": {},
   "outputs": [],
   "source": [
    "from mewpy.optimization.evaluation import BPCY,WYIELD"
   ]
  },
  {
   "cell_type": "code",
   "execution_count": 7,
   "id": "048c5d6a",
   "metadata": {},
   "outputs": [],
   "source": [
    "from mewpy.problems import GOUProblem"
   ]
  },
  {
   "cell_type": "code",
   "execution_count": 8,
   "id": "c8879a6e",
   "metadata": {},
   "outputs": [
    {
     "name": "stdout",
     "output_type": "stream",
     "text": [
      "C:\\Users\\Asus\\Desktop\\Bioinformática\\2º Semestre\\Projeto de Bioinformática e Biologia de Sistemas\n"
     ]
    }
   ],
   "source": [
    "cd \"C:\\Users\\Asus\\Desktop\\Bioinformática\\2º Semestre\\Projeto de Bioinformática e Biologia de Sistemas\""
   ]
  },
  {
   "cell_type": "code",
   "execution_count": 9,
   "id": "0456f956",
   "metadata": {},
   "outputs": [],
   "source": [
    "M_1_1 = cobra.io.read_sbml_model('iJN746.xml')"
   ]
  },
  {
   "cell_type": "code",
   "execution_count": 9,
   "id": "28e9a33a",
   "metadata": {},
   "outputs": [
    {
     "name": "stdout",
     "output_type": "stream",
     "text": [
      "Number of reactions:  1054\n",
      "Number of metabolites:  907\n",
      "Number of genes:  746\n"
     ]
    }
   ],
   "source": [
    "print('Number of reactions: ',len(M_1_1.reactions))\n",
    "print('Number of metabolites: ',len(M_1_1.metabolites))\n",
    "print('Number of genes: ',len(M_1_1.genes))"
   ]
  },
  {
   "cell_type": "markdown",
   "id": "8f9b0c23",
   "metadata": {},
   "source": [
    "### Objective function and biomass flux in the wild type "
   ]
  },
  {
   "cell_type": "code",
   "execution_count": 10,
   "id": "190d71ec",
   "metadata": {},
   "outputs": [],
   "source": [
    "objective2 = M_1_1.problem.Objective(\n",
    "    M_1_1.reactions.BIOMASS_KT_TEMP.flux_expression,\n",
    "    direction = 'max')"
   ]
  },
  {
   "cell_type": "code",
   "execution_count": 11,
   "id": "b91ef48c",
   "metadata": {},
   "outputs": [],
   "source": [
    "M_1_1.objective = objective2"
   ]
  },
  {
   "cell_type": "code",
   "execution_count": 12,
   "id": "e485a8c9",
   "metadata": {},
   "outputs": [
    {
     "data": {
      "text/latex": [
       "$\\displaystyle 1.0 BIOMASS_{KT TEMP} - 1.0 BIOMASS_{KT TEMP reverse d18f7}$"
      ],
      "text/plain": [
       "1.0*BIOMASS_KT_TEMP - 1.0*BIOMASS_KT_TEMP_reverse_d18f7"
      ]
     },
     "execution_count": 12,
     "metadata": {},
     "output_type": "execute_result"
    }
   ],
   "source": [
    "M_1_1.objective.expression"
   ]
  },
  {
   "cell_type": "code",
   "execution_count": 13,
   "id": "e16bd303",
   "metadata": {},
   "outputs": [
    {
     "data": {
      "text/html": [
       "<h3>Objective</h3><p>1.0 BIOMASS_KT_TEMP = 1.4</p><h4>Uptake</h4><table border=\"1\" class=\"dataframe\">\n",
       "  <thead>\n",
       "    <tr style=\"text-align: right;\">\n",
       "      <th>Metabolite</th>\n",
       "      <th>Reaction</th>\n",
       "      <th>Flux</th>\n",
       "      <th>C-Number</th>\n",
       "      <th>C-Flux</th>\n",
       "    </tr>\n",
       "  </thead>\n",
       "  <tbody>\n",
       "    <tr>\n",
       "      <td>fe2_e</td>\n",
       "      <td>EX_fe2_e</td>\n",
       "      <td>0.0014</td>\n",
       "      <td>0</td>\n",
       "      <td>0.00%</td>\n",
       "    </tr>\n",
       "    <tr>\n",
       "      <td>glc__D_e</td>\n",
       "      <td>EX_glc__D_e</td>\n",
       "      <td>8.262</td>\n",
       "      <td>6</td>\n",
       "      <td>87.72%</td>\n",
       "    </tr>\n",
       "    <tr>\n",
       "      <td>nh4_e</td>\n",
       "      <td>EX_nh4_e</td>\n",
       "      <td>14.44</td>\n",
       "      <td>0</td>\n",
       "      <td>0.00%</td>\n",
       "    </tr>\n",
       "    <tr>\n",
       "      <td>o2_e</td>\n",
       "      <td>EX_o2_e</td>\n",
       "      <td>4.065</td>\n",
       "      <td>0</td>\n",
       "      <td>0.00%</td>\n",
       "    </tr>\n",
       "    <tr>\n",
       "      <td>pi_e</td>\n",
       "      <td>EX_pi_e</td>\n",
       "      <td>1.072</td>\n",
       "      <td>0</td>\n",
       "      <td>0.00%</td>\n",
       "    </tr>\n",
       "    <tr>\n",
       "      <td>so4_e</td>\n",
       "      <td>EX_so4_e</td>\n",
       "      <td>0.3263</td>\n",
       "      <td>0</td>\n",
       "      <td>0.00%</td>\n",
       "    </tr>\n",
       "    <tr>\n",
       "      <td>mhpglu_c</td>\n",
       "      <td>SK_5mthglu_c</td>\n",
       "      <td>0.2744</td>\n",
       "      <td>25</td>\n",
       "      <td>12.14%</td>\n",
       "    </tr>\n",
       "    <tr>\n",
       "      <td>dna5mtc_c</td>\n",
       "      <td>SK_dna5mtc_c</td>\n",
       "      <td>0.007</td>\n",
       "      <td>11</td>\n",
       "      <td>0.14%</td>\n",
       "    </tr>\n",
       "  </tbody>\n",
       "</table><h4>Secretion</h4><table border=\"1\" class=\"dataframe\">\n",
       "  <thead>\n",
       "    <tr style=\"text-align: right;\">\n",
       "      <th>Metabolite</th>\n",
       "      <th>Reaction</th>\n",
       "      <th>Flux</th>\n",
       "      <th>C-Number</th>\n",
       "      <th>C-Flux</th>\n",
       "    </tr>\n",
       "  </thead>\n",
       "  <tbody>\n",
       "    <tr>\n",
       "      <td>co2_e</td>\n",
       "      <td>EX_co2_e</td>\n",
       "      <td>-2.919</td>\n",
       "      <td>1</td>\n",
       "      <td>28.15%</td>\n",
       "    </tr>\n",
       "    <tr>\n",
       "      <td>glyclt_e</td>\n",
       "      <td>EX_glyclt_e</td>\n",
       "      <td>-0.07</td>\n",
       "      <td>2</td>\n",
       "      <td>1.35%</td>\n",
       "    </tr>\n",
       "    <tr>\n",
       "      <td>h2o_e</td>\n",
       "      <td>EX_h2o_e</td>\n",
       "      <td>-30.52</td>\n",
       "      <td>0</td>\n",
       "      <td>0.00%</td>\n",
       "    </tr>\n",
       "    <tr>\n",
       "      <td>h_e</td>\n",
       "      <td>EX_h_e</td>\n",
       "      <td>-13.31</td>\n",
       "      <td>0</td>\n",
       "      <td>0.00%</td>\n",
       "    </tr>\n",
       "    <tr>\n",
       "      <td>hco3_e</td>\n",
       "      <td>EX_hco3_e</td>\n",
       "      <td>-0.6526</td>\n",
       "      <td>1</td>\n",
       "      <td>6.29%</td>\n",
       "    </tr>\n",
       "    <tr>\n",
       "      <td>dna_c</td>\n",
       "      <td>SK_dna_c</td>\n",
       "      <td>-0.007</td>\n",
       "      <td>10</td>\n",
       "      <td>0.68%</td>\n",
       "    </tr>\n",
       "    <tr>\n",
       "      <td>hpglu_c</td>\n",
       "      <td>SK_thglu_c</td>\n",
       "      <td>-0.2744</td>\n",
       "      <td>24</td>\n",
       "      <td>63.52%</td>\n",
       "    </tr>\n",
       "  </tbody>\n",
       "</table>"
      ],
      "text/plain": [
       "<cobra.summary.model_summary.ModelSummary at 0x2a35135baf0>"
      ]
     },
     "execution_count": 13,
     "metadata": {},
     "output_type": "execute_result"
    }
   ],
   "source": [
    "M_1_1.summary()"
   ]
  },
  {
   "cell_type": "markdown",
   "id": "c848deaf",
   "metadata": {},
   "source": [
    "### Pathway insertion"
   ]
  },
  {
   "cell_type": "markdown",
   "id": "d8c92e72",
   "metadata": {},
   "source": [
    "####  dTDP-L-rhamnose pathway"
   ]
  },
  {
   "cell_type": "markdown",
   "id": "9ca064a0",
   "metadata": {},
   "source": [
    "##### Reaction 2: D-glucose-1-phosphate -> dTDP-d-glucose"
   ]
  },
  {
   "cell_type": "code",
   "execution_count": 14,
   "id": "d7949c91",
   "metadata": {},
   "outputs": [
    {
     "data": {
      "text/plain": [
       "'dttp_c + g1p_c + h_c --> dtdpglu + ppi_c'"
      ]
     },
     "execution_count": 14,
     "metadata": {},
     "output_type": "execute_result"
    }
   ],
   "source": [
    "reaction2 = Reaction('d_glucose')\n",
    "reaction2.name = 'r_d_glucose'\n",
    "reaction2.lower_bound = 0.\n",
    "reaction2.upper_bound = 1000.0\n",
    "\n",
    "dglu = Metabolite(\n",
    "      'dtdpglu',\n",
    "      formula = 'C16H24N2O16P2',\n",
    "      name = 'dTDP-d-glucose',\n",
    "      compartment = 'c')\n",
    "\n",
    "\n",
    "reaction2.add_metabolites({\n",
    "    M_1_1.metabolites.dttp_c:-1.0,\n",
    "    M_1_1.metabolites.g1p_c:-1.0,\n",
    "    M_1_1.metabolites.h_c:-1.0,\n",
    "    dglu:1.0,\n",
    "    M_1_1.metabolites.ppi_c:1.0})\n",
    "\n",
    "reaction2.gene_reaction_rule= 'RmlA'\n",
    "\n",
    "reaction2.reaction"
   ]
  },
  {
   "cell_type": "code",
   "execution_count": 15,
   "id": "1ad1b175",
   "metadata": {},
   "outputs": [
    {
     "data": {
      "text/html": [
       "\n",
       "        <table>\n",
       "            <tr>\n",
       "                <td><strong>Reaction identifier</strong></td><td>d_glucose</td>\n",
       "            </tr><tr>\n",
       "                <td><strong>Name</strong></td><td>r_d_glucose</td>\n",
       "            </tr><tr>\n",
       "                <td><strong>Memory address</strong></td>\n",
       "                <td>0x2a351787820</td>\n",
       "            </tr><tr>\n",
       "                <td><strong>Stoichiometry</strong></td>\n",
       "                <td>\n",
       "                    <p style='text-align:right'>dttp_c + g1p_c + h_c --> dtdpglu + ppi_c</p>\n",
       "                    <p style='text-align:right'>DTTP C10H13N2O14P3 + D-Glucose 1-phosphate + H+ --> dTDP-d-glucose + Diphosphate</p>\n",
       "                </td>\n",
       "            </tr><tr>\n",
       "                <td><strong>GPR</strong></td><td>RmlA</td>\n",
       "            </tr><tr>\n",
       "                <td><strong>Lower bound</strong></td><td>0.0</td>\n",
       "            </tr><tr>\n",
       "                <td><strong>Upper bound</strong></td><td>1000.0</td>\n",
       "            </tr>\n",
       "        </table>\n",
       "        "
      ],
      "text/plain": [
       "<Reaction d_glucose at 0x2a351787820>"
      ]
     },
     "execution_count": 15,
     "metadata": {},
     "output_type": "execute_result"
    }
   ],
   "source": [
    "M_1_1.add_reaction(reaction2)\n",
    "M_1_1.reactions.d_glucose"
   ]
  },
  {
   "cell_type": "markdown",
   "id": "344b676f",
   "metadata": {},
   "source": [
    "##### Reaction 3: dTDP-d-glucose -> 4,6-Dideoxy-4-oxo-dTDP-D-glucose"
   ]
  },
  {
   "cell_type": "code",
   "execution_count": 16,
   "id": "aba7d249",
   "metadata": {},
   "outputs": [
    {
     "data": {
      "text/plain": [
       "'dtdpglu --> dioxoglu + h2o_c'"
      ]
     },
     "execution_count": 16,
     "metadata": {},
     "output_type": "execute_result"
    }
   ],
   "source": [
    "reaction3 = Reaction('dioxiglucose')\n",
    "reaction3.name = 'r_4,6-Dideoxy-4-oxo-dTDP-D-glucose'\n",
    "reaction3.lower_bound = 0.\n",
    "reaction3.upper_bound = 1000.0\n",
    "\n",
    "dioxoglu = Metabolite(\n",
    "      'dioxoglu',\n",
    "      formula = 'C16H24N2O15P2',\n",
    "      name = '4,6-Dideoxy-4-oxo-dTDP-D-glucose',\n",
    "      compartment = 'c')\n",
    "\n",
    "\n",
    "reaction3.add_metabolites({\n",
    "    M_1_1.metabolites.dtdpglu:-1.0,\n",
    "    dioxoglu:1.0,\n",
    "    M_1_1.metabolites.h2o_c:1.0})\n",
    "\n",
    "reaction3.gene_reaction_rule= 'RmlB'\n",
    "\n",
    "reaction3.reaction"
   ]
  },
  {
   "cell_type": "code",
   "execution_count": 17,
   "id": "d3e95bb2",
   "metadata": {},
   "outputs": [
    {
     "data": {
      "text/html": [
       "\n",
       "        <table>\n",
       "            <tr>\n",
       "                <td><strong>Reaction identifier</strong></td><td>dioxiglucose</td>\n",
       "            </tr><tr>\n",
       "                <td><strong>Name</strong></td><td>r_4,6-Dideoxy-4-oxo-dTDP-D-glucose</td>\n",
       "            </tr><tr>\n",
       "                <td><strong>Memory address</strong></td>\n",
       "                <td>0x2a35178a130</td>\n",
       "            </tr><tr>\n",
       "                <td><strong>Stoichiometry</strong></td>\n",
       "                <td>\n",
       "                    <p style='text-align:right'>dtdpglu --> dioxoglu + h2o_c</p>\n",
       "                    <p style='text-align:right'>dTDP-d-glucose --> 4,6-Dideoxy-4-oxo-dTDP-D-glucose + H2O H2O</p>\n",
       "                </td>\n",
       "            </tr><tr>\n",
       "                <td><strong>GPR</strong></td><td>RmlB</td>\n",
       "            </tr><tr>\n",
       "                <td><strong>Lower bound</strong></td><td>0.0</td>\n",
       "            </tr><tr>\n",
       "                <td><strong>Upper bound</strong></td><td>1000.0</td>\n",
       "            </tr>\n",
       "        </table>\n",
       "        "
      ],
      "text/plain": [
       "<Reaction dioxiglucose at 0x2a35178a130>"
      ]
     },
     "execution_count": 17,
     "metadata": {},
     "output_type": "execute_result"
    }
   ],
   "source": [
    "M_1_1.add_reaction(reaction3)\n",
    "M_1_1.reactions.dioxiglucose"
   ]
  },
  {
   "cell_type": "markdown",
   "id": "6cd0e36a",
   "metadata": {},
   "source": [
    "##### Reaction 4: 4,6-Dideoxy-4-oxo-dTDP-D-glucose -> dTDP-4-oxo-5-C-methyl-L-rhamnose"
   ]
  },
  {
   "cell_type": "code",
   "execution_count": 18,
   "id": "5171a8ab",
   "metadata": {},
   "outputs": [
    {
     "data": {
      "text/plain": [
       "'dioxoglu --> oxormn'"
      ]
     },
     "execution_count": 18,
     "metadata": {},
     "output_type": "execute_result"
    }
   ],
   "source": [
    "reaction4 = Reaction('oxorhamnose')\n",
    "reaction4.name = 'r_dTDP-4-oxo-5-C-methyl-L-rhamnose'\n",
    "reaction4.lower_bound = 0.\n",
    "reaction4.upper_bound = 1000.0\n",
    "\n",
    "oxormn = Metabolite(\n",
    "      'oxormn',\n",
    "      formula = 'C17H26N2O15P2',\n",
    "      name = 'dTDP-4-oxo-5-C-methyl-L-rhamnose',\n",
    "      compartment = 'c')\n",
    "\n",
    "\n",
    "reaction4.add_metabolites({\n",
    "    M_1_1.metabolites.dioxoglu:-1.0,\n",
    "    oxormn:1.0})\n",
    "\n",
    "reaction4.gene_reaction_rule= 'RmlC'\n",
    "\n",
    "reaction4.reaction"
   ]
  },
  {
   "cell_type": "code",
   "execution_count": 19,
   "id": "40725ff2",
   "metadata": {},
   "outputs": [
    {
     "data": {
      "text/html": [
       "\n",
       "        <table>\n",
       "            <tr>\n",
       "                <td><strong>Reaction identifier</strong></td><td>oxorhamnose</td>\n",
       "            </tr><tr>\n",
       "                <td><strong>Name</strong></td><td>r_dTDP-4-oxo-5-C-methyl-L-rhamnose</td>\n",
       "            </tr><tr>\n",
       "                <td><strong>Memory address</strong></td>\n",
       "                <td>0x2a3517874f0</td>\n",
       "            </tr><tr>\n",
       "                <td><strong>Stoichiometry</strong></td>\n",
       "                <td>\n",
       "                    <p style='text-align:right'>dioxoglu --> oxormn</p>\n",
       "                    <p style='text-align:right'>4,6-Dideoxy-4-oxo-dTDP-D-glucose --> dTDP-4-oxo-5-C-methyl-L-rhamnose</p>\n",
       "                </td>\n",
       "            </tr><tr>\n",
       "                <td><strong>GPR</strong></td><td>RmlC</td>\n",
       "            </tr><tr>\n",
       "                <td><strong>Lower bound</strong></td><td>0.0</td>\n",
       "            </tr><tr>\n",
       "                <td><strong>Upper bound</strong></td><td>1000.0</td>\n",
       "            </tr>\n",
       "        </table>\n",
       "        "
      ],
      "text/plain": [
       "<Reaction oxorhamnose at 0x2a3517874f0>"
      ]
     },
     "execution_count": 19,
     "metadata": {},
     "output_type": "execute_result"
    }
   ],
   "source": [
    "M_1_1.add_reaction(reaction4)\n",
    "M_1_1.reactions.oxorhamnose"
   ]
  },
  {
   "cell_type": "markdown",
   "id": "23b9a958",
   "metadata": {},
   "source": [
    "##### Reaction 5: dTDP-4-oxo-5-C-methyl-L-rhamnose -> dDTP-L-rhamnose"
   ]
  },
  {
   "cell_type": "code",
   "execution_count": 20,
   "id": "0abdd0c7",
   "metadata": {},
   "outputs": [
    {
     "data": {
      "text/plain": [
       "'h_c + nadph_c + oxormn --> dtdprmn + nadp_c'"
      ]
     },
     "execution_count": 20,
     "metadata": {},
     "output_type": "execute_result"
    }
   ],
   "source": [
    "reaction5 = Reaction('rhamnose')\n",
    "reaction5.name = 'r_dDTP-L-rhamnose'\n",
    "reaction5.lower_bound = 0.\n",
    "reaction5.upper_bound = 1000.0\n",
    "\n",
    "dtdprmn = Metabolite(\n",
    "      'dtdprmn',\n",
    "      formula = 'C16H24N2O15P2',\n",
    "      name = 'dDTP-L-rhamnose',\n",
    "      compartment = 'c')\n",
    "\n",
    "\n",
    "reaction5.add_metabolites({\n",
    "    M_1_1.metabolites.h_c:-1.0,\n",
    "    M_1_1.metabolites.nadph_c:-1.0,\n",
    "    M_1_1.metabolites.oxormn:-1.0,\n",
    "    dtdprmn:1.0,\n",
    "    M_1_1.metabolites.nadp_c:1.0})\n",
    "\n",
    "reaction5.gene_reaction_rule= 'RmlD'\n",
    "\n",
    "reaction5.reaction"
   ]
  },
  {
   "cell_type": "code",
   "execution_count": 21,
   "id": "afc3aec7",
   "metadata": {},
   "outputs": [
    {
     "data": {
      "text/html": [
       "\n",
       "        <table>\n",
       "            <tr>\n",
       "                <td><strong>Reaction identifier</strong></td><td>rhamnose</td>\n",
       "            </tr><tr>\n",
       "                <td><strong>Name</strong></td><td>r_dDTP-L-rhamnose</td>\n",
       "            </tr><tr>\n",
       "                <td><strong>Memory address</strong></td>\n",
       "                <td>0x2a35174bcd0</td>\n",
       "            </tr><tr>\n",
       "                <td><strong>Stoichiometry</strong></td>\n",
       "                <td>\n",
       "                    <p style='text-align:right'>h_c + nadph_c + oxormn --> dtdprmn + nadp_c</p>\n",
       "                    <p style='text-align:right'>H+ + Nicotinamide adenine dinucleotide phosphate - reduced + dTDP-4-oxo-5-C-methyl-L-rhamnose --> dDTP-L-rhamnose + Nicotinamide adenine dinucleotide phosphate</p>\n",
       "                </td>\n",
       "            </tr><tr>\n",
       "                <td><strong>GPR</strong></td><td>RmlD</td>\n",
       "            </tr><tr>\n",
       "                <td><strong>Lower bound</strong></td><td>0.0</td>\n",
       "            </tr><tr>\n",
       "                <td><strong>Upper bound</strong></td><td>1000.0</td>\n",
       "            </tr>\n",
       "        </table>\n",
       "        "
      ],
      "text/plain": [
       "<Reaction rhamnose at 0x2a35174bcd0>"
      ]
     },
     "execution_count": 21,
     "metadata": {},
     "output_type": "execute_result"
    }
   ],
   "source": [
    "M_1_1.add_reaction(reaction5)\n",
    "M_1_1.reactions.rhamnose"
   ]
  },
  {
   "cell_type": "code",
   "execution_count": 22,
   "id": "5eb80eaf",
   "metadata": {},
   "outputs": [
    {
     "name": "stdout",
     "output_type": "stream",
     "text": [
      "Number of reactions:  1058\n",
      "Number of metabolites:  911\n",
      "Number of genes:  750\n"
     ]
    }
   ],
   "source": [
    "print('Number of reactions: ',len(M_1_1.reactions))\n",
    "print('Number of metabolites: ',len(M_1_1.metabolites))\n",
    "print('Number of genes: ',len(M_1_1.genes))"
   ]
  },
  {
   "cell_type": "markdown",
   "id": "18d9709b",
   "metadata": {},
   "source": [
    "#### β-D-(β-D-hydroxyalkanoyloxy)alkanoic acid (HAA) pathway"
   ]
  },
  {
   "cell_type": "markdown",
   "id": "7a355922",
   "metadata": {},
   "source": [
    "##### Reaction 6: Acetyl-CoA -> Malonyl-CoA"
   ]
  },
  {
   "cell_type": "code",
   "execution_count": 23,
   "id": "1af9ca98",
   "metadata": {},
   "outputs": [
    {
     "data": {
      "text/plain": [
       "'accoa_c --> malcoame'"
      ]
     },
     "execution_count": 23,
     "metadata": {},
     "output_type": "execute_result"
    }
   ],
   "source": [
    "reaction6 = Reaction('MalonylCoA')\n",
    "reaction6.name = 'r_MalonylCoA'\n",
    "reaction6.lower_bound = 0.\n",
    "reaction6.upper_bound = 1000.\n",
    "\n",
    "malcoame = Metabolite(\n",
    "      'malcoame',\n",
    "      formula = 'C25H36N7O19P3S',\n",
    "      name = 'Malonyl-CoA',\n",
    "      compartment = 'c')\n",
    "\n",
    "\n",
    "reaction6.add_metabolites({\n",
    "    M_1_1.metabolites.accoa_c:-1.0,\n",
    "    malcoame:1.0})\n",
    "\n",
    "reaction6.gene_reaction_rule= 'ACCC'\n",
    "\n",
    "reaction6.reaction"
   ]
  },
  {
   "cell_type": "code",
   "execution_count": 24,
   "id": "3bdb2255",
   "metadata": {},
   "outputs": [
    {
     "data": {
      "text/html": [
       "\n",
       "        <table>\n",
       "            <tr>\n",
       "                <td><strong>Reaction identifier</strong></td><td>MalonylCoA</td>\n",
       "            </tr><tr>\n",
       "                <td><strong>Name</strong></td><td>r_MalonylCoA</td>\n",
       "            </tr><tr>\n",
       "                <td><strong>Memory address</strong></td>\n",
       "                <td>0x2a35174b7c0</td>\n",
       "            </tr><tr>\n",
       "                <td><strong>Stoichiometry</strong></td>\n",
       "                <td>\n",
       "                    <p style='text-align:right'>accoa_c --> malcoame</p>\n",
       "                    <p style='text-align:right'>Acetyl-CoA --> Malonyl-CoA</p>\n",
       "                </td>\n",
       "            </tr><tr>\n",
       "                <td><strong>GPR</strong></td><td>ACCC</td>\n",
       "            </tr><tr>\n",
       "                <td><strong>Lower bound</strong></td><td>0.0</td>\n",
       "            </tr><tr>\n",
       "                <td><strong>Upper bound</strong></td><td>1000.0</td>\n",
       "            </tr>\n",
       "        </table>\n",
       "        "
      ],
      "text/plain": [
       "<Reaction MalonylCoA at 0x2a35174b7c0>"
      ]
     },
     "execution_count": 24,
     "metadata": {},
     "output_type": "execute_result"
    }
   ],
   "source": [
    "M_1_1.add_reaction(reaction6)\n",
    "M_1_1.reactions.MalonylCoA"
   ]
  },
  {
   "cell_type": "markdown",
   "id": "11ef9f44",
   "metadata": {},
   "source": [
    "##### Reaction 7: Malonyl-CoA -> Malonyl-ACP "
   ]
  },
  {
   "cell_type": "code",
   "execution_count": 25,
   "id": "0a5d86d3",
   "metadata": {},
   "outputs": [
    {
     "data": {
      "text/plain": [
       "'malcoame --> malmeACP'"
      ]
     },
     "execution_count": 25,
     "metadata": {},
     "output_type": "execute_result"
    }
   ],
   "source": [
    "reaction7 = Reaction('MalonylACP')\n",
    "reaction7.name = 'r_Malonyl-ACP'\n",
    "reaction7.lower_bound = 0.\n",
    "reaction7.upper_bound = 1000.\n",
    "\n",
    "malmeACP = Metabolite(\n",
    "      'malmeACP',\n",
    "      formula = 'C15H25N2O10PRS',\n",
    "      name = 'Malonyl-ACP',\n",
    "      compartment = 'c')\n",
    "\n",
    "\n",
    "reaction7.add_metabolites({\n",
    "    M_1_1.metabolites.malcoame:-1.0,\n",
    "    malmeACP:1.0})\n",
    "\n",
    "reaction7.gene_reaction_rule= 'FabD'\n",
    "\n",
    "reaction7.reaction"
   ]
  },
  {
   "cell_type": "code",
   "execution_count": 26,
   "id": "828e4918",
   "metadata": {},
   "outputs": [
    {
     "data": {
      "text/html": [
       "\n",
       "        <table>\n",
       "            <tr>\n",
       "                <td><strong>Reaction identifier</strong></td><td>MalonylACP</td>\n",
       "            </tr><tr>\n",
       "                <td><strong>Name</strong></td><td>r_Malonyl-ACP</td>\n",
       "            </tr><tr>\n",
       "                <td><strong>Memory address</strong></td>\n",
       "                <td>0x2a3517a1f70</td>\n",
       "            </tr><tr>\n",
       "                <td><strong>Stoichiometry</strong></td>\n",
       "                <td>\n",
       "                    <p style='text-align:right'>malcoame --> malmeACP</p>\n",
       "                    <p style='text-align:right'>Malonyl-CoA --> Malonyl-ACP</p>\n",
       "                </td>\n",
       "            </tr><tr>\n",
       "                <td><strong>GPR</strong></td><td>FabD</td>\n",
       "            </tr><tr>\n",
       "                <td><strong>Lower bound</strong></td><td>0.0</td>\n",
       "            </tr><tr>\n",
       "                <td><strong>Upper bound</strong></td><td>1000.0</td>\n",
       "            </tr>\n",
       "        </table>\n",
       "        "
      ],
      "text/plain": [
       "<Reaction MalonylACP at 0x2a3517a1f70>"
      ]
     },
     "execution_count": 26,
     "metadata": {},
     "output_type": "execute_result"
    }
   ],
   "source": [
    "M_1_1.add_reaction(reaction7)\n",
    "M_1_1.reactions.MalonylACP"
   ]
  },
  {
   "cell_type": "markdown",
   "id": "1f9fffaa",
   "metadata": {},
   "source": [
    "##### Reaction 8: Malonyl-ACP -> β-ketoacyl-ACP"
   ]
  },
  {
   "cell_type": "code",
   "execution_count": 27,
   "id": "410573b8",
   "metadata": {},
   "outputs": [
    {
     "data": {
      "text/plain": [
       "'malmeACP --> actACP_c'"
      ]
     },
     "execution_count": 27,
     "metadata": {},
     "output_type": "execute_result"
    }
   ],
   "source": [
    "reaction8 = Reaction('ketoacylACP')\n",
    "reaction8.name = 'r_ketoacyl-ACP'\n",
    "reaction8.lower_bound = 0.\n",
    "reaction8.upper_bound = 1000.\n",
    "\n",
    "reaction8.add_metabolites({\n",
    "    M_1_1.metabolites.malmeACP:-1.0,\n",
    "    M_1_1.metabolites.actACP_c:1.0})\n",
    "\n",
    "reaction8.gene_reaction_rule= 'FabB'\n",
    "\n",
    "reaction8.reaction"
   ]
  },
  {
   "cell_type": "code",
   "execution_count": 28,
   "id": "1713a3d0",
   "metadata": {},
   "outputs": [
    {
     "data": {
      "text/html": [
       "\n",
       "        <table>\n",
       "            <tr>\n",
       "                <td><strong>Reaction identifier</strong></td><td>ketoacylACP</td>\n",
       "            </tr><tr>\n",
       "                <td><strong>Name</strong></td><td>r_ketoacyl-ACP</td>\n",
       "            </tr><tr>\n",
       "                <td><strong>Memory address</strong></td>\n",
       "                <td>0x2a3517a1fa0</td>\n",
       "            </tr><tr>\n",
       "                <td><strong>Stoichiometry</strong></td>\n",
       "                <td>\n",
       "                    <p style='text-align:right'>malmeACP --> actACP_c</p>\n",
       "                    <p style='text-align:right'>Malonyl-ACP --> Acetoacetyl-ACP</p>\n",
       "                </td>\n",
       "            </tr><tr>\n",
       "                <td><strong>GPR</strong></td><td>FabB</td>\n",
       "            </tr><tr>\n",
       "                <td><strong>Lower bound</strong></td><td>0.0</td>\n",
       "            </tr><tr>\n",
       "                <td><strong>Upper bound</strong></td><td>1000.0</td>\n",
       "            </tr>\n",
       "        </table>\n",
       "        "
      ],
      "text/plain": [
       "<Reaction ketoacylACP at 0x2a3517a1fa0>"
      ]
     },
     "execution_count": 28,
     "metadata": {},
     "output_type": "execute_result"
    }
   ],
   "source": [
    "M_1_1.add_reaction(reaction8)\n",
    "M_1_1.reactions.ketoacylACP"
   ]
  },
  {
   "cell_type": "markdown",
   "id": "f77c6aeb",
   "metadata": {},
   "source": [
    "##### Reaction 9: β-ketoacyl-ACP -> β-hydroxyacyl-ACP"
   ]
  },
  {
   "cell_type": "code",
   "execution_count": 29,
   "id": "10ff4fd1",
   "metadata": {},
   "outputs": [
    {
     "data": {
      "text/plain": [
       "'actACP_c --> hyacyACP'"
      ]
     },
     "execution_count": 29,
     "metadata": {},
     "output_type": "execute_result"
    }
   ],
   "source": [
    "reaction9 = Reaction('hydroxyacylACP')\n",
    "reaction9.name = 'r_hydroxyacyl-ACP'\n",
    "reaction9.lower_bound = 0.\n",
    "reaction9.upper_bound = 1000.\n",
    "\n",
    "hyacyACP = Metabolite(\n",
    "      'hyacyACP',\n",
    "      formula = 'C10H17O2S',\n",
    "      name = 'β-hydroxyacyl-ACP',\n",
    "      compartment = 'c')\n",
    "\n",
    "\n",
    "reaction9.add_metabolites({\n",
    "    M_1_1.metabolites.actACP_c:-1.0,\n",
    "    hyacyACP:1.0})\n",
    "\n",
    "reaction9.gene_reaction_rule= 'FabG'\n",
    "\n",
    "reaction9.reaction"
   ]
  },
  {
   "cell_type": "code",
   "execution_count": 30,
   "id": "e3c8bc45",
   "metadata": {},
   "outputs": [
    {
     "data": {
      "text/html": [
       "\n",
       "        <table>\n",
       "            <tr>\n",
       "                <td><strong>Reaction identifier</strong></td><td>hydroxyacylACP</td>\n",
       "            </tr><tr>\n",
       "                <td><strong>Name</strong></td><td>r_hydroxyacyl-ACP</td>\n",
       "            </tr><tr>\n",
       "                <td><strong>Memory address</strong></td>\n",
       "                <td>0x2a3517870d0</td>\n",
       "            </tr><tr>\n",
       "                <td><strong>Stoichiometry</strong></td>\n",
       "                <td>\n",
       "                    <p style='text-align:right'>actACP_c --> hyacyACP</p>\n",
       "                    <p style='text-align:right'>Acetoacetyl-ACP --> β-hydroxyacyl-ACP</p>\n",
       "                </td>\n",
       "            </tr><tr>\n",
       "                <td><strong>GPR</strong></td><td>FabG</td>\n",
       "            </tr><tr>\n",
       "                <td><strong>Lower bound</strong></td><td>0.0</td>\n",
       "            </tr><tr>\n",
       "                <td><strong>Upper bound</strong></td><td>1000.0</td>\n",
       "            </tr>\n",
       "        </table>\n",
       "        "
      ],
      "text/plain": [
       "<Reaction hydroxyacylACP at 0x2a3517870d0>"
      ]
     },
     "execution_count": 30,
     "metadata": {},
     "output_type": "execute_result"
    }
   ],
   "source": [
    "M_1_1.add_reaction(reaction9)\n",
    "M_1_1.reactions.hydroxyacylACP"
   ]
  },
  {
   "cell_type": "markdown",
   "id": "b31d1526",
   "metadata": {},
   "source": [
    "##### Reaction 10: β-hydroxyacyl-ACP -> β-D-(β-D-hydroxyalkanoyloxy)alkanoic acid (HAA)"
   ]
  },
  {
   "cell_type": "code",
   "execution_count": 31,
   "id": "f70cddaa",
   "metadata": {},
   "outputs": [
    {
     "data": {
      "text/plain": [
       "'hyacyACP --> HAA'"
      ]
     },
     "execution_count": 31,
     "metadata": {},
     "output_type": "execute_result"
    }
   ],
   "source": [
    "reaction10 = Reaction('HAA')\n",
    "reaction10.name = 'r_HAA'\n",
    "reaction10.lower_bound = 0.\n",
    "reaction10.upper_bound = 1000.\n",
    "\n",
    "HAA = Metabolite(\n",
    "      'HAA',\n",
    "      formula = 'C20H34O5',\n",
    "      name = 'β-D-(β-D-hydroxyalkanoyloxy)alkanoic acid ',\n",
    "      compartment = 'c')\n",
    "\n",
    "\n",
    "reaction10.add_metabolites({\n",
    "    M_1_1.metabolites.hyacyACP:-1.0,\n",
    "    HAA:1.0})\n",
    "\n",
    "reaction10.gene_reaction_rule= 'RhlA'\n",
    "\n",
    "reaction10.reaction"
   ]
  },
  {
   "cell_type": "code",
   "execution_count": 32,
   "id": "df2eea2e",
   "metadata": {},
   "outputs": [
    {
     "data": {
      "text/html": [
       "\n",
       "        <table>\n",
       "            <tr>\n",
       "                <td><strong>Reaction identifier</strong></td><td>HAA</td>\n",
       "            </tr><tr>\n",
       "                <td><strong>Name</strong></td><td>r_HAA</td>\n",
       "            </tr><tr>\n",
       "                <td><strong>Memory address</strong></td>\n",
       "                <td>0x2a3517870a0</td>\n",
       "            </tr><tr>\n",
       "                <td><strong>Stoichiometry</strong></td>\n",
       "                <td>\n",
       "                    <p style='text-align:right'>hyacyACP --> HAA</p>\n",
       "                    <p style='text-align:right'>β-hydroxyacyl-ACP --> β-D-(β-D-hydroxyalkanoyloxy)alkanoic acid</p>\n",
       "                </td>\n",
       "            </tr><tr>\n",
       "                <td><strong>GPR</strong></td><td>RhlA</td>\n",
       "            </tr><tr>\n",
       "                <td><strong>Lower bound</strong></td><td>0.0</td>\n",
       "            </tr><tr>\n",
       "                <td><strong>Upper bound</strong></td><td>1000.0</td>\n",
       "            </tr>\n",
       "        </table>\n",
       "        "
      ],
      "text/plain": [
       "<Reaction HAA at 0x2a3517870a0>"
      ]
     },
     "execution_count": 32,
     "metadata": {},
     "output_type": "execute_result"
    }
   ],
   "source": [
    "M_1_1.add_reaction(reaction10)\n",
    "M_1_1.reactions.HAA"
   ]
  },
  {
   "cell_type": "code",
   "execution_count": 33,
   "id": "3b60a572",
   "metadata": {},
   "outputs": [
    {
     "name": "stdout",
     "output_type": "stream",
     "text": [
      "Number of reactions:  1063\n",
      "Number of metabolites:  915\n",
      "Number of genes:  755\n"
     ]
    }
   ],
   "source": [
    "print('Number of reactions: ',len(M_1_1.reactions))\n",
    "print('Number of metabolites: ',len(M_1_1.metabolites))\n",
    "print('Number of genes: ',len(M_1_1.genes))"
   ]
  },
  {
   "cell_type": "markdown",
   "id": "35fe7f2c",
   "metadata": {},
   "source": [
    "####  Ramnhose and HAA drain reactions"
   ]
  },
  {
   "cell_type": "code",
   "execution_count": 34,
   "id": "eca010c2",
   "metadata": {},
   "outputs": [],
   "source": [
    "ChorDrain1 = Reaction('R_EX_rhamnose')\n",
    "ChorDrain1.name = 'rhamnose exchange' \n",
    "ChorDrain1.lower_bound = 0.\n",
    "ChorDrain1.upper_bound = 1000."
   ]
  },
  {
   "cell_type": "code",
   "execution_count": 35,
   "id": "38549759",
   "metadata": {},
   "outputs": [],
   "source": [
    "ChorDrain1.add_metabolites({\n",
    "    M_1_1.metabolites.dtdprmn: -1.0,\n",
    "\n",
    "})"
   ]
  },
  {
   "cell_type": "code",
   "execution_count": 36,
   "id": "0da7d23d",
   "metadata": {},
   "outputs": [
    {
     "data": {
      "text/plain": [
       "'dtdprmn --> '"
      ]
     },
     "execution_count": 36,
     "metadata": {},
     "output_type": "execute_result"
    }
   ],
   "source": [
    "ChorDrain1.reaction"
   ]
  },
  {
   "cell_type": "code",
   "execution_count": 37,
   "id": "551be7e8",
   "metadata": {},
   "outputs": [],
   "source": [
    "M_1_1.add_reactions([ChorDrain1])"
   ]
  },
  {
   "cell_type": "code",
   "execution_count": 38,
   "id": "6cd43551",
   "metadata": {},
   "outputs": [],
   "source": [
    "ChorDrain2 = Reaction('R_EX_HAA')\n",
    "ChorDrain2.name = 'HAA exchange' \n",
    "ChorDrain2.lower_bound = 0.\n",
    "ChorDrain2.upper_bound = 1000."
   ]
  },
  {
   "cell_type": "code",
   "execution_count": 39,
   "id": "4571ba0c",
   "metadata": {},
   "outputs": [],
   "source": [
    "ChorDrain2.add_metabolites({\n",
    "    M_1_1.metabolites.HAA: -1.0,\n",
    "\n",
    "})"
   ]
  },
  {
   "cell_type": "code",
   "execution_count": 40,
   "id": "cb9c1255",
   "metadata": {},
   "outputs": [
    {
     "data": {
      "text/plain": [
       "'HAA --> '"
      ]
     },
     "execution_count": 40,
     "metadata": {},
     "output_type": "execute_result"
    }
   ],
   "source": [
    "ChorDrain2.reaction"
   ]
  },
  {
   "cell_type": "code",
   "execution_count": 41,
   "id": "9e151347",
   "metadata": {},
   "outputs": [],
   "source": [
    "M_1_1.add_reactions([ChorDrain2])"
   ]
  },
  {
   "cell_type": "markdown",
   "id": "33eda177",
   "metadata": {},
   "source": [
    "#### Save the  XML file with the new reactions"
   ]
  },
  {
   "cell_type": "code",
   "execution_count": 55,
   "id": "84ce2e21",
   "metadata": {},
   "outputs": [
    {
     "name": "stdout",
     "output_type": "stream",
     "text": [
      "(<Model iJN746 at 0x26e34b63f70>,\n",
      " {'COBRA_CHECK': [],\n",
      "  'COBRA_ERROR': [],\n",
      "  'COBRA_FATAL': [],\n",
      "  'COBRA_WARNING': [],\n",
      "  'SBML_ERROR': [],\n",
      "  'SBML_FATAL': [],\n",
      "  'SBML_SCHEMA_ERROR': [],\n",
      "  'SBML_WARNING': []})\n"
     ]
    }
   ],
   "source": [
    "import tempfile\n",
    "from pprint import pprint\n",
    "from cobra.io import write_sbml_model, validate_sbml_model\n",
    "with tempfile.NamedTemporaryFile(suffix='.xml') as f_sbml:\n",
    "    write_sbml_model(M_1_1 , 'iJN746_metabolitosrascunho.xml')\n",
    "    report = validate_sbml_model('iJN746_metabolitosrascunho.xml')\n",
    "pprint(report)"
   ]
  },
  {
   "cell_type": "code",
   "execution_count": 56,
   "id": "c707fca8",
   "metadata": {},
   "outputs": [],
   "source": [
    "cobra.io.write_sbml_model(M_1_1,'iJN746_metabolitosrascunho.xml')"
   ]
  },
  {
   "cell_type": "markdown",
   "id": "d28feedd",
   "metadata": {},
   "source": [
    "### Objective function and flux of rhamnose product "
   ]
  },
  {
   "cell_type": "code",
   "execution_count": 42,
   "id": "007022fe",
   "metadata": {},
   "outputs": [],
   "source": [
    "objective1 = M_1_1.problem.Objective(\n",
    "    M_1_1.reactions.R_EX_rhamnose.flux_expression, \n",
    "    direction = 'max')"
   ]
  },
  {
   "cell_type": "code",
   "execution_count": 43,
   "id": "519a0dca",
   "metadata": {},
   "outputs": [],
   "source": [
    "M_1_1.objective = objective1"
   ]
  },
  {
   "cell_type": "code",
   "execution_count": 44,
   "id": "db251e10",
   "metadata": {},
   "outputs": [
    {
     "data": {
      "text/latex": [
       "$\\displaystyle 1.0 R_{EX rhamnose} - 1.0 R_{EX rhamnose reverse 1411e}$"
      ],
      "text/plain": [
       "1.0*R_EX_rhamnose - 1.0*R_EX_rhamnose_reverse_1411e"
      ]
     },
     "execution_count": 44,
     "metadata": {},
     "output_type": "execute_result"
    }
   ],
   "source": [
    "M_1_1.objective.expression"
   ]
  },
  {
   "cell_type": "code",
   "execution_count": 45,
   "id": "00c54af9",
   "metadata": {},
   "outputs": [
    {
     "data": {
      "text/html": [
       "<h3>Objective</h3><p>1.0 R_EX_rhamnose = 5.296127090909085</p><h4>Uptake</h4><table border=\"1\" class=\"dataframe\">\n",
       "  <thead>\n",
       "    <tr style=\"text-align: right;\">\n",
       "      <th>Metabolite</th>\n",
       "      <th>Reaction</th>\n",
       "      <th>Flux</th>\n",
       "      <th>C-Number</th>\n",
       "      <th>C-Flux</th>\n",
       "    </tr>\n",
       "  </thead>\n",
       "  <tbody>\n",
       "    <tr>\n",
       "      <td>fe2_e</td>\n",
       "      <td>EX_fe2_e</td>\n",
       "      <td>0.001</td>\n",
       "      <td>0</td>\n",
       "      <td>0.00%</td>\n",
       "    </tr>\n",
       "    <tr>\n",
       "      <td>glc__D_e</td>\n",
       "      <td>EX_glc__D_e</td>\n",
       "      <td>20</td>\n",
       "      <td>6</td>\n",
       "      <td>96.03%</td>\n",
       "    </tr>\n",
       "    <tr>\n",
       "      <td>nh4_e</td>\n",
       "      <td>EX_nh4_e</td>\n",
       "      <td>20.91</td>\n",
       "      <td>0</td>\n",
       "      <td>0.00%</td>\n",
       "    </tr>\n",
       "    <tr>\n",
       "      <td>o2_e</td>\n",
       "      <td>EX_o2_e</td>\n",
       "      <td>2.833</td>\n",
       "      <td>0</td>\n",
       "      <td>0.00%</td>\n",
       "    </tr>\n",
       "    <tr>\n",
       "      <td>pi_e</td>\n",
       "      <td>EX_pi_e</td>\n",
       "      <td>11.36</td>\n",
       "      <td>0</td>\n",
       "      <td>0.00%</td>\n",
       "    </tr>\n",
       "    <tr>\n",
       "      <td>so4_e</td>\n",
       "      <td>EX_so4_e</td>\n",
       "      <td>0.2331</td>\n",
       "      <td>0</td>\n",
       "      <td>0.00%</td>\n",
       "    </tr>\n",
       "    <tr>\n",
       "      <td>mhpglu_c</td>\n",
       "      <td>SK_5mthglu_c</td>\n",
       "      <td>0.196</td>\n",
       "      <td>25</td>\n",
       "      <td>3.92%</td>\n",
       "    </tr>\n",
       "    <tr>\n",
       "      <td>dna5mtc_c</td>\n",
       "      <td>SK_dna5mtc_c</td>\n",
       "      <td>0.005</td>\n",
       "      <td>11</td>\n",
       "      <td>0.04%</td>\n",
       "    </tr>\n",
       "  </tbody>\n",
       "</table><h4>Secretion</h4><table border=\"1\" class=\"dataframe\">\n",
       "  <thead>\n",
       "    <tr style=\"text-align: right;\">\n",
       "      <th>Metabolite</th>\n",
       "      <th>Reaction</th>\n",
       "      <th>Flux</th>\n",
       "      <th>C-Number</th>\n",
       "      <th>C-Flux</th>\n",
       "    </tr>\n",
       "  </thead>\n",
       "  <tbody>\n",
       "    <tr>\n",
       "      <td>co2_e</td>\n",
       "      <td>EX_co2_e</td>\n",
       "      <td>-2.039</td>\n",
       "      <td>1</td>\n",
       "      <td>2.22%</td>\n",
       "    </tr>\n",
       "    <tr>\n",
       "      <td>h2o_e</td>\n",
       "      <td>EX_h2o_e</td>\n",
       "      <td>-69.42</td>\n",
       "      <td>0</td>\n",
       "      <td>0.00%</td>\n",
       "    </tr>\n",
       "    <tr>\n",
       "      <td>h_e</td>\n",
       "      <td>EX_h_e</td>\n",
       "      <td>-9.457</td>\n",
       "      <td>0</td>\n",
       "      <td>0.00%</td>\n",
       "    </tr>\n",
       "    <tr>\n",
       "      <td>hco3_e</td>\n",
       "      <td>EX_hco3_e</td>\n",
       "      <td>-0.4661</td>\n",
       "      <td>1</td>\n",
       "      <td>0.51%</td>\n",
       "    </tr>\n",
       "    <tr>\n",
       "      <td>dtdprmn</td>\n",
       "      <td>R_EX_rhamnose</td>\n",
       "      <td>-5.296</td>\n",
       "      <td>16</td>\n",
       "      <td>92.11%</td>\n",
       "    </tr>\n",
       "    <tr>\n",
       "      <td>dna_c</td>\n",
       "      <td>SK_dna_c</td>\n",
       "      <td>-0.005</td>\n",
       "      <td>10</td>\n",
       "      <td>0.05%</td>\n",
       "    </tr>\n",
       "    <tr>\n",
       "      <td>hpglu_c</td>\n",
       "      <td>SK_thglu_c</td>\n",
       "      <td>-0.196</td>\n",
       "      <td>24</td>\n",
       "      <td>5.11%</td>\n",
       "    </tr>\n",
       "  </tbody>\n",
       "</table>"
      ],
      "text/plain": [
       "<cobra.summary.model_summary.ModelSummary at 0x26e2f97a730>"
      ]
     },
     "execution_count": 45,
     "metadata": {},
     "output_type": "execute_result"
    }
   ],
   "source": [
    "M_1_1.summary()"
   ]
  },
  {
   "cell_type": "markdown",
   "id": "f1e5711c",
   "metadata": {},
   "source": [
    "### Simulations"
   ]
  },
  {
   "cell_type": "code",
   "execution_count": 46,
   "id": "5fe9b434",
   "metadata": {},
   "outputs": [],
   "source": [
    "from mewpy.simulation import get_simulator\n",
    "simul = get_simulator(M_1_1)"
   ]
  },
  {
   "cell_type": "code",
   "execution_count": 47,
   "id": "78e1996e",
   "metadata": {},
   "outputs": [
    {
     "data": {
      "text/html": [
       "<strong><em>Optimal</em> solution with objective value 1179.533</strong><br><div>\n",
       "<style scoped>\n",
       "    .dataframe tbody tr th:only-of-type {\n",
       "        vertical-align: middle;\n",
       "    }\n",
       "\n",
       "    .dataframe tbody tr th {\n",
       "        vertical-align: top;\n",
       "    }\n",
       "\n",
       "    .dataframe thead th {\n",
       "        text-align: right;\n",
       "    }\n",
       "</style>\n",
       "<table border=\"1\" class=\"dataframe\">\n",
       "  <thead>\n",
       "    <tr style=\"text-align: right;\">\n",
       "      <th></th>\n",
       "      <th>fluxes</th>\n",
       "      <th>reduced_costs</th>\n",
       "    </tr>\n",
       "  </thead>\n",
       "  <tbody>\n",
       "    <tr>\n",
       "      <th>EX_gly_e</th>\n",
       "      <td>0.000000e+00</td>\n",
       "      <td>26.5</td>\n",
       "    </tr>\n",
       "    <tr>\n",
       "      <th>3OAR141</th>\n",
       "      <td>6.000000e-03</td>\n",
       "      <td>-2.0</td>\n",
       "    </tr>\n",
       "    <tr>\n",
       "      <th>EX_glyald_e</th>\n",
       "      <td>0.000000e+00</td>\n",
       "      <td>40.0</td>\n",
       "    </tr>\n",
       "    <tr>\n",
       "      <th>3OAR160</th>\n",
       "      <td>4.000000e-03</td>\n",
       "      <td>-2.0</td>\n",
       "    </tr>\n",
       "    <tr>\n",
       "      <th>3OAR161</th>\n",
       "      <td>6.000000e-03</td>\n",
       "      <td>-2.0</td>\n",
       "    </tr>\n",
       "    <tr>\n",
       "      <th>...</th>\n",
       "      <td>...</td>\n",
       "      <td>...</td>\n",
       "    </tr>\n",
       "    <tr>\n",
       "      <th>ketoacylACP</th>\n",
       "      <td>0.000000e+00</td>\n",
       "      <td>-2.0</td>\n",
       "    </tr>\n",
       "    <tr>\n",
       "      <th>hydroxyacylACP</th>\n",
       "      <td>-3.469447e-18</td>\n",
       "      <td>-2.0</td>\n",
       "    </tr>\n",
       "    <tr>\n",
       "      <th>HAA</th>\n",
       "      <td>-3.469447e-18</td>\n",
       "      <td>-2.0</td>\n",
       "    </tr>\n",
       "    <tr>\n",
       "      <th>R_EX_rhamnose</th>\n",
       "      <td>5.296127e+00</td>\n",
       "      <td>-2.0</td>\n",
       "    </tr>\n",
       "    <tr>\n",
       "      <th>R_EX_HAA</th>\n",
       "      <td>-3.469447e-18</td>\n",
       "      <td>-2.0</td>\n",
       "    </tr>\n",
       "  </tbody>\n",
       "</table>\n",
       "<p>1065 rows × 2 columns</p>\n",
       "</div>"
      ],
      "text/plain": [
       "<Solution 1179.533 at 0x26e348b08e0>"
      ]
     },
     "execution_count": 47,
     "metadata": {},
     "output_type": "execute_result"
    }
   ],
   "source": [
    "pfba_solution = cobra.flux_analysis.pfba(M_1_1)\n",
    "pfba_solution"
   ]
  },
  {
   "cell_type": "code",
   "execution_count": 48,
   "id": "66eb60b6",
   "metadata": {},
   "outputs": [
    {
     "data": {
      "text/plain": [
       "objective: 1179.5325115681806\n",
       "Status: OPTIMAL\n",
       "Constraints: OrderedDict()\n",
       "Method:pFBA"
      ]
     },
     "execution_count": 48,
     "metadata": {},
     "output_type": "execute_result"
    }
   ],
   "source": [
    "result = simul.simulate(method='pFBA')\n",
    "\n",
    "result"
   ]
  },
  {
   "cell_type": "code",
   "execution_count": 49,
   "id": "bfe98852",
   "metadata": {},
   "outputs": [
    {
     "data": {
      "text/plain": [
       "0.14"
      ]
     },
     "execution_count": 49,
     "metadata": {},
     "output_type": "execute_result"
    }
   ],
   "source": [
    "constraints = {'BIOMASS_KT_TEMP': (0.14, 1000)}\n",
    "\n",
    "# run a pFBA simulation accounting with the new constraint\n",
    "result = simul.simulate(method='pFBA',constraints=constraints)\n",
    "\n",
    "result.fluxes['BIOMASS_KT_TEMP']"
   ]
  },
  {
   "cell_type": "code",
   "execution_count": 50,
   "id": "24a8f6e1",
   "metadata": {},
   "outputs": [
    {
     "data": {
      "text/plain": [
       "objective: 981.3070972940942\n",
       "Status: OPTIMAL\n",
       "Constraints: OrderedDict([('BIOMASS_KT_TEMP', (0.14, 1000))])\n",
       "Method:pFBA"
      ]
     },
     "execution_count": 50,
     "metadata": {},
     "output_type": "execute_result"
    }
   ],
   "source": [
    "result"
   ]
  },
  {
   "cell_type": "markdown",
   "id": "3523a953",
   "metadata": {},
   "source": [
    "### BCPY simulations to maximize the ramnhose production "
   ]
  },
  {
   "cell_type": "markdown",
   "id": "11043c19",
   "metadata": {},
   "source": [
    "#### RKO problem (Reaction Constraint Problems)"
   ]
  },
  {
   "cell_type": "code",
   "execution_count": 42,
   "id": "f990c1f5",
   "metadata": {},
   "outputs": [],
   "source": [
    "# Define the target\n",
    "PRODUCT_ID = 'R_EX_rhamnose'\n",
    "BIOMASS_ID = 'BIOMASS_KT_TEMP'\n",
    "\n",
    "# environmental conditions\n",
    "envcond = {'BIOMASS_KT_TEMP': (0.14, 1000)}\n",
    "\n",
    "# Optimization objectives\n",
    "\n",
    "evaluator_1 = BPCY(BIOMASS_ID, PRODUCT_ID, method='pFBA')\n",
    "evaluator_2 = WYIELD(BIOMASS_ID, PRODUCT_ID)\n",
    "\n",
    "# build a new reaction deletion problem instance\n",
    "from mewpy.problems import RKOProblem\n",
    "\n",
    "problem = RKOProblem(M_1_1, \n",
    "               fevaluation=[evaluator_1, evaluator_2], \n",
    "               envcond=envcond)\n",
    "\n"
   ]
  },
  {
   "cell_type": "markdown",
   "id": "5d44598d",
   "metadata": {},
   "source": [
    "#### Values for max_generations = 50"
   ]
  },
  {
   "cell_type": "code",
   "execution_count": 52,
   "id": "fa539a31",
   "metadata": {},
   "outputs": [
    {
     "name": "stdout",
     "output_type": "stream",
     "text": [
      "Building modification target list.\n",
      "Computing essential reactions:\n"
     ]
    },
    {
     "name": "stderr",
     "output_type": "stream",
     "text": [
      "  0%|          | 0/1065 [00:00<?, ?it/s]C:\\Users\\Asus\\anaconda3\\lib\\site-packages\\cobra\\util\\solver.py:554: UserWarning: Solver status is 'infeasible'.\n",
      "  warn(f\"Solver status is '{status}'.\", UserWarning)\n",
      "100%|██████████| 1065/1065 [00:42<00:00, 25.16it/s]\n"
     ]
    },
    {
     "name": "stdout",
     "output_type": "stream",
     "text": [
      "Running NSGAII\n"
     ]
    },
    {
     "data": {
      "image/png": "[encoded data removed]",
      "text/plain": [
       "<Figure size 432x288 with 1 Axes>"
      ]
     },
     "metadata": {
      "needs_background": "light"
     },
     "output_type": "display_data"
    }
   ],
   "source": [
    "from mewpy.problems import RKOProblem\n",
    "\n",
    "problem0 = RKOProblem(M_1_1, \n",
    "               fevaluation=[evaluator_1, evaluator_2], \n",
    "               envcond=envcond)\n",
    "\n",
    "from mewpy.optimization import EA\n",
    "\n",
    "ea0 = EA(problem0, max_generations= 50, visualizer=True)\n",
    "final_pop9 = ea0.run()"
   ]
  },
  {
   "cell_type": "code",
   "execution_count": 54,
   "id": "86e4a207",
   "metadata": {},
   "outputs": [],
   "source": [
    "from mewpy.util.io import population_to_csv\n",
    "population_to_csv(problem0,final_pop9,'resultsRKOpfba50rascunho.csv')"
   ]
  },
  {
   "cell_type": "code",
   "execution_count": 53,
   "id": "dec3a043",
   "metadata": {},
   "outputs": [
    {
     "data": {
      "text/plain": [
       "[[0.9795426121939397, 0.0];{'PSD180': 0, 'PSSA181': 0}]"
      ]
     },
     "execution_count": 53,
     "metadata": {},
     "output_type": "execute_result"
    }
   ],
   "source": [
    "final_pop9[0:200]"
   ]
  },
  {
   "cell_type": "markdown",
   "id": "72d66816",
   "metadata": {},
   "source": [
    "####  ROU problem (reaction over- or under expression optimization)"
   ]
  },
  {
   "cell_type": "code",
   "execution_count": 57,
   "id": "11520759",
   "metadata": {},
   "outputs": [],
   "source": [
    "# build a new reaction over/under expression problem instance\n",
    "PRODUCT_ID = 'R_EX_rhamnose'\n",
    "BIOMASS_ID = 'BIOMASS_KT_TEMP'\n",
    "\n",
    "# environmental conditions\n",
    "envcond = {'BIOMASS_KT_TEMP': (0.14, 1000)}\n",
    "\n",
    "# Optimization objectives\n",
    "\n",
    "evaluator_1 = BPCY(BIOMASS_ID, PRODUCT_ID, method='pFBA')\n",
    "evaluator_2 = WYIELD(BIOMASS_ID, PRODUCT_ID)\n",
    "from mewpy.problems import ROUProblem\n",
    "\n",
    "from mewpy.optimization import EA\n",
    "problem1 = ROUProblem(M_1_1, \n",
    "               fevaluation=[evaluator_1, evaluator_2], \n",
    "               envcond=envcond)\n"
   ]
  },
  {
   "cell_type": "markdown",
   "id": "5881b540",
   "metadata": {},
   "source": [
    "#### Values for max_generations = 50"
   ]
  },
  {
   "cell_type": "code",
   "execution_count": 58,
   "id": "7bf449c6",
   "metadata": {},
   "outputs": [
    {
     "name": "stdout",
     "output_type": "stream",
     "text": [
      "Building modification target list.\n",
      "Running NSGAII\n"
     ]
    },
    {
     "data": {
      "image/png": "[encoded data removed]",
      "text/plain": [
       "<Figure size 432x288 with 1 Axes>"
      ]
     },
     "metadata": {
      "needs_background": "light"
     },
     "output_type": "display_data"
    }
   ],
   "source": [
    "ea5 = EA(problem1, max_generations= 50, visualizer=True)\n",
    "final_pop5 = ea5.run()"
   ]
  },
  {
   "cell_type": "code",
   "execution_count": 59,
   "id": "6b51fb0c",
   "metadata": {},
   "outputs": [],
   "source": [
    "# Save the solutions to a csv file\n",
    "from mewpy.util.io import population_to_csv\n",
    "population_to_csv(problem1,final_pop5,'resultsROUpfba50rascunho.csv')"
   ]
  },
  {
   "cell_type": "code",
   "execution_count": 60,
   "id": "b2db1319",
   "metadata": {},
   "outputs": [
    {
     "data": {
      "text/plain": [
       "[[3.45286545570908, 1.849749351272727];{'DHNPA': 4},\n",
       " [6.373120018618179, 0.8535428596363613];{'EAR141y': 16},\n",
       " [5.666007277381812, 1.5176805207272708];{'G1SAT': 8},\n",
       " [5.66600727737812, 1.5176805207284256];{'QULNS': 8},\n",
       " [5.666007277381804, 1.5176805207272706];{'GLCNt2rpp': 16, 'SUCCt2_2pp': 0, 'EAR141y': 8, 'G1SAT': 8, 'PDX5POi': 0.5},\n",
       " [5.666007277381804, 1.5176805207272706];{'EX_val__L_e': 16, 'SUCCt2_2pp': 0, 'EAR141y': 8, 'G1SAT': 8, 'PDX5POi': 0.5},\n",
       " [5.666007277381804, 1.5176805207272706];{'EX_val__L_e': 16, 'GLCNt2rpp': 16, 'EAR141y': 8, 'G1SAT': 8, 'PDX5POi': 0.5},\n",
       " [5.666007277381804, 1.5176805207272706];{'EX_val__L_e': 16, 'GLCNt2rpp': 16, 'SUCCt2_2pp': 0, 'G1SAT': 8, 'PDX5POi': 0.5},\n",
       " [5.666007277381804, 1.5176805207272706];{'EX_val__L_e': 16, 'GLCNt2rpp': 16, 'SUCCt2_2pp': 0, 'EAR141y': 8, 'PDX5POi': 0.5},\n",
       " [5.666007277381804, 1.5176805207272706];{'EX_val__L_e': 16, 'GLCNt2rpp': 16, 'SUCCt2_2pp': 0, 'EAR141y': 8, 'G1SAT': 8},\n",
       " [5.66600727738181, 1.5176805207272732];{'DASYN120': 8},\n",
       " [5.666007277381814, 1.5176805207272717];{'EX_val__L_e': 16, 'GLCNt2rpp': 16, 'PC6YM': 32, 'G1SAT': 8},\n",
       " [5.666007277381814, 1.5176805207272717];{'DASYN120': 8, 'GLCNt2rpp': 16, 'PC6YM': 32, 'G1SAT': 8},\n",
       " [5.666007277381814, 1.5176805207272717];{'EX_val__L_e': 16, 'DASYN120': 8, 'PC6YM': 32, 'G1SAT': 8},\n",
       " [5.666007277381814, 1.5176805207272717];{'EX_val__L_e': 16, 'DASYN120': 8, 'GLCNt2rpp': 16, 'G1SAT': 8},\n",
       " [5.666007277381814, 1.5176805207272717];{'EX_val__L_e': 16, 'DASYN120': 8, 'GLCNt2rpp': 16, 'PC6YM': 32}]"
      ]
     },
     "execution_count": 60,
     "metadata": {},
     "output_type": "execute_result"
    }
   ],
   "source": [
    "final_pop5[0:50]"
   ]
  },
  {
   "cell_type": "markdown",
   "id": "cff51337",
   "metadata": {},
   "source": [
    "#### GKO problem (Gene Constraint Problems)"
   ]
  },
  {
   "cell_type": "code",
   "execution_count": 61,
   "id": "251fa04a",
   "metadata": {},
   "outputs": [],
   "source": [
    "# build a new reaction over/under expression problem instance\n",
    "PRODUCT_ID = 'R_EX_rhamnose'\n",
    "BIOMASS_ID = 'BIOMASS_KT_TEMP'\n",
    "\n",
    "# environmental conditions\n",
    "envcond = {'BIOMASS_KT_TEMP': (0.14, 1000)}\n",
    "\n",
    "# Optimization objectives\n",
    "evaluator_1 = BPCY(BIOMASS_ID, PRODUCT_ID, method='pFBA')\n",
    "evaluator_2 = WYIELD(BIOMASS_ID, PRODUCT_ID)\n"
   ]
  },
  {
   "cell_type": "markdown",
   "id": "8a387e43",
   "metadata": {},
   "source": [
    "#### Values for max_generations = 50"
   ]
  },
  {
   "cell_type": "code",
   "execution_count": 62,
   "id": "1fb94491",
   "metadata": {},
   "outputs": [],
   "source": [
    "from mewpy.problems import GKOProblem\n",
    "problem7 = GKOProblem(M_1_1, fevaluation=[\n",
    "                         evaluator_1, evaluator_2], envcond=envcond)"
   ]
  },
  {
   "cell_type": "code",
   "execution_count": 63,
   "id": "c0e74d1b",
   "metadata": {},
   "outputs": [
    {
     "name": "stdout",
     "output_type": "stream",
     "text": [
      "Building modification target list.\n",
      "Computing essential genes:\n"
     ]
    },
    {
     "name": "stderr",
     "output_type": "stream",
     "text": [
      "  0%|          | 2/755 [00:01<06:46,  1.85it/s]C:\\Users\\Asus\\anaconda3\\lib\\site-packages\\cobra\\util\\solver.py:554: UserWarning: Solver status is 'infeasible'.\n",
      "  warn(f\"Solver status is '{status}'.\", UserWarning)\n",
      "100%|██████████| 755/755 [05:28<00:00,  2.30it/s]\n"
     ]
    },
    {
     "name": "stdout",
     "output_type": "stream",
     "text": [
      "Running NSGAII\n"
     ]
    },
    {
     "data": {
      "image/png": "[encoded data removed]",
      "text/plain": [
       "<Figure size 432x288 with 1 Axes>"
      ]
     },
     "metadata": {
      "needs_background": "light"
     },
     "output_type": "display_data"
    }
   ],
   "source": [
    "from mewpy.optimization import EA\n",
    "ea7 = EA(problem7, max_generations= 50, visualizer=True)\n",
    "final_pop7 = ea7.run()"
   ]
  },
  {
   "cell_type": "code",
   "execution_count": 64,
   "id": "c80bbec8",
   "metadata": {},
   "outputs": [],
   "source": [
    "from mewpy.util.io import population_to_csv\n",
    "\n",
    "population_to_csv(problem7,final_pop7,'resultsGKOpfba50rascunho.csv')"
   ]
  },
  {
   "cell_type": "markdown",
   "id": "dfe9b371",
   "metadata": {},
   "source": [
    "#### GOU problem (gene over- or under expression optimization)"
   ]
  },
  {
   "cell_type": "code",
   "execution_count": 43,
   "id": "14d14e43",
   "metadata": {},
   "outputs": [],
   "source": [
    "# build a new reaction over/under expression problem instance\n",
    "PRODUCT_ID = 'R_EX_rhamnose'\n",
    "BIOMASS_ID = 'BIOMASS_KT_TEMP'\n",
    "\n",
    "# environmental conditions\n",
    "envcond = {'BIOMASS_KT_TEMP': (0.14, 1000)}\n",
    "\n",
    "# Optimization objectives\n",
    "evaluator_1 = BPCY(BIOMASS_ID, PRODUCT_ID, method = 'pFBA')\n",
    "evaluator_2 = WYIELD(BIOMASS_ID, PRODUCT_ID)\n"
   ]
  },
  {
   "cell_type": "markdown",
   "id": "98af9bc1",
   "metadata": {},
   "source": [
    "#### Values for max_generations = 50"
   ]
  },
  {
   "cell_type": "code",
   "execution_count": 44,
   "id": "38faf088",
   "metadata": {},
   "outputs": [],
   "source": [
    "# build a new problem instance - gene over- or under expression optimization\n",
    "from mewpy.problems import GOUProblem\n",
    "problem4 = GOUProblem(M_1_1, fevaluation=[\n",
    "                         evaluator_1, evaluator_2], envcond=envcond)"
   ]
  },
  {
   "cell_type": "code",
   "execution_count": null,
   "id": "8b849729",
   "metadata": {},
   "outputs": [
    {
     "name": "stdout",
     "output_type": "stream",
     "text": [
      "Running NSGAII\n"
     ]
    },
    {
     "data": {
      "image/png": "[encoded data removed]",
      "text/plain": [
       "<Figure size 432x288 with 1 Axes>"
      ]
     },
     "metadata": {
      "needs_background": "light"
     },
     "output_type": "display_data"
    }
   ],
   "source": [
    "from mewpy.optimization import EA\n",
    "ea4 = EA(problem4, max_generations = 50, mp = True, visualizer=True)\n",
    "final_pop4 = ea4.run()"
   ]
  },
  {
   "cell_type": "code",
   "execution_count": 49,
   "id": "6a3df2e5",
   "metadata": {},
   "outputs": [],
   "source": [
    "from mewpy.util.io import population_to_csv\n",
    "\n",
    "population_to_csv(problem4,final_pop4,'resultsGOUpfba50rascunho.csv')"
   ]
  },
  {
   "cell_type": "code",
   "execution_count": 48,
   "id": "e61d4db4",
   "metadata": {},
   "outputs": [
    {
     "data": {
      "text/plain": [
       "[[6.562179339271493, 4.995877122537803];{'PP_1620': 0.5, 'PP_1086': 4},\n",
       " [6.55472056691787, 4.996329146947396];{'PP_1620': 0.5, 'PP_1086': 4, 'PP_3745': 0.125},\n",
       " [6.562179339271493, 4.114131306019742];{'PP_1086': 4, 'PP_5286': 32}]"
      ]
     },
     "execution_count": 48,
     "metadata": {},
     "output_type": "execute_result"
    }
   ],
   "source": [
    "final_pop4[0:280]"
   ]
  },
  {
   "cell_type": "code",
   "execution_count": null,
   "id": "1835a510",
   "metadata": {},
   "outputs": [],
   "source": []
  }
 ],
 "metadata": {
  "kernelspec": {
   "display_name": "Python 3 (ipykernel)",
   "language": "python",
   "name": "python3"
  },
  "language_info": {
   "codemirror_mode": {
    "name": "ipython",
    "version": 3
   },
   "file_extension": ".py",
   "mimetype": "text/x-python",
   "name": "python",
   "nbconvert_exporter": "python",
   "pygments_lexer": "ipython3",
   "version": "3.9.7"
  }
 },
 "nbformat": 4,
 "nbformat_minor": 5
}
